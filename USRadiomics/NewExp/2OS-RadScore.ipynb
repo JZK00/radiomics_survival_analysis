{
 "cells": [
  {
   "cell_type": "code",
   "execution_count": null,
   "metadata": {},
   "outputs": [],
   "source": [
    "import pandas as pd\n",
    "import numpy as np\n",
    "import matplotlib.pyplot as plt\n",
    "%matplotlib inline\n",
    "\n",
    "from sklearn.preprocessing import LabelEncoder\n",
    "from sklearn.preprocessing import StandardScaler\n",
    "from sklearn import model_selection\n",
    "from sklearn.linear_model import LogisticRegression\n",
    "from sklearn.feature_selection import RFE\n",
    "from sklearn import ensemble\n",
    "from sklearn import gaussian_process\n",
    "from sklearn import linear_model\n",
    "from sklearn import naive_bayes\n",
    "from sklearn import neighbors\n",
    "from sklearn import svm\n",
    "from sklearn import tree\n",
    "from sklearn import discriminant_analysis\n",
    "from sklearn.model_selection import train_test_split, GridSearchCV\n",
    "from sklearn.pipeline import Pipeline\n",
    "from sklearn.preprocessing import StandardScaler\n",
    "from sklearn.neighbors import KNeighborsClassifier\n",
    "\n",
    "import xgboost as xgb\n",
    "from xgboost import XGBClassifier\n",
    "MLA = [\n",
    "    ensemble.AdaBoostClassifier(),\n",
    "    ensemble.BaggingClassifier(),\n",
    "    ensemble.ExtraTreesClassifier(),\n",
    "    ensemble.GradientBoostingClassifier(),\n",
    "    ensemble.RandomForestClassifier(),\n",
    "    gaussian_process.GaussianProcessClassifier(),\n",
    "    linear_model.LogisticRegressionCV(),\n",
    "    linear_model.PassiveAggressiveClassifier(),\n",
    "    linear_model.RidgeClassifierCV(),\n",
    "    linear_model.SGDClassifier(),\n",
    "    linear_model.Perceptron(), \n",
    "    naive_bayes.BernoulliNB(),\n",
    "    naive_bayes.GaussianNB(),\n",
    "    neighbors.KNeighborsClassifier(), \n",
    "    svm.SVC(probability=True),\n",
    "    #svm.NuSVC(probability=True),\n",
    "    svm.LinearSVC(), \n",
    "    tree.DecisionTreeClassifier(),\n",
    "    tree.ExtraTreeClassifier(),\n",
    "    discriminant_analysis.LinearDiscriminantAnalysis(),\n",
    "    discriminant_analysis.QuadraticDiscriminantAnalysis(),\n",
    "    XGBClassifier()\n",
    "       ] \n",
    "\n",
    "import warnings\n",
    "warnings.filterwarnings('ignore')"
   ]
  },
  {
   "cell_type": "markdown",
   "metadata": {},
   "source": [
    "## Read training data"
   ]
  },
  {
   "cell_type": "code",
   "execution_count": null,
   "metadata": {},
   "outputs": [],
   "source": [
    "df = pd.read_csv('./2OS-train.csv',encoding='gbk')\n",
    "df.info()"
   ]
  },
  {
   "cell_type": "code",
   "execution_count": null,
   "metadata": {},
   "outputs": [],
   "source": [
    "df.head()"
   ]
  },
  {
   "cell_type": "code",
   "execution_count": null,
   "metadata": {},
   "outputs": [],
   "source": [
    "class_mapping = {label: idx for idx, label in enumerate(np.unique(df['2yOS']))}\n",
    "class_mapping"
   ]
  },
  {
   "cell_type": "code",
   "execution_count": null,
   "metadata": {},
   "outputs": [],
   "source": [
    "from sklearn.preprocessing import LabelEncoder\n",
    "df['2yOS'] = df['2yOS'].map(class_mapping)\n",
    "y_train = LabelEncoder().fit_transform(df['2yOS'].values)\n",
    "X0_train = df.iloc[:, 3:56].values\n",
    "X1_train = df.iloc[:, 56:159].values\n",
    "print(y_train.shape)\n",
    "print(X0_train.shape)\n",
    "print(X1_train.shape)"
   ]
  },
  {
   "cell_type": "code",
   "execution_count": null,
   "metadata": {},
   "outputs": [],
   "source": [
    "feat_labels0 = df.columns[3:56] \n",
    "feat_labels1 = df.columns[56:159] "
   ]
  },
  {
   "cell_type": "markdown",
   "metadata": {},
   "source": [
    "## Read test data"
   ]
  },
  {
   "cell_type": "code",
   "execution_count": null,
   "metadata": {},
   "outputs": [],
   "source": [
    "df1 = pd.read_csv('./2OS-test.csv',encoding='gbk')\n",
    "class_mapping = {label: idx for idx, label in enumerate(np.unique(df1['2yOS']))}\n",
    "df1['2yOS'] = df1['2yOS'].map(class_mapping)\n",
    "y_test = LabelEncoder().fit_transform(df1['2yOS'].values)\n",
    "X0_test = df1.iloc[:, 3:56].values\n",
    "X1_test = df1.iloc[:, 56:159].values\n",
    "print(y_test.shape)\n",
    "print(X0_test.shape)\n",
    "print(X1_test.shape)"
   ]
  },
  {
   "cell_type": "code",
   "execution_count": null,
   "metadata": {},
   "outputs": [],
   "source": [
    "df2 = pd.read_csv('./2OS-test1.csv',encoding='gbk')\n",
    "class_mapping = {label: idx for idx, label in enumerate(np.unique(df2['2yOS']))}\n",
    "df2['2yOS'] = df2['2yOS'].map(class_mapping)\n",
    "y_test1 = LabelEncoder().fit_transform(df2['2yOS'].values)\n",
    "X0_test1 = df2.iloc[:, 3:56].values\n",
    "X1_test1 = df2.iloc[:, 56:159].values\n",
    "print(y_test1.shape)\n",
    "print(X0_test1.shape)\n",
    "print(X1_test1.shape)"
   ]
  },
  {
   "cell_type": "code",
   "execution_count": null,
   "metadata": {},
   "outputs": [],
   "source": [
    "from sklearn.preprocessing import StandardScaler\n",
    "stdsc = StandardScaler()\n",
    "X0_std = stdsc.fit_transform(X0_train)\n",
    "X0_train = X0_std\n",
    "X0_test = stdsc.transform(X0_test)\n",
    "X0_test1 = stdsc.transform(X0_test1)\n",
    "print(X0_train.shape)\n",
    "print(X0_test.shape)\n",
    "print(X0_test1.shape)"
   ]
  },
  {
   "cell_type": "code",
   "execution_count": null,
   "metadata": {},
   "outputs": [],
   "source": [
    "stdsc = StandardScaler()\n",
    "X1_std = stdsc.fit_transform(X1_train)\n",
    "X1_train = X1_std\n",
    "X1_test = stdsc.transform(X1_test)\n",
    "X1_test1 = stdsc.transform(X1_test1)\n",
    "print(X1_train.shape)\n",
    "print(X1_test.shape)\n",
    "print(X1_test1.shape)"
   ]
  },
  {
   "cell_type": "code",
   "execution_count": null,
   "metadata": {},
   "outputs": [],
   "source": []
  },
  {
   "cell_type": "code",
   "execution_count": null,
   "metadata": {},
   "outputs": [],
   "source": [
    "import seaborn as sns\n",
    "import matplotlib\n",
    "matplotlib.rcParams['figure.figsize'] = (8.0, 8.0)\n",
    "ax = sns.countplot(x=y_train, data=df) \n",
    "print(df['2yOS'].value_counts())"
   ]
  },
  {
   "cell_type": "code",
   "execution_count": null,
   "metadata": {},
   "outputs": [],
   "source": [
    "import seaborn as sns\n",
    "ax = sns.countplot(x=y_test, data=df1)\n",
    "print(df1['2yOS'].value_counts())"
   ]
  },
  {
   "cell_type": "code",
   "execution_count": null,
   "metadata": {},
   "outputs": [],
   "source": [
    "import seaborn as sns\n",
    "ax = sns.countplot(x=y_test1, data=df2)\n",
    "print(df2['2yOS'].value_counts())"
   ]
  },
  {
   "cell_type": "code",
   "execution_count": null,
   "metadata": {},
   "outputs": [],
   "source": []
  },
  {
   "cell_type": "markdown",
   "metadata": {},
   "source": [
    "## Data preprocessing"
   ]
  },
  {
   "cell_type": "markdown",
   "metadata": {},
   "source": [
    "### Clinical features"
   ]
  },
  {
   "cell_type": "code",
   "execution_count": null,
   "metadata": {},
   "outputs": [],
   "source": [
    "from imblearn.over_sampling import SVMSMOTE\n",
    "from imblearn.pipeline import make_pipeline\n",
    "sm = SVMSMOTE(random_state=11)\n",
    "X00_train, y00_train = sm.fit_resample(X0_train, y_train)"
   ]
  },
  {
   "cell_type": "code",
   "execution_count": null,
   "metadata": {},
   "outputs": [],
   "source": [
    "unique, count = np.unique(y00_train, return_counts=True)\n",
    "y00_train_smote_value_count = { k:v for (k,v) in zip(unique, count)}\n",
    "y00_train_smote_value_count"
   ]
  },
  {
   "cell_type": "code",
   "execution_count": null,
   "metadata": {},
   "outputs": [],
   "source": [
    "print(y00_train.shape)\n",
    "print(X00_train.shape)"
   ]
  },
  {
   "cell_type": "code",
   "execution_count": null,
   "metadata": {},
   "outputs": [],
   "source": [
    "new_df = pd.DataFrame(X00_train)\n",
    "new_df1 = pd.DataFrame(y00_train)\n",
    "new_df.head()"
   ]
  },
  {
   "cell_type": "markdown",
   "metadata": {},
   "source": [
    "### Radiomics features"
   ]
  },
  {
   "cell_type": "code",
   "execution_count": null,
   "metadata": {},
   "outputs": [],
   "source": [
    "from imblearn.over_sampling import SVMSMOTE\n",
    "from imblearn.pipeline import make_pipeline\n",
    "sm = SVMSMOTE(random_state=11)\n",
    "X11_train, y11_train = sm.fit_resample(X1_train, y_train)"
   ]
  },
  {
   "cell_type": "code",
   "execution_count": null,
   "metadata": {},
   "outputs": [],
   "source": [
    "unique, count = np.unique(y00_train, return_counts=True)\n",
    "y11_train_smote_value_count = { k:v for (k,v) in zip(unique, count)}\n",
    "y11_train_smote_value_count"
   ]
  },
  {
   "cell_type": "code",
   "execution_count": null,
   "metadata": {},
   "outputs": [],
   "source": [
    "print(y11_train.shape)\n",
    "print(X11_train.shape)"
   ]
  },
  {
   "cell_type": "code",
   "execution_count": null,
   "metadata": {},
   "outputs": [],
   "source": [
    "new_df = pd.DataFrame(X11_train)\n",
    "new_df1 = pd.DataFrame(y11_train)\n",
    "new_df.head()"
   ]
  },
  {
   "cell_type": "markdown",
   "metadata": {},
   "source": [
    "## Feature Selection"
   ]
  },
  {
   "cell_type": "code",
   "execution_count": null,
   "metadata": {},
   "outputs": [],
   "source": [
    "import matplotlib\n",
    "matplotlib.rcParams['figure.figsize'] = (20.0, 20.0)\n",
    "# set XGBoost's parameters\n",
    "params = {\n",
    "    'booster': 'gbtree',\n",
    "    #'objective': 'binary:hinge',  #'binary:logistic', \n",
    "    'objective':'multi:softmax',\n",
    "    'eval_metric':'auc',\n",
    "    'num_class': 2, \n",
    "    #'gamma': 0.1,\n",
    "    'max_depth': 10,\n",
    "    #'alpha':1,\n",
    "    'lambda': 1,\n",
    "    #'subsample': 1,\n",
    "    #'colsample_bytree': 1,\n",
    "    #'min_child_weight': 3,\n",
    "    #'scale_pos_weight':4,\n",
    "    #'silent': 1,\n",
    "    'eta': 0.01,\n",
    "    'seed': 100,\n",
    "    #'nthread': 4,    \n",
    "}\n",
    "\n",
    "plst = list(params.items())\n",
    "# trian\n",
    "dtrain = xgb.DMatrix(X00_train, y00_train)\n",
    "num_rounds = 500\n",
    "model = xgb.train(plst, dtrain, num_rounds)\n",
    "\n",
    "# test\n",
    "dtest = xgb.DMatrix(X00_train)\n",
    "ans = model.predict(dtest)\n",
    "\n",
    "# calculate\n",
    "cnt1 = 0\n",
    "cnt2 = 0\n",
    "for i in range(len(y00_train)):\n",
    "    if ans[i] == y00_train[i]:\n",
    "        cnt1 += 1\n",
    "    else:\n",
    "        cnt2 += 1\n",
    "\n",
    "print(\"Accuracy: %.2f %% \" % (100 * cnt1 / (cnt1 + cnt2)))\n",
    "\n",
    "# show the importance, for feature selection\n",
    "xgb.plot_importance(model, importance_type='weight')\n",
    "#plt.savefig('fig2-new.jpg',dpi=1200)\n",
    "plt.show()"
   ]
  },
  {
   "cell_type": "code",
   "execution_count": null,
   "metadata": {},
   "outputs": [],
   "source": [
    "matplotlib.rcParams['figure.figsize'] = (8.0, 8.0)\n",
    "xgb.plot_importance(model,max_num_features=10, importance_type='weight') #or gain, cover.\n",
    "#plt.savefig('2OS-1.jpg',dpi=1200)"
   ]
  },
  {
   "cell_type": "code",
   "execution_count": null,
   "metadata": {},
   "outputs": [],
   "source": [
    "feat_labels0[[1,50,15,52,4,44,51,22,0,6]]"
   ]
  },
  {
   "cell_type": "code",
   "execution_count": null,
   "metadata": {},
   "outputs": [],
   "source": []
  },
  {
   "cell_type": "code",
   "execution_count": null,
   "metadata": {},
   "outputs": [],
   "source": [
    "import matplotlib\n",
    "matplotlib.rcParams['figure.figsize'] = (20.0, 20.0)\n",
    "# set XGBoost's parameters\n",
    "params = {\n",
    "    'booster': 'gbtree',\n",
    "    #'objective': 'binary:hinge',  #'binary:logistic', \n",
    "    'objective':'multi:softmax',\n",
    "    'eval_metric':'auc',\n",
    "    'num_class': 2, \n",
    "    #'gamma': 0.1,\n",
    "    'max_depth': 10,\n",
    "    #'alpha':1,\n",
    "    'lambda': 1,\n",
    "    #'subsample': 1,\n",
    "    #'colsample_bytree': 1,\n",
    "    #'min_child_weight': 3,\n",
    "    #'scale_pos_weight':4,\n",
    "    #'silent': 1,\n",
    "    'eta': 0.01,\n",
    "    'seed': 100,\n",
    "    #'nthread': 4,    \n",
    "}\n",
    "\n",
    "plst = list(params.items())\n",
    "# trian\n",
    "dtrain = xgb.DMatrix(X11_train, y11_train)\n",
    "num_rounds = 500\n",
    "model = xgb.train(plst, dtrain, num_rounds)\n",
    "\n",
    "# test\n",
    "dtest = xgb.DMatrix(X11_train)\n",
    "ans = model.predict(dtest)\n",
    "\n",
    "# calculate\n",
    "cnt1 = 0\n",
    "cnt2 = 0\n",
    "for i in range(len(y11_train)):\n",
    "    if ans[i] == y11_train[i]:\n",
    "        cnt1 += 1\n",
    "    else:\n",
    "        cnt2 += 1\n",
    "\n",
    "print(\"Accuracy: %.2f %% \" % (100 * cnt1 / (cnt1 + cnt2)))\n",
    "\n",
    "# show the importance, for feature selection\n",
    "xgb.plot_importance(model, importance_type='weight')\n",
    "#plt.savefig('fig2-new.jpg',dpi=1200)\n",
    "plt.show()"
   ]
  },
  {
   "cell_type": "code",
   "execution_count": null,
   "metadata": {},
   "outputs": [],
   "source": [
    "matplotlib.rcParams['figure.figsize'] = (8.0, 8.0)\n",
    "xgb.plot_importance(model,max_num_features=10, importance_type='weight') #or gain, cover.\n",
    "#plt.savefig('2OS-2.jpg',dpi=1200)"
   ]
  },
  {
   "cell_type": "code",
   "execution_count": null,
   "metadata": {},
   "outputs": [],
   "source": [
    "feat_labels1[[12,3,23,87,10,99,62,42,39,16]]"
   ]
  },
  {
   "cell_type": "code",
   "execution_count": null,
   "metadata": {},
   "outputs": [],
   "source": []
  },
  {
   "cell_type": "code",
   "execution_count": null,
   "metadata": {},
   "outputs": [],
   "source": [
    "X0 = X00_train[:,[1,50,15,52,4,44,51,22,0,6]]\n",
    "X1 = X11_train[:,[12,3,23,87,10,99,62,42,39,16]]\n",
    "X2 = X0_test[:,[1,50,15,52,4,44,51,22,0,6]]\n",
    "X3 = X1_test[:,[12,3,23,87,10,99,62,42,39,16]]\n",
    "X4 = X0_test1[:,[1,50,15,52,4,44,51,22,0,6]]\n",
    "X5 = X1_test1[:,[12,3,23,87,10,99,62,42,39,16]]\n",
    "y0 = y00_train\n",
    "y1 = y11_train\n",
    "y2 = y_test\n",
    "y3 = y_test\n",
    "y4 = y_test1\n",
    "y5 = y_test1\n",
    "\n",
    "print(\"the training clinical data:\")\n",
    "print(X0.shape)\n",
    "print(y0.shape)\n",
    "print(\"the training radiomics data:\")\n",
    "print(X1.shape) #\n",
    "print(y1.shape)\n",
    "print(\"the test clinical data:\")\n",
    "print(X2.shape) #\n",
    "print(y2.shape)\n",
    "print(\"the test radiomics data:\")\n",
    "print(X3.shape) #\n",
    "print(y3.shape)\n",
    "\n",
    "print(X4.shape) #\n",
    "print(X5.shape) \n",
    "print(y4.shape)"
   ]
  },
  {
   "cell_type": "code",
   "execution_count": null,
   "metadata": {},
   "outputs": [],
   "source": []
  },
  {
   "cell_type": "markdown",
   "metadata": {},
   "source": [
    "## Select modeling method"
   ]
  },
  {
   "cell_type": "code",
   "execution_count": null,
   "metadata": {},
   "outputs": [],
   "source": [
    "clf1 = LogisticRegression(penalty='l2',C=1, multi_class='auto',solver='liblinear',random_state=1)\n",
    "clf2 = tree.DecisionTreeClassifier(random_state=1)\n",
    "clf3 = ensemble.RandomForestClassifier(random_state=1)\n",
    "clf4 = XGBClassifier(random_state=1)\n",
    "clf5 = svm.SVC(probability=True, random_state=1)"
   ]
  },
  {
   "cell_type": "markdown",
   "metadata": {},
   "source": [
    "### Clinical signature"
   ]
  },
  {
   "cell_type": "code",
   "execution_count": null,
   "metadata": {},
   "outputs": [],
   "source": [
    "from sklearn.metrics import roc_curve\n",
    "from sklearn.metrics import auc\n",
    "from sklearn import model_selection\n",
    "from scipy import interp\n",
    "import matplotlib\n",
    "from sklearn.metrics import accuracy_score\n",
    "from sklearn.metrics import precision_score, recall_score\n",
    "from sklearn.metrics import auc, f1_score, roc_auc_score, roc_curve\n",
    "from pylab import rcParams\n",
    "\n",
    "cv = model_selection.ShuffleSplit(n_splits = 5, test_size = 0.2, random_state = 1)\n",
    "tprs = []\n",
    "aucs = []\n",
    "mean_fpr = np.linspace(0, 1, 100)\n",
    "i = 0\n",
    "plt.xticks(np.arange(0, 1.1, step=0.1))\n",
    "plt.yticks(np.arange(0, 1.1, step=0.1))\n",
    "matplotlib.rcParams['figure.figsize'] = (8.0, 8.0)\n",
    "\n",
    "for train, test in cv.split(X0, y0):\n",
    "    probas_ = clf1.fit(X0[train], y0[train]).predict_proba(X0[test])\n",
    "    # Compute ROC curve and area the curve\n",
    "    fpr, tpr, thresholds = roc_curve(y0[test], probas_[:, 1])\n",
    "    tprs.append(interp(mean_fpr, fpr, tpr))\n",
    "    tprs[-1][0] = 0.0\n",
    "    roc_auc = auc(fpr, tpr)\n",
    "    #optimal_th, optimal_point = Find_Optimal_Cutoff(TPR=tpr, FPR=fpr, threshold=thresholds) ###\n",
    "    aucs.append(roc_auc)\n",
    "    #plt.plot(fpr, tpr, lw=1, alpha=0.6,label='ROC fold %d (AUC = %0.2f)' % (i, roc_auc))\n",
    "    i += 1\n",
    "\n",
    "plt.plot([0, 1], [0, 1], linestyle='--', lw=1, color='gray', alpha=1)\n",
    "mean_tpr = np.mean(tprs, axis=0)\n",
    "mean_tpr[-1] = 1.0\n",
    "mean_auc = auc(mean_fpr, mean_tpr)\n",
    "#optimal_th, optimal_point = Find_Optimal_Cutoff(TPR=mean_tpr, mean_fpr, threshold=thresholds)\n",
    "std_auc = np.std(aucs)\n",
    "plt.plot(mean_fpr, mean_tpr, color='b',label=r'Logistic Regression (AUC = %0.2f $\\pm$ %0.2f)' % (mean_auc, std_auc),lw=2)\n",
    "std_tpr = np.std(tprs, axis=0)\n",
    "tprs_upper = np.minimum(mean_tpr + std_tpr, 1)\n",
    "tprs_lower = np.maximum(mean_tpr - std_tpr, 0)\n",
    "#############################################################\n",
    "for train, test in cv.split(X0, y0):\n",
    "    probas_ = clf2.fit(X0[train], y0[train]).predict_proba(X0[test])\n",
    "    # Compute ROC curve and area the curve\n",
    "    fpr, tpr, thresholds = roc_curve(y0[test], probas_[:, 1])\n",
    "    tprs.append(interp(mean_fpr, fpr, tpr))\n",
    "    tprs[-1][0] = 0.0\n",
    "    roc_auc = auc(fpr, tpr)\n",
    "    aucs.append(roc_auc)\n",
    "    #plt.plot(fpr, tpr, lw=1, alpha=0.6,label='ROC fold %d (AUC = %0.2f)' % (i, roc_auc))\n",
    "    i += 1\n",
    "#matplotlib.rcParams['figure.figsize'] = (6.0, 6.0)\n",
    "#plt.plot([0, 1], [0, 1], linestyle='--', lw=1, color='gray', alpha=.6)\n",
    "mean_tpr = np.mean(tprs, axis=0)\n",
    "mean_tpr[-1] = 1.0\n",
    "mean_auc = auc(mean_fpr, mean_tpr)\n",
    "std_auc = np.std(aucs)\n",
    "plt.plot(mean_fpr, mean_tpr, color='red',label=r'Decision Tree (AUC = %0.2f $\\pm$ %0.2f)' % (mean_auc, std_auc),lw=2)\n",
    "std_tpr = np.std(tprs, axis=0)\n",
    "tprs_upper = np.minimum(mean_tpr + std_tpr, 1)\n",
    "tprs_lower = np.maximum(mean_tpr - std_tpr, 0)\n",
    "################################################################\n",
    "\n",
    "for train, test in cv.split(X0, y0):\n",
    "    probas_ = clf3.fit(X0[train], y0[train]).predict_proba(X0[test])\n",
    "    # Compute ROC curve and area the curve\n",
    "    fpr, tpr, thresholds = roc_curve(y0[test], probas_[:, 1])\n",
    "    tprs.append(interp(mean_fpr, fpr, tpr))\n",
    "    tprs[-1][0] = 0.0\n",
    "    roc_auc = auc(fpr, tpr)\n",
    "    aucs.append(roc_auc)\n",
    "    #plt.plot(fpr, tpr, lw=1, alpha=0.6,label='ROC fold %d (AUC = %0.2f)' % (i, roc_auc))\n",
    "    i += 1\n",
    "#matplotlib.rcParams['figure.figsize'] = (6.0, 6.0)\n",
    "#plt.plot([0, 1], [0, 1], linestyle='--', lw=1, color='gray', alpha=.6)\n",
    "mean_tpr = np.mean(tprs, axis=0)\n",
    "mean_tpr[-1] = 1.0\n",
    "mean_auc = auc(mean_fpr, mean_tpr)\n",
    "std_auc = np.std(aucs)\n",
    "plt.plot(mean_fpr, mean_tpr, color='green',label=r'Random Forest (AUC = %0.2f $\\pm$ %0.2f)' % (mean_auc, std_auc),lw=2)\n",
    "std_tpr = np.std(tprs, axis=0)\n",
    "tprs_upper = np.minimum(mean_tpr + std_tpr, 1)\n",
    "tprs_lower = np.maximum(mean_tpr - std_tpr, 0)\n",
    "#################################################################\n",
    "for train, test in cv.split(X0, y0):\n",
    "    probas_ = clf4.fit(X0[train], y0[train]).predict_proba(X0[test])\n",
    "    # Compute ROC curve and area the curve\n",
    "    fpr, tpr, thresholds = roc_curve(y0[test], probas_[:, 1])\n",
    "    tprs.append(interp(mean_fpr, fpr, tpr))\n",
    "    tprs[-1][0] = 0.0\n",
    "    roc_auc = auc(fpr, tpr)\n",
    "    aucs.append(roc_auc)\n",
    "    #plt.plot(fpr, tpr, lw=1, alpha=0.6,label='ROC fold %d (AUC = %0.2f)' % (i, roc_auc))\n",
    "    i += 1\n",
    "#matplotlib.rcParams['figure.figsize'] = (6.0, 6.0)\n",
    "#plt.plot([0, 1], [0, 1], linestyle='--', lw=1, color='gray', alpha=.6)\n",
    "mean_tpr = np.mean(tprs, axis=0)\n",
    "mean_tpr[-1] = 1.0\n",
    "mean_auc = auc(mean_fpr, mean_tpr)\n",
    "std_auc = np.std(aucs)\n",
    "plt.plot(mean_fpr, mean_tpr, color='yellow',linestyle='-',label=r'XGboost (AUC = %0.2f $\\pm$ %0.2f)' % (mean_auc, std_auc),lw=2)\n",
    "std_tpr = np.std(tprs, axis=0)\n",
    "tprs_upper = np.minimum(mean_tpr + std_tpr, 1)\n",
    "tprs_lower = np.maximum(mean_tpr - std_tpr, 0)\n",
    "#################################################################\n",
    "for train, test in cv.split(X0, y0):\n",
    "    probas_ = clf5.fit(X0[train], y0[train]).predict_proba(X0[test])\n",
    "    # Compute ROC curve and area the curve\n",
    "    fpr, tpr, thresholds = roc_curve(y0[test], probas_[:, 1])\n",
    "    tprs.append(interp(mean_fpr, fpr, tpr))\n",
    "    tprs[-1][0] = 0.0\n",
    "    roc_auc = auc(fpr, tpr)\n",
    "    aucs.append(roc_auc)\n",
    "    #plt.plot(fpr, tpr, lw=1, alpha=0.6,label='ROC fold %d (AUC = %0.2f)' % (i, roc_auc))\n",
    "    i += 1\n",
    "#matplotlib.rcParams['figure.figsize'] = (6.0, 6.0)\n",
    "#plt.plot([0, 1], [0, 1], linestyle='--', lw=1, color='gray', alpha=.6)\n",
    "mean_tpr = np.mean(tprs, axis=0)\n",
    "mean_tpr[-1] = 1.0\n",
    "mean_auc = auc(mean_fpr, mean_tpr)\n",
    "std_auc = np.std(aucs)\n",
    "plt.plot(mean_fpr, mean_tpr, color='black',linestyle='-', label=r'Support Vector Machine (AUC = %0.2f $\\pm$ %0.2f)' % (mean_auc, std_auc),lw=2)\n",
    "std_tpr = np.std(tprs, axis=0)\n",
    "tprs_upper = np.minimum(mean_tpr + std_tpr, 1)\n",
    "tprs_lower = np.maximum(mean_tpr - std_tpr, 0)\n",
    "\n",
    "#################################################################\n",
    "#plt.fill_between(mean_fpr, tprs_lower, tprs_upper, color='grey', alpha=.2,label=r'$\\pm$ 1 std. dev.')\n",
    "#plt.xlim([-0, 1])\n",
    "#plt.ylim([-0, 1])\n",
    "plt.xlabel('1-Specificity', fontsize = 'x-large')\n",
    "plt.ylabel('Sensitivity', fontsize = 'x-large')\n",
    "#plt.title('Receiver operating characteristic example')\n",
    "plt.legend(loc=\"lower right\" ,\n",
    "           fontsize = 'x-large'\n",
    "          )\n",
    "#plt.plot(optimal_point[0], optimal_point[1], marker='o', color='r')\n",
    "#plt.text(optimal_point[0], optimal_point[1], f'Threshold:{optimal_th:.2f}')\n",
    "\n",
    "plt.savefig('2OS-ROC1.jpg',dpi=1200)\n",
    "plt.show()"
   ]
  },
  {
   "cell_type": "code",
   "execution_count": null,
   "metadata": {},
   "outputs": [],
   "source": []
  },
  {
   "cell_type": "markdown",
   "metadata": {},
   "source": [
    "### Radiomics signature"
   ]
  },
  {
   "cell_type": "code",
   "execution_count": null,
   "metadata": {},
   "outputs": [],
   "source": [
    "clf1 = LogisticRegression(penalty='l2',C=1, multi_class='auto',solver='liblinear',random_state=1)\n",
    "clf2 = tree.DecisionTreeClassifier(random_state=1)\n",
    "clf3 = ensemble.RandomForestClassifier(random_state=1)\n",
    "clf4 = XGBClassifier(random_state=1)\n",
    "clf5 = svm.SVC(probability=True, random_state=1)"
   ]
  },
  {
   "cell_type": "code",
   "execution_count": null,
   "metadata": {},
   "outputs": [],
   "source": [
    "from sklearn.metrics import roc_curve\n",
    "from sklearn.metrics import auc\n",
    "from sklearn import model_selection\n",
    "from scipy import interp\n",
    "import matplotlib\n",
    "from sklearn.metrics import accuracy_score\n",
    "from sklearn.metrics import precision_score, recall_score\n",
    "from sklearn.metrics import auc, f1_score, roc_auc_score, roc_curve\n",
    "from pylab import rcParams\n",
    "\n",
    "cv = model_selection.ShuffleSplit(n_splits = 5, test_size = 0.2, random_state = 1)\n",
    "tprs = []\n",
    "aucs = []\n",
    "mean_fpr = np.linspace(0, 1, 100)\n",
    "i = 0\n",
    "plt.xticks(np.arange(0, 1.1, step=0.1))\n",
    "plt.yticks(np.arange(0, 1.1, step=0.1))\n",
    "matplotlib.rcParams['figure.figsize'] = (8.0, 8.0)\n",
    "\n",
    "for train, test in cv.split(X1, y1):\n",
    "    probas_ = clf1.fit(X1[train], y1[train]).predict_proba(X1[test])\n",
    "    # Compute ROC curve and area the curve\n",
    "    fpr, tpr, thresholds = roc_curve(y1[test], probas_[:, 1])\n",
    "    tprs.append(interp(mean_fpr, fpr, tpr))\n",
    "    tprs[-1][0] = 0.0\n",
    "    roc_auc = auc(fpr, tpr)\n",
    "    #optimal_th, optimal_point = Find_Optimal_Cutoff(TPR=tpr, FPR=fpr, threshold=thresholds) ###\n",
    "    aucs.append(roc_auc)\n",
    "    #plt.plot(fpr, tpr, lw=1, alpha=0.6,label='ROC fold %d (AUC = %0.2f)' % (i, roc_auc))\n",
    "    i += 1\n",
    "\n",
    "plt.plot([0, 1], [0, 1], linestyle='--', lw=1, color='gray', alpha=1)\n",
    "mean_tpr = np.mean(tprs, axis=0)\n",
    "mean_tpr[-1] = 1.0\n",
    "mean_auc = auc(mean_fpr, mean_tpr)\n",
    "#optimal_th, optimal_point = Find_Optimal_Cutoff(TPR=mean_tpr, mean_fpr, threshold=thresholds)\n",
    "std_auc = np.std(aucs)\n",
    "plt.plot(mean_fpr, mean_tpr, color='b',label=r'Logistic Regression (AUC = %0.2f $\\pm$ %0.2f)' % (mean_auc, std_auc),lw=2)\n",
    "std_tpr = np.std(tprs, axis=0)\n",
    "tprs_upper = np.minimum(mean_tpr + std_tpr, 1)\n",
    "tprs_lower = np.maximum(mean_tpr - std_tpr, 0)\n",
    "#############################################################\n",
    "for train, test in cv.split(X1, y1):\n",
    "    probas_ = clf2.fit(X1[train], y1[train]).predict_proba(X1[test])\n",
    "    # Compute ROC curve and area the curve\n",
    "    fpr, tpr, thresholds = roc_curve(y1[test], probas_[:, 1])\n",
    "    tprs.append(interp(mean_fpr, fpr, tpr))\n",
    "    tprs[-1][0] = 0.0\n",
    "    roc_auc = auc(fpr, tpr)\n",
    "    aucs.append(roc_auc)\n",
    "    #plt.plot(fpr, tpr, lw=1, alpha=0.6,label='ROC fold %d (AUC = %0.2f)' % (i, roc_auc))\n",
    "    i += 1\n",
    "#matplotlib.rcParams['figure.figsize'] = (6.0, 6.0)\n",
    "#plt.plot([0, 1], [0, 1], linestyle='--', lw=1, color='gray', alpha=.6)\n",
    "mean_tpr = np.mean(tprs, axis=0)\n",
    "mean_tpr[-1] = 1.0\n",
    "mean_auc = auc(mean_fpr, mean_tpr)\n",
    "std_auc = np.std(aucs)\n",
    "plt.plot(mean_fpr, mean_tpr, color='red',label=r'Decision Tree (AUC = %0.2f $\\pm$ %0.2f)' % (mean_auc, std_auc),lw=2)\n",
    "std_tpr = np.std(tprs, axis=0)\n",
    "tprs_upper = np.minimum(mean_tpr + std_tpr, 1)\n",
    "tprs_lower = np.maximum(mean_tpr - std_tpr, 0)\n",
    "################################################################\n",
    "\n",
    "for train, test in cv.split(X1, y1):\n",
    "    probas_ = clf3.fit(X1[train], y1[train]).predict_proba(X1[test])\n",
    "    # Compute ROC curve and area the curve\n",
    "    fpr, tpr, thresholds = roc_curve(y1[test], probas_[:, 1])\n",
    "    tprs.append(interp(mean_fpr, fpr, tpr))\n",
    "    tprs[-1][0] = 0.0\n",
    "    roc_auc = auc(fpr, tpr)\n",
    "    aucs.append(roc_auc)\n",
    "    #plt.plot(fpr, tpr, lw=1, alpha=0.6,label='ROC fold %d (AUC = %0.2f)' % (i, roc_auc))\n",
    "    i += 1\n",
    "#matplotlib.rcParams['figure.figsize'] = (6.0, 6.0)\n",
    "#plt.plot([0, 1], [0, 1], linestyle='--', lw=1, color='gray', alpha=.6)\n",
    "mean_tpr = np.mean(tprs, axis=0)\n",
    "mean_tpr[-1] = 1.0\n",
    "mean_auc = auc(mean_fpr, mean_tpr)\n",
    "std_auc = np.std(aucs)\n",
    "plt.plot(mean_fpr, mean_tpr, color='green',label=r'Random Forest (AUC = %0.2f $\\pm$ %0.2f)' % (mean_auc, std_auc),lw=2)\n",
    "std_tpr = np.std(tprs, axis=0)\n",
    "tprs_upper = np.minimum(mean_tpr + std_tpr, 1)\n",
    "tprs_lower = np.maximum(mean_tpr - std_tpr, 0)\n",
    "#################################################################\n",
    "for train, test in cv.split(X1, y1):\n",
    "    probas_ = clf4.fit(X1[train], y1[train]).predict_proba(X1[test])\n",
    "    # Compute ROC curve and area the curve\n",
    "    fpr, tpr, thresholds = roc_curve(y1[test], probas_[:, 1])\n",
    "    tprs.append(interp(mean_fpr, fpr, tpr))\n",
    "    tprs[-1][0] = 0.0\n",
    "    roc_auc = auc(fpr, tpr)\n",
    "    aucs.append(roc_auc)\n",
    "    #plt.plot(fpr, tpr, lw=1, alpha=0.6,label='ROC fold %d (AUC = %0.2f)' % (i, roc_auc))\n",
    "    i += 1\n",
    "#matplotlib.rcParams['figure.figsize'] = (6.0, 6.0)\n",
    "#plt.plot([0, 1], [0, 1], linestyle='--', lw=1, color='gray', alpha=.6)\n",
    "mean_tpr = np.mean(tprs, axis=0)\n",
    "mean_tpr[-1] = 1.0\n",
    "mean_auc = auc(mean_fpr, mean_tpr)\n",
    "std_auc = np.std(aucs)\n",
    "plt.plot(mean_fpr, mean_tpr, color='yellow',linestyle='-',label=r'XGboost (AUC = %0.2f $\\pm$ %0.2f)' % (mean_auc, std_auc),lw=2)\n",
    "std_tpr = np.std(tprs, axis=0)\n",
    "tprs_upper = np.minimum(mean_tpr + std_tpr, 1)\n",
    "tprs_lower = np.maximum(mean_tpr - std_tpr, 0)\n",
    "#################################################################\n",
    "for train, test in cv.split(X1, y1):\n",
    "    probas_ = clf5.fit(X1[train], y1[train]).predict_proba(X1[test])\n",
    "    # Compute ROC curve and area the curve\n",
    "    fpr, tpr, thresholds = roc_curve(y1[test], probas_[:, 1])\n",
    "    tprs.append(interp(mean_fpr, fpr, tpr))\n",
    "    tprs[-1][0] = 0.0\n",
    "    roc_auc = auc(fpr, tpr)\n",
    "    aucs.append(roc_auc)\n",
    "    #plt.plot(fpr, tpr, lw=1, alpha=0.6,label='ROC fold %d (AUC = %0.2f)' % (i, roc_auc))\n",
    "    i += 1\n",
    "#matplotlib.rcParams['figure.figsize'] = (6.0, 6.0)\n",
    "#plt.plot([0, 1], [0, 1], linestyle='--', lw=1, color='gray', alpha=.6)\n",
    "mean_tpr = np.mean(tprs, axis=0)\n",
    "mean_tpr[-1] = 1.0\n",
    "mean_auc = auc(mean_fpr, mean_tpr)\n",
    "std_auc = np.std(aucs)\n",
    "plt.plot(mean_fpr, mean_tpr, color='black',linestyle='-', label=r'Support Vector Machine (AUC = %0.2f $\\pm$ %0.2f)' % (mean_auc, std_auc),lw=2)\n",
    "std_tpr = np.std(tprs, axis=0)\n",
    "tprs_upper = np.minimum(mean_tpr + std_tpr, 1)\n",
    "tprs_lower = np.maximum(mean_tpr - std_tpr, 0)\n",
    "\n",
    "#################################################################\n",
    "#plt.fill_between(mean_fpr, tprs_lower, tprs_upper, color='grey', alpha=.2,label=r'$\\pm$ 1 std. dev.')\n",
    "#plt.xlim([-0, 1])\n",
    "#plt.ylim([-0, 1])\n",
    "plt.xlabel('1-Specificity', fontsize = 'x-large')\n",
    "plt.ylabel('Sensitivity', fontsize = 'x-large')\n",
    "#plt.title('Receiver operating characteristic example')\n",
    "plt.legend(loc=\"lower right\" ,\n",
    "           fontsize = 'x-large'\n",
    "          )\n",
    "#plt.plot(optimal_point[0], optimal_point[1], marker='o', color='r')\n",
    "#plt.text(optimal_point[0], optimal_point[1], f'Threshold:{optimal_th:.2f}')\n",
    "\n",
    "plt.savefig('2OS-ROC2.jpg',dpi=1200)\n",
    "plt.show()"
   ]
  },
  {
   "cell_type": "code",
   "execution_count": null,
   "metadata": {},
   "outputs": [],
   "source": []
  },
  {
   "cell_type": "markdown",
   "metadata": {},
   "source": [
    "## Modeling & Validation"
   ]
  },
  {
   "cell_type": "markdown",
   "metadata": {},
   "source": [
    "### Clinical Score"
   ]
  },
  {
   "cell_type": "code",
   "execution_count": null,
   "metadata": {},
   "outputs": [],
   "source": [
    "model = svm.SVC(probability=True, random_state=1)\n",
    "\n",
    "matplotlib.rcParams['figure.figsize'] = (8.0, 8.0)\n",
    "cv = model_selection.ShuffleSplit(n_splits = 5, test_size = 0.2, random_state = 1)\n",
    "tprs = []\n",
    "aucs = []\n",
    "mean_fpr = np.linspace(0, 1, 100)\n",
    "i = 0\n",
    "plt.xticks(np.arange(0, 1.1, step=0.1))\n",
    "plt.yticks(np.arange(0, 1.1, step=0.1))\n",
    "\n",
    "for train, test in cv.split(X0, y0):\n",
    "    probas_ = model.fit(X0[train], y0[train]).predict_proba(X0[test])\n",
    "    # Compute ROC curve and area the curve\n",
    "    fpr, tpr, thresholds = roc_curve(y0[test], probas_[:, 1])\n",
    "    tprs.append(interp(mean_fpr, fpr, tpr))\n",
    "    tprs[-1][0] = 0.0\n",
    "    roc_auc = auc(fpr, tpr)\n",
    "    #optimal_th, optimal_point = Find_Optimal_Cutoff(TPR=tpr, FPR=fpr, threshold=thresholds) ###\n",
    "    aucs.append(roc_auc)\n",
    "    plt.plot(fpr, tpr, lw=1, alpha=0.6,label='ROC fold %d (AUC = %0.2f)' % (i, roc_auc))\n",
    "    i += 1\n",
    "plt.fill_between(mean_fpr, tprs_lower, tprs_upper, color='grey', alpha=.2,label=r'$\\pm$ 1 std. dev.')\n",
    "plt.plot([0, 1], [0, 1], linestyle='--', lw=1, color='gray', alpha=1)\n",
    "mean_tpr = np.mean(tprs, axis=0)\n",
    "mean_tpr[-1] = 1.0\n",
    "mean_auc = auc(mean_fpr, mean_tpr)\n",
    "#optimal_th, optimal_point = Find_Optimal_Cutoff(TPR=mean_tpr, mean_fpr, threshold=thresholds)\n",
    "std_auc = np.std(aucs)\n",
    "plt.plot(mean_fpr, mean_tpr, color='b',label=r'mean ROC (AUC = %0.2f $\\pm$ %0.2f)' % (mean_auc, std_auc),lw=2)\n",
    "std_tpr = np.std(tprs, axis=0)\n",
    "tprs_upper = np.minimum(mean_tpr + std_tpr, 1)\n",
    "tprs_lower = np.maximum(mean_tpr - std_tpr, 0)\n",
    "\n",
    "plt.xlabel('1-Specificity', fontsize = 'xx-large')\n",
    "plt.ylabel('Sensitivity', fontsize = 'xx-large')\n",
    "#plt.title('Receiver operating characteristic example')\n",
    "plt.legend(loc=\"lower right\" ,\n",
    "           fontsize = 'xx-large'\n",
    "          )\n",
    "#plt.plot(optimal_point[0], optimal_point[1], marker='o', color='r')\n",
    "#plt.text(optimal_point[0], optimal_point[1], f'Threshold:{optimal_th:.2f}')\n",
    "\n",
    "#plt.savefig('2OS-5.jpg',dpi=1200)\n",
    "plt.show()"
   ]
  },
  {
   "cell_type": "code",
   "execution_count": null,
   "metadata": {},
   "outputs": [],
   "source": [
    "tprs = []\n",
    "aucs = []\n",
    "mean_fpr = np.linspace(0, 1, 100)\n",
    "i = 0\n",
    "plt.xticks(np.arange(0, 1.1, step=0.1))\n",
    "plt.yticks(np.arange(0, 1.1, step=0.1))\n",
    "probas_ = model.predict_proba(X0)\n",
    "fpr, tpr, thresholds = roc_curve(y0, probas_[:, 1])\n",
    "fpr=fpr\n",
    "tpr=tpr\n",
    "roc_auc = auc(fpr, tpr)\n",
    "aucs.append(roc_auc)\n",
    "#plt.plot(fpr, tpr, lw=1, alpha=0.3,label='ROC fold %d (AUC = %0.2f)' % (i, roc_auc))\n",
    "plt.plot(fpr, tpr, color='blue', alpha=1, lw=2, linestyle='-',label='Train ROC (AUC = %0.2f)' % roc_auc) \n",
    "#plt.plot([0, 1], [0, 1], color='gray', lw=1, linestyle='--',alpha=.6)\n",
    "#plt.plot([0, 1], [0, 1], linestyle='--', lw=1, color='gray', alpha=1)\n",
    "\n",
    "probas_ = model.predict_proba(X2)\n",
    "fpr, tpr, thresholds = roc_curve(y2, probas_[:, 1])\n",
    "fpr=fpr\n",
    "tpr=tpr\n",
    "roc_auc = auc(fpr, tpr)\n",
    "aucs.append(roc_auc)\n",
    "#plt.plot(fpr, tpr, lw=1, alpha=0.3,label='ROC fold %d (AUC = %0.2f)' % (i, roc_auc))\n",
    "plt.plot(fpr, tpr, color='green', alpha=1, lw=2, linestyle='-',label='Test ROC (AUC = %0.2f)' % roc_auc) \n",
    "#plt.plot([0, 1], [0, 1], color='gray', lw=1, linestyle='--',alpha=.6)\n",
    "plt.plot([0, 1], [0, 1], linestyle='--', lw=1, color='gray', alpha=1)\n",
    "\n",
    "#plt.fill_between(mean_fpr, tprs_lower, tprs_upper, color='grey', alpha=.2,label=r'$\\pm$ 1 std. dev.')\n",
    "#plt.xlim([-0, 1])\n",
    "#plt.ylim([-0, 1])\n",
    "plt.xlabel('1-Specificity', fontsize = 'xx-large')\n",
    "plt.ylabel('Sensitivity', fontsize = 'xx-large')\n",
    "#plt.title('Receiver operating characteristic example')\n",
    "plt.legend(loc=\"lower right\" ,\n",
    "           fontsize = 'xx-large'\n",
    "          )\n",
    "#plt.savefig('2OS-5.jpg',dpi=1200)\n",
    "plt.show()"
   ]
  },
  {
   "cell_type": "code",
   "execution_count": null,
   "metadata": {},
   "outputs": [],
   "source": [
    "tprs = []\n",
    "aucs = []\n",
    "mean_fpr = np.linspace(0, 1, 100)\n",
    "i = 0\n",
    "plt.xticks(np.arange(0, 1.1, step=0.1))\n",
    "plt.yticks(np.arange(0, 1.1, step=0.1))\n",
    "probas_ = model.predict_proba(X2)\n",
    "fpr, tpr, thresholds = roc_curve(y2, probas_[:, 1])\n",
    "fpr=fpr\n",
    "tpr=tpr\n",
    "roc_auc = auc(fpr, tpr)\n",
    "aucs.append(roc_auc)\n",
    "#plt.plot(fpr, tpr, lw=1, alpha=0.3,label='ROC fold %d (AUC = %0.2f)' % (i, roc_auc))\n",
    "plt.plot(fpr, tpr, color='blue', alpha=1, lw=2, linestyle='-',label='Internal Validation (AUC = %0.2f)' % roc_auc) \n",
    "#plt.plot([0, 1], [0, 1], color='gray', lw=1, linestyle='--',alpha=.6)\n",
    "#plt.plot([0, 1], [0, 1], linestyle='--', lw=1, color='gray', alpha=1)\n",
    "\n",
    "probas_ = model.predict_proba(X4)\n",
    "fpr, tpr, thresholds = roc_curve(y4, probas_[:, 1])\n",
    "fpr=fpr\n",
    "tpr=tpr\n",
    "roc_auc = auc(fpr, tpr)\n",
    "aucs.append(roc_auc)\n",
    "#plt.plot(fpr, tpr, lw=1, alpha=0.3,label='ROC fold %d (AUC = %0.2f)' % (i, roc_auc))\n",
    "plt.plot(fpr, tpr, color='green', alpha=1, lw=2, linestyle='-',label='External Validation (AUC = %0.2f)' % roc_auc) \n",
    "#plt.plot([0, 1], [0, 1], color='gray', lw=1, linestyle='--',alpha=.6)\n",
    "plt.plot([0, 1], [0, 1], linestyle='--', lw=1, color='gray', alpha=1)\n",
    "\n",
    "#plt.fill_between(mean_fpr, tprs_lower, tprs_upper, color='grey', alpha=.2,label=r'$\\pm$ 1 std. dev.')\n",
    "#plt.xlim([-0, 1])\n",
    "#plt.ylim([-0, 1])\n",
    "plt.xlabel('1-Specificity', fontsize = 'xx-large')\n",
    "plt.ylabel('Sensitivity', fontsize = 'xx-large')\n",
    "#plt.title('Receiver operating characteristic example')\n",
    "plt.legend(loc=\"lower right\" ,\n",
    "           fontsize = 'xx-large'\n",
    "          )\n",
    "plt.savefig('2OS-cli1.jpg',dpi=1200)\n",
    "plt.show()"
   ]
  },
  {
   "cell_type": "code",
   "execution_count": null,
   "metadata": {},
   "outputs": [],
   "source": [
    "Y0_Pred = model.predict(X0)\n",
    "pd.crosstab(pd.Series(Y0_Pred, name = 'Predicted'), \n",
    "            pd.Series(df['2yOS'], name = 'Actual'))"
   ]
  },
  {
   "cell_type": "code",
   "execution_count": null,
   "metadata": {},
   "outputs": [],
   "source": [
    "Y2_Pred = model.predict(X2)\n",
    "pd.crosstab(pd.Series(Y2_Pred, name = 'Predicted'), \n",
    "            pd.Series(df1['2yOS'], name = 'Actual'))"
   ]
  },
  {
   "cell_type": "code",
   "execution_count": null,
   "metadata": {},
   "outputs": [],
   "source": [
    "Y4_Pred = model.predict(X4)\n",
    "pd.crosstab(pd.Series(Y4_Pred, name = 'Predicted'), \n",
    "            pd.Series(df2['2yOS'], name = 'Actual'))"
   ]
  },
  {
   "cell_type": "code",
   "execution_count": null,
   "metadata": {},
   "outputs": [],
   "source": [
    "from sklearn.metrics import accuracy_score\n",
    "from sklearn.metrics import precision_score, recall_score\n",
    "from sklearn.metrics import f1_score, roc_auc_score, roc_curve\n",
    "\n",
    "print(\"Accuracy = \" , accuracy_score(y0, Y0_Pred))\n",
    "print(\"Precision = \" ,precision_score(y0, Y0_Pred))\n",
    "print(\"Recall = \" ,recall_score(y0, Y0_Pred))\n",
    "print(\"F1 Score = \" ,f1_score(y0, Y0_Pred))"
   ]
  },
  {
   "cell_type": "code",
   "execution_count": null,
   "metadata": {},
   "outputs": [],
   "source": [
    "print(\"Accuracy = \" , accuracy_score(y2, Y2_Pred))\n",
    "print(\"Precision = \" ,precision_score(y2, Y2_Pred))\n",
    "print(\"Recall = \" ,recall_score(y2, Y2_Pred))\n",
    "print(\"F1 Score = \" ,f1_score(y2, Y2_Pred))"
   ]
  },
  {
   "cell_type": "code",
   "execution_count": null,
   "metadata": {},
   "outputs": [],
   "source": [
    "print(\"Accuracy = \" , accuracy_score(y4, Y4_Pred))\n",
    "print(\"Precision = \" ,precision_score(y4, Y4_Pred))\n",
    "print(\"Recall = \" ,recall_score(y4, Y4_Pred))\n",
    "print(\"F1 Score = \" ,f1_score(y4, Y4_Pred))"
   ]
  },
  {
   "cell_type": "code",
   "execution_count": null,
   "metadata": {},
   "outputs": [],
   "source": [
    "predictions = model.predict_proba(X0)\n",
    "predictions"
   ]
  },
  {
   "cell_type": "code",
   "execution_count": null,
   "metadata": {},
   "outputs": [],
   "source": [
    "predictions.shape"
   ]
  },
  {
   "cell_type": "code",
   "execution_count": null,
   "metadata": {},
   "outputs": [],
   "source": [
    "y0.shape"
   ]
  },
  {
   "cell_type": "code",
   "execution_count": null,
   "metadata": {},
   "outputs": [],
   "source": [
    "predictions1 = model.predict_proba(X2)\n",
    "predictions1"
   ]
  },
  {
   "cell_type": "code",
   "execution_count": null,
   "metadata": {},
   "outputs": [],
   "source": [
    "predictions2 = model.predict_proba(X4)\n",
    "predictions2"
   ]
  },
  {
   "cell_type": "code",
   "execution_count": null,
   "metadata": {},
   "outputs": [],
   "source": [
    "import numpy\n",
    "import pandas\n",
    "import xlsxwriter\n",
    "data_df = pd.DataFrame(predictions)\n",
    "writer = pd.ExcelWriter('2OS-X0.xlsx', engine='xlsxwriter')  \n",
    "data_df.to_excel(writer,'page_1',float_format='%.5f') \n",
    "writer.close()"
   ]
  },
  {
   "cell_type": "code",
   "execution_count": null,
   "metadata": {},
   "outputs": [],
   "source": [
    "import numpy\n",
    "import pandas\n",
    "import xlsxwriter\n",
    "data_df = pd.DataFrame(y0)\n",
    "writer = pd.ExcelWriter('2OS-y0.xlsx', engine='xlsxwriter')  \n",
    "data_df.to_excel(writer,'page_1',float_format='%.5f') \n",
    "writer.close()"
   ]
  },
  {
   "cell_type": "code",
   "execution_count": null,
   "metadata": {},
   "outputs": [],
   "source": [
    "import numpy\n",
    "import pandas\n",
    "import xlsxwriter\n",
    "data_df = pd.DataFrame(predictions1)\n",
    "writer = pd.ExcelWriter('2OS-X2.xlsx', engine='xlsxwriter')  \n",
    "data_df.to_excel(writer,'page_1',float_format='%.5f') \n",
    "writer.close()"
   ]
  },
  {
   "cell_type": "code",
   "execution_count": null,
   "metadata": {},
   "outputs": [],
   "source": [
    "import numpy\n",
    "import pandas\n",
    "import xlsxwriter\n",
    "data_df = pd.DataFrame(predictions2)\n",
    "writer = pd.ExcelWriter('2OS-X4.xlsx', engine='xlsxwriter')  \n",
    "data_df.to_excel(writer,'page_1',float_format='%.5f') \n",
    "writer.close()"
   ]
  },
  {
   "cell_type": "markdown",
   "metadata": {},
   "source": [
    "### Radiomic Score"
   ]
  },
  {
   "cell_type": "code",
   "execution_count": null,
   "metadata": {},
   "outputs": [],
   "source": [
    "model = svm.SVC(probability=True, random_state=1)\n",
    "\n",
    "matplotlib.rcParams['figure.figsize'] = (8.0, 8.0)\n",
    "cv = model_selection.ShuffleSplit(n_splits = 5, test_size = 0.2, random_state = 1)\n",
    "tprs = []\n",
    "aucs = []\n",
    "mean_fpr = np.linspace(0, 1, 100)\n",
    "i = 0\n",
    "plt.xticks(np.arange(0, 1.1, step=0.1))\n",
    "plt.yticks(np.arange(0, 1.1, step=0.1))\n",
    "\n",
    "for train, test in cv.split(X1, y1):\n",
    "    probas_ = model.fit(X1[train], y1[train]).predict_proba(X1[test])\n",
    "    # Compute ROC curve and area the curve\n",
    "    fpr, tpr, thresholds = roc_curve(y1[test], probas_[:, 1])\n",
    "    tprs.append(interp(mean_fpr, fpr, tpr))\n",
    "    tprs[-1][0] = 0.0\n",
    "    roc_auc = auc(fpr, tpr)\n",
    "    #optimal_th, optimal_point = Find_Optimal_Cutoff(TPR=tpr, FPR=fpr, threshold=thresholds) ###\n",
    "    aucs.append(roc_auc)\n",
    "    plt.plot(fpr, tpr, lw=1, alpha=0.6,label='ROC fold %d (AUC = %0.2f)' % (i, roc_auc))\n",
    "    i += 1\n",
    "plt.fill_between(mean_fpr, tprs_lower, tprs_upper, color='grey', alpha=.2,label=r'$\\pm$ 1 std. dev.')\n",
    "plt.plot([0, 1], [0, 1], linestyle='--', lw=1, color='gray', alpha=1)\n",
    "mean_tpr = np.mean(tprs, axis=0)\n",
    "mean_tpr[-1] = 1.0\n",
    "mean_auc = auc(mean_fpr, mean_tpr)\n",
    "#optimal_th, optimal_point = Find_Optimal_Cutoff(TPR=mean_tpr, mean_fpr, threshold=thresholds)\n",
    "std_auc = np.std(aucs)\n",
    "plt.plot(mean_fpr, mean_tpr, color='b',label=r'mean ROC (AUC = %0.2f $\\pm$ %0.2f)' % (mean_auc, std_auc),lw=2)\n",
    "std_tpr = np.std(tprs, axis=0)\n",
    "tprs_upper = np.minimum(mean_tpr + std_tpr, 1)\n",
    "tprs_lower = np.maximum(mean_tpr - std_tpr, 0)\n",
    "\n",
    "plt.xlabel('1-Specificity', fontsize = 'xx-large')\n",
    "plt.ylabel('Sensitivity', fontsize = 'xx-large')\n",
    "#plt.title('Receiver operating characteristic example')\n",
    "plt.legend(loc=\"lower right\" ,\n",
    "           fontsize = 'xx-large'\n",
    "          )\n",
    "#plt.plot(optimal_point[0], optimal_point[1], marker='o', color='r')\n",
    "#plt.text(optimal_point[0], optimal_point[1], f'Threshold:{optimal_th:.2f}')\n",
    "\n",
    "#plt.savefig('2OS-5.jpg',dpi=1200)\n",
    "plt.show()"
   ]
  },
  {
   "cell_type": "code",
   "execution_count": null,
   "metadata": {},
   "outputs": [],
   "source": [
    "tprs = []\n",
    "aucs = []\n",
    "mean_fpr = np.linspace(0, 1, 100)\n",
    "i = 0\n",
    "plt.xticks(np.arange(0, 1.1, step=0.1))\n",
    "plt.yticks(np.arange(0, 1.1, step=0.1))\n",
    "probas_ = model.predict_proba(X1)\n",
    "fpr, tpr, thresholds = roc_curve(y1, probas_[:, 1])\n",
    "fpr=fpr\n",
    "tpr=tpr\n",
    "roc_auc = auc(fpr, tpr)\n",
    "aucs.append(roc_auc)\n",
    "#plt.plot(fpr, tpr, lw=1, alpha=0.3,label='ROC fold %d (AUC = %0.2f)' % (i, roc_auc))\n",
    "plt.plot(fpr, tpr, color='blue', alpha=1, lw=2, linestyle='-',label='Train ROC (AUC = %0.2f)' % roc_auc) \n",
    "#plt.plot([0, 1], [0, 1], color='gray', lw=1, linestyle='--',alpha=.6)\n",
    "#plt.plot([0, 1], [0, 1], linestyle='--', lw=1, color='gray', alpha=1)\n",
    "\n",
    "probas_ = model.predict_proba(X3)\n",
    "fpr, tpr, thresholds = roc_curve(y3, probas_[:, 1])\n",
    "fpr=fpr\n",
    "tpr=tpr\n",
    "roc_auc = auc(fpr, tpr)\n",
    "aucs.append(roc_auc)\n",
    "#plt.plot(fpr, tpr, lw=1, alpha=0.3,label='ROC fold %d (AUC = %0.2f)' % (i, roc_auc))\n",
    "plt.plot(fpr, tpr, color='green', alpha=1, lw=2, linestyle='-',label='Test ROC (AUC = %0.2f)' % roc_auc) \n",
    "#plt.plot([0, 1], [0, 1], color='gray', lw=1, linestyle='--',alpha=.6)\n",
    "plt.plot([0, 1], [0, 1], linestyle='--', lw=1, color='gray', alpha=1)\n",
    "\n",
    "#plt.fill_between(mean_fpr, tprs_lower, tprs_upper, color='grey', alpha=.2,label=r'$\\pm$ 1 std. dev.')\n",
    "#plt.xlim([-0, 1])\n",
    "#plt.ylim([-0, 1])\n",
    "plt.xlabel('1-Specificity', fontsize = 'xx-large')\n",
    "plt.ylabel('Sensitivity', fontsize = 'xx-large')\n",
    "#plt.title('Receiver operating characteristic example')\n",
    "plt.legend(loc=\"lower right\" ,\n",
    "           fontsize = 'xx-large'\n",
    "          )\n",
    "#plt.savefig('2OS-6.jpg',dpi=1200)\n",
    "plt.show()"
   ]
  },
  {
   "cell_type": "code",
   "execution_count": null,
   "metadata": {},
   "outputs": [],
   "source": [
    "tprs = []\n",
    "aucs = []\n",
    "mean_fpr = np.linspace(0, 1, 100)\n",
    "i = 0\n",
    "plt.xticks(np.arange(0, 1.1, step=0.1))\n",
    "plt.yticks(np.arange(0, 1.1, step=0.1))\n",
    "probas_ = model.predict_proba(X3)\n",
    "fpr, tpr, thresholds = roc_curve(y3, probas_[:, 1])\n",
    "fpr=fpr\n",
    "tpr=tpr\n",
    "roc_auc = auc(fpr, tpr)\n",
    "aucs.append(roc_auc)\n",
    "#plt.plot(fpr, tpr, lw=1, alpha=0.3,label='ROC fold %d (AUC = %0.2f)' % (i, roc_auc))\n",
    "plt.plot(fpr, tpr, color='blue', alpha=1, lw=2, linestyle='-',label='Internal Validation (AUC = %0.2f)' % roc_auc) \n",
    "#plt.plot([0, 1], [0, 1], color='gray', lw=1, linestyle='--',alpha=.6)\n",
    "#plt.plot([0, 1], [0, 1], linestyle='--', lw=1, color='gray', alpha=1)\n",
    "\n",
    "probas_ = model.predict_proba(X5)\n",
    "fpr, tpr, thresholds = roc_curve(y5, probas_[:, 1])\n",
    "fpr=fpr\n",
    "tpr=tpr\n",
    "roc_auc = auc(fpr, tpr)\n",
    "aucs.append(roc_auc)\n",
    "#plt.plot(fpr, tpr, lw=1, alpha=0.3,label='ROC fold %d (AUC = %0.2f)' % (i, roc_auc))\n",
    "plt.plot(fpr, tpr, color='green', alpha=1, lw=2, linestyle='-',label='External Validation (AUC = %0.2f)' % roc_auc) \n",
    "#plt.plot([0, 1], [0, 1], color='gray', lw=1, linestyle='--',alpha=.6)\n",
    "plt.plot([0, 1], [0, 1], linestyle='--', lw=1, color='gray', alpha=1)\n",
    "\n",
    "#plt.fill_between(mean_fpr, tprs_lower, tprs_upper, color='grey', alpha=.2,label=r'$\\pm$ 1 std. dev.')\n",
    "#plt.xlim([-0, 1])\n",
    "#plt.ylim([-0, 1])\n",
    "plt.xlabel('1-Specificity', fontsize = 'xx-large')\n",
    "plt.ylabel('Sensitivity', fontsize = 'xx-large')\n",
    "#plt.title('Receiver operating characteristic example')\n",
    "plt.legend(loc=\"lower right\" ,\n",
    "           fontsize = 'xx-large'\n",
    "          )\n",
    "plt.savefig('2OS-rad1.jpg',dpi=1200)\n",
    "plt.show()"
   ]
  },
  {
   "cell_type": "code",
   "execution_count": null,
   "metadata": {},
   "outputs": [],
   "source": [
    "Y1_Pred = model.predict(X1)\n",
    "pd.crosstab(pd.Series(Y1_Pred, name = 'Predicted'), \n",
    "            pd.Series(df['2yOS'], name = 'Actual'))"
   ]
  },
  {
   "cell_type": "code",
   "execution_count": null,
   "metadata": {},
   "outputs": [],
   "source": [
    "Y3_Pred = model.predict(X3)\n",
    "pd.crosstab(pd.Series(Y3_Pred, name = 'Predicted'), \n",
    "            pd.Series(df1['2yOS'], name = 'Actual'))"
   ]
  },
  {
   "cell_type": "code",
   "execution_count": null,
   "metadata": {},
   "outputs": [],
   "source": [
    "Y5_Pred = model.predict(X5)\n",
    "pd.crosstab(pd.Series(Y5_Pred, name = 'Predicted'), \n",
    "            pd.Series(df2['2yOS'], name = 'Actual'))"
   ]
  },
  {
   "cell_type": "code",
   "execution_count": null,
   "metadata": {},
   "outputs": [],
   "source": [
    "from sklearn.metrics import accuracy_score\n",
    "from sklearn.metrics import precision_score, recall_score\n",
    "from sklearn.metrics import f1_score, roc_auc_score, roc_curve\n",
    "\n",
    "print(\"Accuracy = \" , accuracy_score(y1, Y1_Pred))\n",
    "print(\"Precision = \" ,precision_score(y1, Y1_Pred))\n",
    "print(\"Recall = \" ,recall_score(y1, Y1_Pred))\n",
    "print(\"F1 Score = \" ,f1_score(y1, Y1_Pred))"
   ]
  },
  {
   "cell_type": "code",
   "execution_count": null,
   "metadata": {},
   "outputs": [],
   "source": [
    "print(\"Accuracy = \" , accuracy_score(y3, Y3_Pred))\n",
    "print(\"Precision = \" ,precision_score(y3, Y3_Pred))\n",
    "print(\"Recall = \" ,recall_score(y3, Y3_Pred))\n",
    "print(\"F1 Score = \" ,f1_score(y3, Y3_Pred))"
   ]
  },
  {
   "cell_type": "code",
   "execution_count": null,
   "metadata": {},
   "outputs": [],
   "source": [
    "print(\"Accuracy = \" , accuracy_score(y5, Y5_Pred))\n",
    "print(\"Precision = \" ,precision_score(y5, Y5_Pred))\n",
    "print(\"Recall = \" ,recall_score(y5, Y5_Pred))\n",
    "print(\"F1 Score = \" ,f1_score(y5, Y5_Pred))"
   ]
  },
  {
   "cell_type": "code",
   "execution_count": null,
   "metadata": {},
   "outputs": [],
   "source": [
    "predictions = model.predict_proba(X1)\n",
    "predictions"
   ]
  },
  {
   "cell_type": "code",
   "execution_count": null,
   "metadata": {},
   "outputs": [],
   "source": [
    "predictions1 = model.predict_proba(X3)\n",
    "predictions1"
   ]
  },
  {
   "cell_type": "code",
   "execution_count": null,
   "metadata": {},
   "outputs": [],
   "source": [
    "predictions2 = model.predict_proba(X5)\n",
    "predictions2"
   ]
  },
  {
   "cell_type": "code",
   "execution_count": null,
   "metadata": {},
   "outputs": [],
   "source": [
    "import numpy\n",
    "import pandas\n",
    "import xlsxwriter\n",
    "data_df = pd.DataFrame(predictions)\n",
    "writer = pd.ExcelWriter('2OS-X1.xlsx', engine='xlsxwriter')  \n",
    "data_df.to_excel(writer,'page_1',float_format='%.5f') \n",
    "writer.close()"
   ]
  },
  {
   "cell_type": "code",
   "execution_count": null,
   "metadata": {},
   "outputs": [],
   "source": [
    "import numpy\n",
    "import pandas\n",
    "import xlsxwriter\n",
    "data_df = pd.DataFrame(y1)\n",
    "writer = pd.ExcelWriter('2OS-y1.xlsx', engine='xlsxwriter')  \n",
    "data_df.to_excel(writer,'page_1',float_format='%.5f') \n",
    "writer.close()"
   ]
  },
  {
   "cell_type": "code",
   "execution_count": null,
   "metadata": {},
   "outputs": [],
   "source": [
    "import numpy\n",
    "import pandas\n",
    "import xlsxwriter\n",
    "data_df = pd.DataFrame(predictions1)\n",
    "writer = pd.ExcelWriter('2OS-X3.xlsx', engine='xlsxwriter')  \n",
    "data_df.to_excel(writer,'page_1',float_format='%.5f') \n",
    "writer.close()"
   ]
  },
  {
   "cell_type": "code",
   "execution_count": null,
   "metadata": {},
   "outputs": [],
   "source": [
    "import numpy\n",
    "import pandas\n",
    "import xlsxwriter\n",
    "data_df = pd.DataFrame(predictions2)\n",
    "writer = pd.ExcelWriter('2OS-X5.xlsx', engine='xlsxwriter')  \n",
    "data_df.to_excel(writer,'page_1',float_format='%.5f') \n",
    "writer.close()"
   ]
  }
 ],
 "metadata": {
  "kernelspec": {
   "display_name": "Python 36",
   "language": "python",
   "name": "python3"
  },
  "language_info": {
   "codemirror_mode": {
    "name": "ipython",
    "version": 3
   },
   "file_extension": ".py",
   "mimetype": "text/x-python",
   "name": "python",
   "nbconvert_exporter": "python",
   "pygments_lexer": "ipython3",
   "version": "3.9.16"
  }
 },
 "nbformat": 4,
 "nbformat_minor": 2
}
