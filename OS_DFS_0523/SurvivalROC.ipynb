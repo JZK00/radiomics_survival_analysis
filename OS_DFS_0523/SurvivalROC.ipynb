{
 "cells": [
  {
   "cell_type": "code",
   "execution_count": 1,
   "metadata": {},
   "outputs": [
    {
     "name": "stderr",
     "output_type": "stream",
     "text": [
      "Warning message:\n",
      "\"package 'survivalROC' was built under R version 4.0.3\"\n"
     ]
    }
   ],
   "source": [
    "library(survivalROC)"
   ]
  },
  {
   "cell_type": "code",
   "execution_count": 2,
   "metadata": {},
   "outputs": [
    {
     "data": {
      "text/html": [
       "<table>\n",
       "<caption>A data.frame: 6 × 8</caption>\n",
       "<thead>\n",
       "\t<tr><th></th><th scope=col>Num</th><th scope=col>Patient</th><th scope=col>Y1</th><th scope=col>OS</th><th scope=col>Y2</th><th scope=col>DFS</th><th scope=col>CS</th><th scope=col>RS</th></tr>\n",
       "\t<tr><th></th><th scope=col>&lt;int&gt;</th><th scope=col>&lt;chr&gt;</th><th scope=col>&lt;int&gt;</th><th scope=col>&lt;dbl&gt;</th><th scope=col>&lt;int&gt;</th><th scope=col>&lt;dbl&gt;</th><th scope=col>&lt;dbl&gt;</th><th scope=col>&lt;dbl&gt;</th></tr>\n",
       "</thead>\n",
       "<tbody>\n",
       "\t<tr><th scope=row>1</th><td>1</td><td>SICK0000022</td><td>0</td><td> 626</td><td>0</td><td> 337</td><td>-0.23863495</td><td> 0.11873860</td></tr>\n",
       "\t<tr><th scope=row>2</th><td>2</td><td>SICK0000027</td><td>1</td><td>2240</td><td>0</td><td> 948</td><td>-0.14046747</td><td> 0.07578419</td></tr>\n",
       "\t<tr><th scope=row>3</th><td>3</td><td>SICK0000053</td><td>1</td><td>1759</td><td>1</td><td>1759</td><td>-0.23863495</td><td> 0.11509943</td></tr>\n",
       "\t<tr><th scope=row>4</th><td>4</td><td>SICK0000085</td><td>1</td><td>1756</td><td>1</td><td>1756</td><td> 0.07073490</td><td> 0.16582503</td></tr>\n",
       "\t<tr><th scope=row>5</th><td>5</td><td>SICK0000213</td><td>0</td><td>1213</td><td>0</td><td> 413</td><td> 0.04695314</td><td>-0.07379806</td></tr>\n",
       "\t<tr><th scope=row>6</th><td>6</td><td>SICK0000269</td><td>1</td><td>2849</td><td>1</td><td>2849</td><td>-0.23863495</td><td>-0.11292887</td></tr>\n",
       "</tbody>\n",
       "</table>\n"
      ],
      "text/latex": [
       "A data.frame: 6 × 8\n",
       "\\begin{tabular}{r|llllllll}\n",
       "  & Num & Patient & Y1 & OS & Y2 & DFS & CS & RS\\\\\n",
       "  & <int> & <chr> & <int> & <dbl> & <int> & <dbl> & <dbl> & <dbl>\\\\\n",
       "\\hline\n",
       "\t1 & 1 & SICK0000022 & 0 &  626 & 0 &  337 & -0.23863495 &  0.11873860\\\\\n",
       "\t2 & 2 & SICK0000027 & 1 & 2240 & 0 &  948 & -0.14046747 &  0.07578419\\\\\n",
       "\t3 & 3 & SICK0000053 & 1 & 1759 & 1 & 1759 & -0.23863495 &  0.11509943\\\\\n",
       "\t4 & 4 & SICK0000085 & 1 & 1756 & 1 & 1756 &  0.07073490 &  0.16582503\\\\\n",
       "\t5 & 5 & SICK0000213 & 0 & 1213 & 0 &  413 &  0.04695314 & -0.07379806\\\\\n",
       "\t6 & 6 & SICK0000269 & 1 & 2849 & 1 & 2849 & -0.23863495 & -0.11292887\\\\\n",
       "\\end{tabular}\n"
      ],
      "text/markdown": [
       "\n",
       "A data.frame: 6 × 8\n",
       "\n",
       "| <!--/--> | Num &lt;int&gt; | Patient &lt;chr&gt; | Y1 &lt;int&gt; | OS &lt;dbl&gt; | Y2 &lt;int&gt; | DFS &lt;dbl&gt; | CS &lt;dbl&gt; | RS &lt;dbl&gt; |\n",
       "|---|---|---|---|---|---|---|---|---|\n",
       "| 1 | 1 | SICK0000022 | 0 |  626 | 0 |  337 | -0.23863495 |  0.11873860 |\n",
       "| 2 | 2 | SICK0000027 | 1 | 2240 | 0 |  948 | -0.14046747 |  0.07578419 |\n",
       "| 3 | 3 | SICK0000053 | 1 | 1759 | 1 | 1759 | -0.23863495 |  0.11509943 |\n",
       "| 4 | 4 | SICK0000085 | 1 | 1756 | 1 | 1756 |  0.07073490 |  0.16582503 |\n",
       "| 5 | 5 | SICK0000213 | 0 | 1213 | 0 |  413 |  0.04695314 | -0.07379806 |\n",
       "| 6 | 6 | SICK0000269 | 1 | 2849 | 1 | 2849 | -0.23863495 | -0.11292887 |\n",
       "\n"
      ],
      "text/plain": [
       "  Num Patient     Y1 OS   Y2 DFS  CS          RS         \n",
       "1 1   SICK0000022 0   626 0   337 -0.23863495  0.11873860\n",
       "2 2   SICK0000027 1  2240 0   948 -0.14046747  0.07578419\n",
       "3 3   SICK0000053 1  1759 1  1759 -0.23863495  0.11509943\n",
       "4 4   SICK0000085 1  1756 1  1756  0.07073490  0.16582503\n",
       "5 5   SICK0000213 0  1213 0   413  0.04695314 -0.07379806\n",
       "6 6   SICK0000269 1  2849 1  2849 -0.23863495 -0.11292887"
      ]
     },
     "metadata": {},
     "output_type": "display_data"
    }
   ],
   "source": [
    "data<- read.csv('scores-train.csv',sep=',')\n",
    "nobs=NROW(data)\n",
    "data$OS<-data$OS*30\n",
    "data$DFS<-data$DFS*30\n",
    "cutoff=730 #730, 1095, 1825, 2555, 3650\n",
    "head(data)"
   ]
  },
  {
   "cell_type": "markdown",
   "metadata": {},
   "source": [
    "# 2-year OS"
   ]
  },
  {
   "cell_type": "markdown",
   "metadata": {},
   "source": [
    "### Clinical Score"
   ]
  },
  {
   "cell_type": "code",
   "execution_count": 3,
   "metadata": {},
   "outputs": [
    {
     "name": "stdout",
     "output_type": "stream",
     "text": [
      "List of 6\n",
      " $ cut.values  : num [1:20] -Inf -0.31 -0.286 -0.262 -0.239 ...\n",
      " $ TP          : num [1:20] 1 0.863 0.828 0.755 0.276 ...\n",
      " $ FP          : num [1:20] 1 0.938 0.924 0.893 0.72 ...\n",
      " $ predict.time: num 730\n",
      " $ Survival    : num 0.986\n",
      " $ AUC         : num 0.24\n"
     ]
    }
   ],
   "source": [
    "data2= survivalROC(  Stime=data$OS,##生存时间\n",
    "                     status=data$Y1,## 终止事件    \n",
    "                     marker = data$CS, ## marker value    \n",
    "                     predict.time = cutoff,## 预测时间截点\n",
    "                     span = 0.25*nobs^(-0.20))##span,NNE法的namda\n",
    "str(data2)## list结构"
   ]
  },
  {
   "cell_type": "code",
   "execution_count": 4,
   "metadata": {},
   "outputs": [
    {
     "data": {
      "image/png": "[encoded data removed]",
      "text/plain": [
       "Plot with title \"2-year Survival ROC\""
      ]
     },
     "metadata": {
      "image/png": {
       "height": 420,
       "width": 420
      }
     },
     "output_type": "display_data"
    }
   ],
   "source": [
    "plot(data2$FP, data2$TP, ## x=FP,y=TP\n",
    "     type=\"l\",col=\"red\", ##线条设置\n",
    "     xlim=c(0,1), ylim=c(0,1),   \n",
    "     xlab=paste( \"FP\", \"\\n\", \"AUC = \",round(data2$AUC,3)), ##连接\n",
    "     ylab=\"TP\",\n",
    "     main=\"2-year Survival ROC\")## \\n换行符\n",
    "abline(0,1,col=\"gray\",lty=2)##线条颜色"
   ]
  },
  {
   "cell_type": "markdown",
   "metadata": {},
   "source": [
    "### another method"
   ]
  },
  {
   "cell_type": "code",
   "execution_count": 5,
   "metadata": {},
   "outputs": [
    {
     "name": "stdout",
     "output_type": "stream",
     "text": [
      "List of 6\n",
      " $ cut.values  : num [1:20] -Inf -0.31 -0.286 -0.262 -0.239 ...\n",
      " $ TP          : num [1:20] 1 0.752 0.752 0.753 0.248 ...\n",
      " $ FP          : num [1:20] 1 0.939 0.925 0.892 0.721 ...\n",
      " $ predict.time: num 730\n",
      " $ Survival    : num 0.986\n",
      " $ AUC         : num 0.202\n"
     ]
    }
   ],
   "source": [
    "data2= survivalROC(  Stime=data$OS,  \n",
    "                     status=data$Y1,      \n",
    "                     marker = data$CS,     \n",
    "                     predict.time =  cutoff, method=\"KM\")\n",
    "str(data2)"
   ]
  },
  {
   "cell_type": "code",
   "execution_count": 6,
   "metadata": {},
   "outputs": [
    {
     "data": {
      "image/png": "[encoded data removed]",
      "text/plain": [
       "Plot with title \"2-year Survival ROC\""
      ]
     },
     "metadata": {
      "image/png": {
       "height": 420,
       "width": 420
      }
     },
     "output_type": "display_data"
    }
   ],
   "source": [
    "plot(data2$FP, data2$TP, \n",
    "     type=\"l\",col=\"red\",xlim=c(0,1), ylim=c(0,1),   \n",
    "     xlab=paste( \"FP\", \"\\n\", \"AUC = \",round(data2$AUC,3)), \n",
    "     ylab=\"TP\",\n",
    "     main=\"2-year Survival ROC\")\n",
    "abline(0,1,col=\"gray\",lty=2)"
   ]
  },
  {
   "cell_type": "markdown",
   "metadata": {},
   "source": [
    "### Radiomics Score"
   ]
  },
  {
   "cell_type": "code",
   "execution_count": 7,
   "metadata": {},
   "outputs": [
    {
     "name": "stdout",
     "output_type": "stream",
     "text": [
      "List of 6\n",
      " $ cut.values  : num [1:284] -Inf -0.572 -0.537 -0.389 -0.377 ...\n",
      " $ TP          : num [1:284] 1 0.988 0.976 0.965 0.954 ...\n",
      " $ FP          : num [1:284] 1 0.997 0.993 0.99 0.986 ...\n",
      " $ predict.time: num 730\n",
      " $ Survival    : num 0.986\n",
      " $ AUC         : num 0.575\n"
     ]
    }
   ],
   "source": [
    "data2= survivalROC(  Stime=data$OS,##生存时间\n",
    "                     status=data$Y1,## 终止事件    \n",
    "                     marker = data$RS, ## marker value    \n",
    "                     predict.time = cutoff,## 预测时间截点\n",
    "                     span = 0.25*nobs^(-0.20))##span,NNE法的namda\n",
    "str(data2)## list结构"
   ]
  },
  {
   "cell_type": "code",
   "execution_count": 8,
   "metadata": {},
   "outputs": [
    {
     "data": {
      "image/png": "[encoded data removed]",
      "text/plain": [
       "Plot with title \"2-year Survival ROC\""
      ]
     },
     "metadata": {
      "image/png": {
       "height": 420,
       "width": 420
      }
     },
     "output_type": "display_data"
    }
   ],
   "source": [
    "plot(data2$FP, data2$TP, ## x=FP,y=TP\n",
    "     type=\"l\",col=\"red\", ##线条设置\n",
    "     xlim=c(0,1), ylim=c(0,1),   \n",
    "     xlab=paste( \"FP\", \"\\n\", \"AUC = \",round(data2$AUC,3)), ##连接\n",
    "     ylab=\"TP\",\n",
    "     main=\"2-year Survival ROC\")## \\n换行符\n",
    "abline(0,1,col=\"gray\",lty=2)##线条颜色"
   ]
  },
  {
   "cell_type": "code",
   "execution_count": 9,
   "metadata": {},
   "outputs": [
    {
     "name": "stdout",
     "output_type": "stream",
     "text": [
      "List of 6\n",
      " $ cut.values  : num [1:284] -Inf -0.572 -0.537 -0.389 -0.377 ...\n",
      " $ TP          : num [1:284] 1 1 1 1 1 ...\n",
      " $ FP          : num [1:284] 1 0.996 0.993 0.989 0.986 ...\n",
      " $ predict.time: num 730\n",
      " $ Survival    : num 0.986\n",
      " $ AUC         : num 0.509\n"
     ]
    }
   ],
   "source": [
    "data2= survivalROC(  Stime=data$OS,  \n",
    "                     status=data$Y1,      \n",
    "                     marker = data$RS,     \n",
    "                     predict.time =  cutoff, method=\"KM\")\n",
    "str(data2)"
   ]
  },
  {
   "cell_type": "code",
   "execution_count": 10,
   "metadata": {},
   "outputs": [
    {
     "data": {
      "image/png": "[encoded data removed]",
      "text/plain": [
       "Plot with title \"2-year Survival ROC\""
      ]
     },
     "metadata": {
      "image/png": {
       "height": 420,
       "width": 420
      }
     },
     "output_type": "display_data"
    }
   ],
   "source": [
    "plot(data2$FP, data2$TP, \n",
    "     type=\"l\",col=\"red\",xlim=c(0,1), ylim=c(0,1),   \n",
    "     xlab=paste( \"FP\", \"\\n\", \"AUC = \",round(data2$AUC,3)), \n",
    "     ylab=\"TP\",\n",
    "     main=\"2-year Survival ROC\")\n",
    "abline(0,1,col=\"gray\",lty=2)"
   ]
  },
  {
   "cell_type": "markdown",
   "metadata": {},
   "source": [
    "# 2-year DFS"
   ]
  },
  {
   "cell_type": "markdown",
   "metadata": {},
   "source": [
    "### Clinical Score"
   ]
  },
  {
   "cell_type": "code",
   "execution_count": 11,
   "metadata": {},
   "outputs": [
    {
     "name": "stdout",
     "output_type": "stream",
     "text": [
      "List of 6\n",
      " $ cut.values  : num [1:20] -Inf -0.31 -0.286 -0.262 -0.239 ...\n",
      " $ TP          : num [1:20] 1 1 0.962 0.844 0.0689 ...\n",
      " $ FP          : num [1:20] 1 0.936 0.922 0.891 0.72 ...\n",
      " $ predict.time: num 730\n",
      " $ Survival    : num 0.993\n",
      " $ AUC         : num 0.229\n"
     ]
    }
   ],
   "source": [
    "data2= survivalROC(  Stime=data$DFS,##生存时间\n",
    "                     status=data$Y2,## 终止事件    \n",
    "                     marker = data$CS, ## marker value    \n",
    "                     predict.time = cutoff,## 预测时间截点\n",
    "                     span = 0.25*nobs^(-0.20))##span,NNE法的namda\n",
    "str(data2)## list结构"
   ]
  },
  {
   "cell_type": "code",
   "execution_count": 12,
   "metadata": {},
   "outputs": [
    {
     "data": {
      "image/png": "[encoded data removed]",
      "text/plain": [
       "Plot with title \"2-year Survival ROC\""
      ]
     },
     "metadata": {
      "image/png": {
       "height": 420,
       "width": 420
      }
     },
     "output_type": "display_data"
    }
   ],
   "source": [
    "plot(data2$FP, data2$TP, ## x=FP,y=TP\n",
    "     type=\"l\",col=\"red\", ##线条设置\n",
    "     xlim=c(0,1), ylim=c(0,1),   \n",
    "     xlab=paste( \"FP\", \"\\n\", \"AUC = \",round(data2$AUC,3)), ##连接\n",
    "     ylab=\"TP\",\n",
    "     main=\"2-year Survival ROC\")## \\n换行符\n",
    "abline(0,1,col=\"gray\",lty=2)##线条颜色"
   ]
  },
  {
   "cell_type": "code",
   "execution_count": 13,
   "metadata": {},
   "outputs": [
    {
     "name": "stdout",
     "output_type": "stream",
     "text": [
      "List of 6\n",
      " $ cut.values  : num [1:20] -Inf -0.31 -0.286 -0.262 -0.239 ...\n",
      " $ TP          : num [1:20] 1 1 1 1 0 ...\n",
      " $ FP          : num [1:20] 1 0.936 0.922 0.89 0.719 ...\n",
      " $ predict.time: num 730\n",
      " $ Survival    : num 0.993\n",
      " $ AUC         : num 0.196\n"
     ]
    }
   ],
   "source": [
    "data2= survivalROC(  Stime=data$DFS,  \n",
    "                     status=data$Y2,      \n",
    "                     marker = data$CS,     \n",
    "                     predict.time =  cutoff, method=\"KM\")\n",
    "str(data2)"
   ]
  },
  {
   "cell_type": "code",
   "execution_count": 14,
   "metadata": {},
   "outputs": [
    {
     "data": {
      "image/png": "[encoded data removed]",
      "text/plain": [
       "Plot with title \"2-year Survival ROC\""
      ]
     },
     "metadata": {
      "image/png": {
       "height": 420,
       "width": 420
      }
     },
     "output_type": "display_data"
    }
   ],
   "source": [
    "plot(data2$FP, data2$TP, \n",
    "     type=\"l\",col=\"red\",xlim=c(0,1), ylim=c(0,1),   \n",
    "     xlab=paste( \"FP\", \"\\n\", \"AUC = \",round(data2$AUC,3)), \n",
    "     ylab=\"TP\",\n",
    "     main=\"2-year Survival ROC\")\n",
    "abline(0,1,col=\"gray\",lty=2)"
   ]
  },
  {
   "cell_type": "markdown",
   "metadata": {},
   "source": [
    "### Radiomics Score"
   ]
  },
  {
   "cell_type": "code",
   "execution_count": 15,
   "metadata": {},
   "outputs": [
    {
     "name": "stdout",
     "output_type": "stream",
     "text": [
      "List of 6\n",
      " $ cut.values  : num [1:284] -Inf -0.572 -0.537 -0.389 -0.377 ...\n",
      " $ TP          : num [1:284] 1 0.968 0.937 0.908 0.879 ...\n",
      " $ FP          : num [1:284] 1 0.997 0.993 0.99 0.986 ...\n",
      " $ predict.time: num 730\n",
      " $ Survival    : num 0.993\n",
      " $ AUC         : num 0.444\n"
     ]
    }
   ],
   "source": [
    "data2= survivalROC(  Stime=data$DFS,##生存时间\n",
    "                     status=data$Y2,## 终止事件    \n",
    "                     marker = data$RS, ## marker value    \n",
    "                     predict.time = cutoff,## 预测时间截点\n",
    "                     span = 0.25*nobs^(-0.20))##span,NNE法的namda\n",
    "str(data2)## list结构"
   ]
  },
  {
   "cell_type": "code",
   "execution_count": 16,
   "metadata": {},
   "outputs": [
    {
     "data": {
      "image/png": "[encoded data removed]",
      "text/plain": [
       "Plot with title \"2-year Survival ROC\""
      ]
     },
     "metadata": {
      "image/png": {
       "height": 420,
       "width": 420
      }
     },
     "output_type": "display_data"
    }
   ],
   "source": [
    "plot(data2$FP, data2$TP, ## x=FP,y=TP\n",
    "     type=\"l\",col=\"red\", ##线条设置\n",
    "     xlim=c(0,1), ylim=c(0,1),   \n",
    "     xlab=paste( \"FP\", \"\\n\", \"AUC = \",round(data2$AUC,3)), ##连接\n",
    "     ylab=\"TP\",\n",
    "     main=\"2-year Survival ROC\")## \\n换行符\n",
    "abline(0,1,col=\"gray\",lty=2)##线条颜色"
   ]
  },
  {
   "cell_type": "code",
   "execution_count": 17,
   "metadata": {},
   "outputs": [
    {
     "name": "stdout",
     "output_type": "stream",
     "text": [
      "List of 6\n",
      " $ cut.values  : num [1:284] -Inf -0.572 -0.537 -0.389 -0.377 ...\n",
      " $ TP          : num [1:284] 1 1 1 1 1 ...\n",
      " $ FP          : num [1:284] 1 0.996 0.993 0.989 0.986 ...\n",
      " $ predict.time: num 730\n",
      " $ Survival    : num 0.993\n",
      " $ AUC         : num 0.323\n"
     ]
    }
   ],
   "source": [
    "data2= survivalROC(  Stime=data$DFS,  \n",
    "                     status=data$Y2,      \n",
    "                     marker = data$RS,     \n",
    "                     predict.time =  cutoff, method=\"KM\")\n",
    "str(data2)"
   ]
  },
  {
   "cell_type": "code",
   "execution_count": 18,
   "metadata": {},
   "outputs": [
    {
     "data": {
      "image/png": "[encoded data removed]",
      "text/plain": [
       "Plot with title \"2-year Survival ROC\""
      ]
     },
     "metadata": {
      "image/png": {
       "height": 420,
       "width": 420
      }
     },
     "output_type": "display_data"
    }
   ],
   "source": [
    "plot(data2$FP, data2$TP, \n",
    "     type=\"l\",col=\"red\",xlim=c(0,1), ylim=c(0,1),   \n",
    "     xlab=paste( \"FP\", \"\\n\", \"AUC = \",round(data2$AUC,3)), \n",
    "     ylab=\"TP\",\n",
    "     main=\"2-year Survival ROC\")\n",
    "abline(0,1,col=\"gray\",lty=2)"
   ]
  },
  {
   "cell_type": "markdown",
   "metadata": {},
   "source": [
    "# 3-year OS"
   ]
  },
  {
   "cell_type": "markdown",
   "metadata": {},
   "source": [
    "### Clinical Score"
   ]
  },
  {
   "cell_type": "code",
   "execution_count": 19,
   "metadata": {},
   "outputs": [
    {
     "name": "stdout",
     "output_type": "stream",
     "text": [
      "List of 6\n",
      " $ cut.values  : num [1:20] -Inf -0.31 -0.286 -0.262 -0.239 ...\n",
      " $ TP          : num [1:20] 1 0.912 0.895 0.864 0.666 ...\n",
      " $ FP          : num [1:20] 1 0.939 0.925 0.893 0.718 ...\n",
      " $ predict.time: num 1095\n",
      " $ Survival    : num 0.923\n",
      " $ AUC         : num 0.465\n"
     ]
    }
   ],
   "source": [
    "cutoff=1095 #730, 1095, 1825, 2555, 3650\n",
    "data3= survivalROC(  Stime=data$OS,##生存时间\n",
    "                     status=data$Y1,## 终止事件    \n",
    "                     marker = data$CS, ## marker value    \n",
    "                     predict.time = cutoff,## 预测时间截点\n",
    "                     span = 0.25*nobs^(-0.20))##span,NNE法的namda\n",
    "str(data3)## list结构"
   ]
  },
  {
   "cell_type": "code",
   "execution_count": 20,
   "metadata": {},
   "outputs": [
    {
     "data": {
      "image/png": "[encoded data removed]",
      "text/plain": [
       "Plot with title \"3-year OS Survival ROC\""
      ]
     },
     "metadata": {
      "image/png": {
       "height": 420,
       "width": 420
      }
     },
     "output_type": "display_data"
    }
   ],
   "source": [
    "plot(data3$FP, data3$TP, ## x=FP,y=TP\n",
    "     type=\"l\",col=\"red\", ##线条设置\n",
    "     xlim=c(0,1), ylim=c(0,1),   \n",
    "     xlab=paste( \"FP\", \"\\n\", \"AUC = \",round(data3$AUC,3)), ##连接\n",
    "     ylab=\"TP\",\n",
    "     main=\"3-year OS Survival ROC\")## \\n换行符\n",
    "abline(0,1,col=\"gray\",lty=2)##线条颜色"
   ]
  },
  {
   "cell_type": "code",
   "execution_count": 21,
   "metadata": {},
   "outputs": [
    {
     "name": "stdout",
     "output_type": "stream",
     "text": [
      "List of 6\n",
      " $ cut.values  : num [1:20] -Inf -0.31 -0.286 -0.262 -0.239 ...\n",
      " $ TP          : num [1:20] 1 0.849 0.85 0.844 0.638 ...\n",
      " $ FP          : num [1:20] 1 0.944 0.928 0.894 0.72 ...\n",
      " $ predict.time: num 1095\n",
      " $ Survival    : num 0.923\n",
      " $ AUC         : num 0.444\n"
     ]
    }
   ],
   "source": [
    "data3= survivalROC(  Stime=data$OS,  \n",
    "                     status=data$Y1,      \n",
    "                     marker = data$CS,     \n",
    "                     predict.time =  cutoff, method=\"KM\")\n",
    "str(data3)"
   ]
  },
  {
   "cell_type": "code",
   "execution_count": 22,
   "metadata": {},
   "outputs": [
    {
     "data": {
      "image/png": "[encoded data removed]",
      "text/plain": [
       "Plot with title \"3-year OS Survival ROC\""
      ]
     },
     "metadata": {
      "image/png": {
       "height": 420,
       "width": 420
      }
     },
     "output_type": "display_data"
    }
   ],
   "source": [
    "plot(data3$FP, data3$TP, \n",
    "     type=\"l\",col=\"red\",xlim=c(0,1), ylim=c(0,1),   \n",
    "     xlab=paste( \"FP\", \"\\n\", \"AUC = \",round(data3$AUC,3)), \n",
    "     ylab=\"TP\",\n",
    "     main=\"3-year OS Survival ROC\")\n",
    "abline(0,1,col=\"gray\",lty=2)"
   ]
  },
  {
   "cell_type": "markdown",
   "metadata": {},
   "source": [
    "### Radiomics Score"
   ]
  },
  {
   "cell_type": "code",
   "execution_count": 23,
   "metadata": {},
   "outputs": [
    {
     "name": "stdout",
     "output_type": "stream",
     "text": [
      "List of 6\n",
      " $ cut.values  : num [1:284] -Inf -0.572 -0.537 -0.389 -0.377 ...\n",
      " $ TP          : num [1:284] 1 0.998 0.996 0.994 0.993 ...\n",
      " $ FP          : num [1:284] 1 0.996 0.993 0.989 0.985 ...\n",
      " $ predict.time: num 1095\n",
      " $ Survival    : num 0.923\n",
      " $ AUC         : num 0.517\n"
     ]
    }
   ],
   "source": [
    "cutoff=1095 #730, 1095, 1825, 2555, 3650\n",
    "data3= survivalROC(  Stime=data$OS,##生存时间\n",
    "                     status=data$Y1,## 终止事件    \n",
    "                     marker = data$RS, ## marker value    \n",
    "                     predict.time = cutoff,## 预测时间截点\n",
    "                     span = 0.25*nobs^(-0.20))##span,NNE法的namda\n",
    "str(data3)## list结构"
   ]
  },
  {
   "cell_type": "code",
   "execution_count": 24,
   "metadata": {},
   "outputs": [
    {
     "data": {
      "image/png": "[encoded data removed]",
      "text/plain": [
       "Plot with title \"3-year OS Survival ROC\""
      ]
     },
     "metadata": {
      "image/png": {
       "height": 420,
       "width": 420
      }
     },
     "output_type": "display_data"
    }
   ],
   "source": [
    "plot(data3$FP, data3$TP, ## x=FP,y=TP\n",
    "     type=\"l\",col=\"red\", ##线条设置\n",
    "     xlim=c(0,1), ylim=c(0,1),   \n",
    "     xlab=paste( \"FP\", \"\\n\", \"AUC = \",round(data3$AUC,3)), ##连接\n",
    "     ylab=\"TP\",\n",
    "     main=\"3-year OS Survival ROC\")## \\n换行符\n",
    "abline(0,1,col=\"gray\",lty=2)##线条颜色"
   ]
  },
  {
   "cell_type": "code",
   "execution_count": 25,
   "metadata": {},
   "outputs": [
    {
     "name": "stdout",
     "output_type": "stream",
     "text": [
      "List of 6\n",
      " $ cut.values  : num [1:284] -Inf -0.572 -0.537 -0.389 -0.377 ...\n",
      " $ TP          : num [1:284] 1 1 1 1 1 ...\n",
      " $ FP          : num [1:284] 1 0.996 0.992 0.988 0.985 ...\n",
      " $ predict.time: num 1095\n",
      " $ Survival    : num 0.923\n",
      " $ AUC         : num 0.531\n"
     ]
    }
   ],
   "source": [
    "data3= survivalROC(  Stime=data$OS,  \n",
    "                     status=data$Y1,      \n",
    "                     marker = data$RS,     \n",
    "                     predict.time =  cutoff, method=\"KM\")\n",
    "str(data3)"
   ]
  },
  {
   "cell_type": "code",
   "execution_count": 26,
   "metadata": {},
   "outputs": [
    {
     "data": {
      "image/png": "[encoded data removed]",
      "text/plain": [
       "Plot with title \"3-year OS Survival ROC\""
      ]
     },
     "metadata": {
      "image/png": {
       "height": 420,
       "width": 420
      }
     },
     "output_type": "display_data"
    }
   ],
   "source": [
    "plot(data3$FP, data3$TP, \n",
    "     type=\"l\",col=\"red\",xlim=c(0,1), ylim=c(0,1),   \n",
    "     xlab=paste( \"FP\", \"\\n\", \"AUC = \",round(data3$AUC,3)), \n",
    "     ylab=\"TP\",\n",
    "     main=\"3-year OS Survival ROC\")\n",
    "abline(0,1,col=\"gray\",lty=2)"
   ]
  },
  {
   "cell_type": "markdown",
   "metadata": {},
   "source": [
    "# 3-year DFS"
   ]
  },
  {
   "cell_type": "markdown",
   "metadata": {},
   "source": [
    "### Clinical Score"
   ]
  },
  {
   "cell_type": "code",
   "execution_count": 27,
   "metadata": {},
   "outputs": [
    {
     "name": "stdout",
     "output_type": "stream",
     "text": [
      "List of 6\n",
      " $ cut.values  : num [1:20] -Inf -0.31 -0.286 -0.262 -0.239 ...\n",
      " $ TP          : num [1:20] 1 0.936 0.92 0.888 0.679 ...\n",
      " $ FP          : num [1:20] 1 0.936 0.922 0.891 0.717 ...\n",
      " $ predict.time: num 1095\n",
      " $ Survival    : num 0.926\n",
      " $ AUC         : num 0.487\n"
     ]
    }
   ],
   "source": [
    "cutoff=1095 #730, 1095, 1825, 2555, 3650\n",
    "data3= survivalROC(  Stime=data$DFS,##生存时间\n",
    "                     status=data$Y2,## 终止事件    \n",
    "                     marker = data$CS, ## marker value    \n",
    "                     predict.time = cutoff,## 预测时间截点\n",
    "                     span = 0.25*nobs^(-0.20))##span,NNE法的namda\n",
    "str(data3)## list结构"
   ]
  },
  {
   "cell_type": "code",
   "execution_count": 28,
   "metadata": {},
   "outputs": [
    {
     "data": {
      "image/png": "[encoded data removed]",
      "text/plain": [
       "Plot with title \"3-year DFS Survival ROC\""
      ]
     },
     "metadata": {
      "image/png": {
       "height": 420,
       "width": 420
      }
     },
     "output_type": "display_data"
    }
   ],
   "source": [
    "plot(data3$FP, data3$TP, ## x=FP,y=TP\n",
    "     type=\"l\",col=\"red\", ##线条设置\n",
    "     xlim=c(0,1), ylim=c(0,1),   \n",
    "     xlab=paste( \"FP\", \"\\n\", \"AUC = \",round(data3$AUC,3)), ##连接\n",
    "     ylab=\"TP\",\n",
    "     main=\"3-year DFS Survival ROC\")## \\n换行符\n",
    "abline(0,1,col=\"gray\",lty=2)##线条颜色"
   ]
  },
  {
   "cell_type": "code",
   "execution_count": 29,
   "metadata": {},
   "outputs": [
    {
     "name": "stdout",
     "output_type": "stream",
     "text": [
      "List of 6\n",
      " $ cut.values  : num [1:20] -Inf -0.31 -0.286 -0.262 -0.239 ...\n",
      " $ TP          : num [1:20] 1 0.886 0.888 0.881 0.66 ...\n",
      " $ FP          : num [1:20] 1 0.94 0.925 0.891 0.718 ...\n",
      " $ predict.time: num 1095\n",
      " $ Survival    : num 0.926\n",
      " $ AUC         : num 0.473\n"
     ]
    }
   ],
   "source": [
    "data3= survivalROC(  Stime=data$DFS,  \n",
    "                     status=data$Y2,      \n",
    "                     marker = data$CS,     \n",
    "                     predict.time =  cutoff, method=\"KM\")\n",
    "str(data3)"
   ]
  },
  {
   "cell_type": "code",
   "execution_count": 30,
   "metadata": {},
   "outputs": [
    {
     "data": {
      "image/png": "[encoded data removed]",
      "text/plain": [
       "Plot with title \"3-year DFS Survival ROC\""
      ]
     },
     "metadata": {
      "image/png": {
       "height": 420,
       "width": 420
      }
     },
     "output_type": "display_data"
    }
   ],
   "source": [
    "plot(data3$FP, data3$TP, \n",
    "     type=\"l\",col=\"red\",xlim=c(0,1), ylim=c(0,1),   \n",
    "     xlab=paste( \"FP\", \"\\n\", \"AUC = \",round(data3$AUC,3)), \n",
    "     ylab=\"TP\",\n",
    "     main=\"3-year DFS Survival ROC\")\n",
    "abline(0,1,col=\"gray\",lty=2)"
   ]
  },
  {
   "cell_type": "markdown",
   "metadata": {},
   "source": [
    "### Radiomics Score"
   ]
  },
  {
   "cell_type": "code",
   "execution_count": 31,
   "metadata": {},
   "outputs": [
    {
     "name": "stdout",
     "output_type": "stream",
     "text": [
      "List of 6\n",
      " $ cut.values  : num [1:284] -Inf -0.572 -0.537 -0.389 -0.377 ...\n",
      " $ TP          : num [1:284] 1 0.998 0.995 0.993 0.991 ...\n",
      " $ FP          : num [1:284] 1 0.996 0.993 0.989 0.985 ...\n",
      " $ predict.time: num 1095\n",
      " $ Survival    : num 0.926\n",
      " $ AUC         : num 0.494\n"
     ]
    }
   ],
   "source": [
    "cutoff=1095 #730, 1095, 1825, 2555, 3650\n",
    "data3= survivalROC(  Stime=data$DFS,##生存时间\n",
    "                     status=data$Y2,## 终止事件    \n",
    "                     marker = data$RS, ## marker value    \n",
    "                     predict.time = cutoff,## 预测时间截点\n",
    "                     span = 0.25*nobs^(-0.20))##span,NNE法的namda\n",
    "str(data3)## list结构"
   ]
  },
  {
   "cell_type": "code",
   "execution_count": 32,
   "metadata": {},
   "outputs": [
    {
     "data": {
      "image/png": "[encoded data removed]",
      "text/plain": [
       "Plot with title \"3-year DFS Survival ROC\""
      ]
     },
     "metadata": {
      "image/png": {
       "height": 420,
       "width": 420
      }
     },
     "output_type": "display_data"
    }
   ],
   "source": [
    "plot(data3$FP, data3$TP, ## x=FP,y=TP\n",
    "     type=\"l\",col=\"red\", ##线条设置\n",
    "     xlim=c(0,1), ylim=c(0,1),   \n",
    "     xlab=paste( \"FP\", \"\\n\", \"AUC = \",round(data3$AUC,3)), ##连接\n",
    "     ylab=\"TP\",\n",
    "     main=\"3-year DFS Survival ROC\")## \\n换行符\n",
    "abline(0,1,col=\"gray\",lty=2)##线条颜色"
   ]
  },
  {
   "cell_type": "code",
   "execution_count": 33,
   "metadata": {},
   "outputs": [
    {
     "name": "stdout",
     "output_type": "stream",
     "text": [
      "List of 6\n",
      " $ cut.values  : num [1:284] -Inf -0.572 -0.537 -0.389 -0.377 ...\n",
      " $ TP          : num [1:284] 1 1 1 1 1 ...\n",
      " $ FP          : num [1:284] 1 0.996 0.992 0.988 0.985 ...\n",
      " $ predict.time: num 1095\n",
      " $ Survival    : num 0.926\n",
      " $ AUC         : num 0.509\n"
     ]
    }
   ],
   "source": [
    "data3= survivalROC(  Stime=data$DFS,  \n",
    "                     status=data$Y2,      \n",
    "                     marker = data$RS,     \n",
    "                     predict.time =  cutoff, method=\"KM\")\n",
    "str(data3)"
   ]
  },
  {
   "cell_type": "code",
   "execution_count": 34,
   "metadata": {},
   "outputs": [
    {
     "data": {
      "image/png": "[encoded data removed]",
      "text/plain": [
       "Plot with title \"3-year DFS Survival ROC\""
      ]
     },
     "metadata": {
      "image/png": {
       "height": 420,
       "width": 420
      }
     },
     "output_type": "display_data"
    }
   ],
   "source": [
    "plot(data3$FP, data3$TP, \n",
    "     type=\"l\",col=\"red\",xlim=c(0,1), ylim=c(0,1),   \n",
    "     xlab=paste( \"FP\", \"\\n\", \"AUC = \",round(data3$AUC,3)), \n",
    "     ylab=\"TP\",\n",
    "     main=\"3-year DFS Survival ROC\")\n",
    "abline(0,1,col=\"gray\",lty=2)"
   ]
  },
  {
   "cell_type": "code",
   "execution_count": null,
   "metadata": {},
   "outputs": [],
   "source": []
  },
  {
   "cell_type": "markdown",
   "metadata": {},
   "source": [
    "# 5-year OS"
   ]
  },
  {
   "cell_type": "markdown",
   "metadata": {},
   "source": [
    "### Clinical Score"
   ]
  },
  {
   "cell_type": "code",
   "execution_count": 35,
   "metadata": {},
   "outputs": [
    {
     "name": "stdout",
     "output_type": "stream",
     "text": [
      "List of 6\n",
      " $ cut.values  : num [1:20] -Inf -0.31 -0.286 -0.262 -0.239 ...\n",
      " $ TP          : num [1:20] 1 0.953 0.939 0.907 0.716 ...\n",
      " $ FP          : num [1:20] 1 0.924 0.909 0.877 0.712 ...\n",
      " $ predict.time: num 1825\n",
      " $ Survival    : num 0.554\n",
      " $ AUC         : num 0.524\n"
     ]
    }
   ],
   "source": [
    "cutoff=1825 #730, 1095, 1825, 2555, 3650\n",
    "data5= survivalROC(  Stime=data$OS,##生存时间\n",
    "                     status=data$Y1,## 终止事件    \n",
    "                     marker = data$CS, ## marker value    \n",
    "                     predict.time = cutoff,## 预测时间截点\n",
    "                     span = 0.25*nobs^(-0.20))##span,NNE法的namda\n",
    "str(data5)## list结构"
   ]
  },
  {
   "cell_type": "code",
   "execution_count": 36,
   "metadata": {},
   "outputs": [
    {
     "data": {
      "image/png": "[encoded data removed]",
      "text/plain": [
       "Plot with title \"5-year OS Survival ROC\""
      ]
     },
     "metadata": {
      "image/png": {
       "height": 420,
       "width": 420
      }
     },
     "output_type": "display_data"
    }
   ],
   "source": [
    "plot(data5$FP, data5$TP, ## x=FP,y=TP\n",
    "     type=\"l\",col=\"red\", ##线条设置\n",
    "     xlim=c(0,1), ylim=c(0,1),   \n",
    "     xlab=paste( \"FP\", \"\\n\", \"AUC = \",round(data5$AUC,3)), ##连接\n",
    "     ylab=\"TP\",\n",
    "     main=\"5-year OS Survival ROC\")## \\n换行符\n",
    "abline(0,1,col=\"gray\",lty=2)##线条颜色"
   ]
  },
  {
   "cell_type": "code",
   "execution_count": 37,
   "metadata": {},
   "outputs": [
    {
     "name": "stdout",
     "output_type": "stream",
     "text": [
      "List of 6\n",
      " $ cut.values  : num [1:20] -Inf -0.31 -0.286 -0.262 -0.239 ...\n",
      " $ TP          : num [1:20] 1 0.94 0.933 0.915 0.727 ...\n",
      " $ FP          : num [1:20] 1 0.934 0.914 0.871 0.703 ...\n",
      " $ predict.time: num 1825\n",
      " $ Survival    : num 0.554\n",
      " $ AUC         : num 0.535\n"
     ]
    }
   ],
   "source": [
    "data5= survivalROC(  Stime=data$OS,  \n",
    "                     status=data$Y1,      \n",
    "                     marker = data$CS,     \n",
    "                     predict.time =  cutoff, method=\"KM\")\n",
    "str(data5)"
   ]
  },
  {
   "cell_type": "code",
   "execution_count": 38,
   "metadata": {},
   "outputs": [
    {
     "data": {
      "image/png": "[encoded data removed]",
      "text/plain": [
       "Plot with title \"5-year OS Survival ROC\""
      ]
     },
     "metadata": {
      "image/png": {
       "height": 420,
       "width": 420
      }
     },
     "output_type": "display_data"
    }
   ],
   "source": [
    "plot(data5$FP, data5$TP, \n",
    "     type=\"l\",col=\"red\",xlim=c(0,1), ylim=c(0,1),   \n",
    "     xlab=paste( \"FP\", \"\\n\", \"AUC = \",round(data5$AUC,3)), \n",
    "     ylab=\"TP\",\n",
    "     main=\"5-year OS Survival ROC\")\n",
    "abline(0,1,col=\"gray\",lty=2)"
   ]
  },
  {
   "cell_type": "markdown",
   "metadata": {},
   "source": [
    "### Radiomics Score"
   ]
  },
  {
   "cell_type": "code",
   "execution_count": 39,
   "metadata": {},
   "outputs": [
    {
     "name": "stdout",
     "output_type": "stream",
     "text": [
      "List of 6\n",
      " $ cut.values  : num [1:284] -Inf -0.572 -0.537 -0.389 -0.377 ...\n",
      " $ TP          : num [1:284] 1 0.998 0.995 0.993 0.99 ...\n",
      " $ FP          : num [1:284] 1 0.996 0.991 0.987 0.982 ...\n",
      " $ predict.time: num 1825\n",
      " $ Survival    : num 0.554\n",
      " $ AUC         : num 0.624\n"
     ]
    }
   ],
   "source": [
    "cutoff=1825 #730, 1095, 1825, 2555, 3650\n",
    "data5= survivalROC(  Stime=data$OS,##生存时间\n",
    "                     status=data$Y1,## 终止事件    \n",
    "                     marker = data$RS, ## marker value    \n",
    "                     predict.time = cutoff,## 预测时间截点\n",
    "                     span = 0.25*nobs^(-0.20))##span,NNE法的namda\n",
    "str(data5)## list结构"
   ]
  },
  {
   "cell_type": "code",
   "execution_count": 40,
   "metadata": {},
   "outputs": [
    {
     "data": {
      "image/png": "[encoded data removed]",
      "text/plain": [
       "Plot with title \"5-year OS Survival ROC\""
      ]
     },
     "metadata": {
      "image/png": {
       "height": 420,
       "width": 420
      }
     },
     "output_type": "display_data"
    }
   ],
   "source": [
    "plot(data5$FP, data5$TP, ## x=FP,y=TP\n",
    "     type=\"l\",col=\"red\", ##线条设置\n",
    "     xlim=c(0,1), ylim=c(0,1),   \n",
    "     xlab=paste( \"FP\", \"\\n\", \"AUC = \",round(data5$AUC,3)), ##连接\n",
    "     ylab=\"TP\",\n",
    "     main=\"5-year OS Survival ROC\")## \\n换行符\n",
    "abline(0,1,col=\"gray\",lty=2)##线条颜色"
   ]
  },
  {
   "cell_type": "code",
   "execution_count": 41,
   "metadata": {},
   "outputs": [
    {
     "name": "stdout",
     "output_type": "stream",
     "text": [
      "List of 6\n",
      " $ cut.values  : num [1:284] -Inf -0.572 -0.537 -0.389 -0.377 ...\n",
      " $ TP          : num [1:284] 1 1 1 1 1 ...\n",
      " $ FP          : num [1:284] 1 0.993 0.986 0.98 0.973 ...\n",
      " $ predict.time: num 1825\n",
      " $ Survival    : num 0.554\n",
      " $ AUC         : num 0.63\n"
     ]
    }
   ],
   "source": [
    "data5= survivalROC(  Stime=data$OS,  \n",
    "                     status=data$Y1,      \n",
    "                     marker = data$RS,     \n",
    "                     predict.time =  cutoff, method=\"KM\")\n",
    "str(data5)"
   ]
  },
  {
   "cell_type": "code",
   "execution_count": 42,
   "metadata": {},
   "outputs": [
    {
     "data": {
      "image/png": "[encoded data removed]",
      "text/plain": [
       "Plot with title \"5-year OS Survival ROC\""
      ]
     },
     "metadata": {
      "image/png": {
       "height": 420,
       "width": 420
      }
     },
     "output_type": "display_data"
    }
   ],
   "source": [
    "plot(data5$FP, data5$TP, \n",
    "     type=\"l\",col=\"red\",xlim=c(0,1), ylim=c(0,1),   \n",
    "     xlab=paste( \"FP\", \"\\n\", \"AUC = \",round(data5$AUC,3)), \n",
    "     ylab=\"TP\",\n",
    "     main=\"5-year OS Survival ROC\")\n",
    "abline(0,1,col=\"gray\",lty=2)"
   ]
  },
  {
   "cell_type": "markdown",
   "metadata": {},
   "source": [
    "# 5-year DFS"
   ]
  },
  {
   "cell_type": "markdown",
   "metadata": {},
   "source": [
    "### Clinical Score"
   ]
  },
  {
   "cell_type": "code",
   "execution_count": 43,
   "metadata": {},
   "outputs": [
    {
     "name": "stdout",
     "output_type": "stream",
     "text": [
      "List of 6\n",
      " $ cut.values  : num [1:20] -Inf -0.31 -0.286 -0.262 -0.239 ...\n",
      " $ TP          : num [1:20] 1 0.956 0.943 0.911 0.721 ...\n",
      " $ FP          : num [1:20] 1 0.922 0.907 0.875 0.708 ...\n",
      " $ predict.time: num 1825\n",
      " $ Survival    : num 0.561\n",
      " $ AUC         : num 0.53\n"
     ]
    }
   ],
   "source": [
    "cutoff=1825 #730, 1095, 1825, 2555, 3650\n",
    "data5= survivalROC(  Stime=data$DFS,##生存时间\n",
    "                     status=data$Y2,## 终止事件    \n",
    "                     marker = data$CS, ## marker value    \n",
    "                     predict.time = cutoff,## 预测时间截点\n",
    "                     span = 0.25*nobs^(-0.20))##span,NNE法的namda\n",
    "str(data5)## list结构"
   ]
  },
  {
   "cell_type": "code",
   "execution_count": 44,
   "metadata": {},
   "outputs": [
    {
     "data": {
      "image/png": "[encoded data removed]",
      "text/plain": [
       "Plot with title \"5-year DFS Survival ROC\""
      ]
     },
     "metadata": {
      "image/png": {
       "height": 420,
       "width": 420
      }
     },
     "output_type": "display_data"
    }
   ],
   "source": [
    "plot(data5$FP, data5$TP, ## x=FP,y=TP\n",
    "     type=\"l\",col=\"red\", ##线条设置\n",
    "     xlim=c(0,1), ylim=c(0,1),   \n",
    "     xlab=paste( \"FP\", \"\\n\", \"AUC = \",round(data5$AUC,3)), ##连接\n",
    "     ylab=\"TP\",\n",
    "     main=\"5-year DFS Survival ROC\")## \\n换行符\n",
    "abline(0,1,col=\"gray\",lty=2)##线条颜色"
   ]
  },
  {
   "cell_type": "code",
   "execution_count": 45,
   "metadata": {},
   "outputs": [
    {
     "name": "stdout",
     "output_type": "stream",
     "text": [
      "List of 6\n",
      " $ cut.values  : num [1:20] -Inf -0.31 -0.286 -0.262 -0.239 ...\n",
      " $ TP          : num [1:20] 1 0.948 0.941 0.921 0.735 ...\n",
      " $ FP          : num [1:20] 1 0.927 0.908 0.867 0.697 ...\n",
      " $ predict.time: num 1825\n",
      " $ Survival    : num 0.561\n",
      " $ AUC         : num 0.543\n"
     ]
    }
   ],
   "source": [
    "data5= survivalROC(  Stime=data$DFS,  \n",
    "                     status=data$Y2,      \n",
    "                     marker = data$CS,     \n",
    "                     predict.time =  cutoff, method=\"KM\")\n",
    "str(data5)"
   ]
  },
  {
   "cell_type": "code",
   "execution_count": 46,
   "metadata": {},
   "outputs": [
    {
     "data": {
      "image/png": "[encoded data removed]",
      "text/plain": [
       "Plot with title \"3-year DFS Survival ROC\""
      ]
     },
     "metadata": {
      "image/png": {
       "height": 420,
       "width": 420
      }
     },
     "output_type": "display_data"
    }
   ],
   "source": [
    "plot(data5$FP, data5$TP, \n",
    "     type=\"l\",col=\"red\",xlim=c(0,1), ylim=c(0,1),   \n",
    "     xlab=paste( \"FP\", \"\\n\", \"AUC = \",round(data5$AUC,3)), \n",
    "     ylab=\"TP\",\n",
    "     main=\"3-year DFS Survival ROC\")\n",
    "abline(0,1,col=\"gray\",lty=2)"
   ]
  },
  {
   "cell_type": "markdown",
   "metadata": {},
   "source": [
    "### Radiomics Score"
   ]
  },
  {
   "cell_type": "code",
   "execution_count": 47,
   "metadata": {},
   "outputs": [
    {
     "name": "stdout",
     "output_type": "stream",
     "text": [
      "List of 6\n",
      " $ cut.values  : num [1:284] -Inf -0.572 -0.537 -0.389 -0.377 ...\n",
      " $ TP          : num [1:284] 1 0.997 0.994 0.991 0.988 ...\n",
      " $ FP          : num [1:284] 1 0.996 0.992 0.988 0.984 ...\n",
      " $ predict.time: num 1825\n",
      " $ Survival    : num 0.561\n",
      " $ AUC         : num 0.609\n"
     ]
    }
   ],
   "source": [
    "cutoff=1825 #730, 1095, 1825, 2555, 3650\n",
    "data5= survivalROC(  Stime=data$DFS,##生存时间\n",
    "                     status=data$Y2,## 终止事件    \n",
    "                     marker = data$RS, ## marker value    \n",
    "                     predict.time = cutoff,## 预测时间截点\n",
    "                     span = 0.25*nobs^(-0.20))##span,NNE法的namda\n",
    "str(data5)## list结构"
   ]
  },
  {
   "cell_type": "code",
   "execution_count": 48,
   "metadata": {},
   "outputs": [
    {
     "data": {
      "image/png": "[encoded data removed]",
      "text/plain": [
       "Plot with title \"5-year DFS Survival ROC\""
      ]
     },
     "metadata": {
      "image/png": {
       "height": 420,
       "width": 420
      }
     },
     "output_type": "display_data"
    }
   ],
   "source": [
    "plot(data5$FP, data5$TP, ## x=FP,y=TP\n",
    "     type=\"l\",col=\"red\", ##线条设置\n",
    "     xlim=c(0,1), ylim=c(0,1),   \n",
    "     xlab=paste( \"FP\", \"\\n\", \"AUC = \",round(data5$AUC,3)), ##连接\n",
    "     ylab=\"TP\",\n",
    "     main=\"5-year DFS Survival ROC\")## \\n换行符\n",
    "abline(0,1,col=\"gray\",lty=2)##线条颜色"
   ]
  },
  {
   "cell_type": "code",
   "execution_count": 49,
   "metadata": {},
   "outputs": [
    {
     "name": "stdout",
     "output_type": "stream",
     "text": [
      "List of 6\n",
      " $ cut.values  : num [1:284] -Inf -0.572 -0.537 -0.389 -0.377 ...\n",
      " $ TP          : num [1:284] 1 1 1 1 1 ...\n",
      " $ FP          : num [1:284] 1 0.993 0.986 0.979 0.973 ...\n",
      " $ predict.time: num 1825\n",
      " $ Survival    : num 0.561\n",
      " $ AUC         : num 0.615\n"
     ]
    }
   ],
   "source": [
    "data5= survivalROC(  Stime=data$DFS,  \n",
    "                     status=data$Y2,      \n",
    "                     marker = data$RS,     \n",
    "                     predict.time =  cutoff, method=\"KM\")\n",
    "str(data5)"
   ]
  },
  {
   "cell_type": "code",
   "execution_count": 50,
   "metadata": {},
   "outputs": [
    {
     "data": {
      "image/png": "[encoded data removed]",
      "text/plain": [
       "Plot with title \"5-year DFS Survival ROC\""
      ]
     },
     "metadata": {
      "image/png": {
       "height": 420,
       "width": 420
      }
     },
     "output_type": "display_data"
    }
   ],
   "source": [
    "plot(data5$FP, data5$TP, \n",
    "     type=\"l\",col=\"red\",xlim=c(0,1), ylim=c(0,1),   \n",
    "     xlab=paste( \"FP\", \"\\n\", \"AUC = \",round(data5$AUC,3)), \n",
    "     ylab=\"TP\",\n",
    "     main=\"5-year DFS Survival ROC\")\n",
    "abline(0,1,col=\"gray\",lty=2)"
   ]
  },
  {
   "cell_type": "code",
   "execution_count": null,
   "metadata": {},
   "outputs": [],
   "source": []
  },
  {
   "cell_type": "markdown",
   "metadata": {},
   "source": [
    "# 7-year OS"
   ]
  },
  {
   "cell_type": "markdown",
   "metadata": {},
   "source": [
    "### Clinical Score"
   ]
  },
  {
   "cell_type": "code",
   "execution_count": 51,
   "metadata": {},
   "outputs": [
    {
     "name": "stdout",
     "output_type": "stream",
     "text": [
      "List of 6\n",
      " $ cut.values  : num [1:20] -Inf -0.31 -0.286 -0.262 -0.239 ...\n",
      " $ TP          : num [1:20] 1 0.942 0.928 0.896 0.717 ...\n",
      " $ FP          : num [1:20] 1 0.915 0.9 0.869 0.702 ...\n",
      " $ predict.time: num 2555\n",
      " $ Survival    : num 0.208\n",
      " $ AUC         : num 0.502\n"
     ]
    }
   ],
   "source": [
    "cutoff=2555 #730, 1095, 1825, 2555, 3650\n",
    "data7= survivalROC(  Stime=data$OS,##生存时间\n",
    "                     status=data$Y1,## 终止事件    \n",
    "                     marker = data$CS, ## marker value    \n",
    "                     predict.time = cutoff,## 预测时间截点\n",
    "                     span = 0.25*nobs^(-0.20))##span,NNE法的namda\n",
    "str(data7)## list结构"
   ]
  },
  {
   "cell_type": "code",
   "execution_count": 52,
   "metadata": {},
   "outputs": [
    {
     "data": {
      "image/png": "[encoded data removed]",
      "text/plain": [
       "Plot with title \"7-year OS Survival ROC\""
      ]
     },
     "metadata": {
      "image/png": {
       "height": 420,
       "width": 420
      }
     },
     "output_type": "display_data"
    }
   ],
   "source": [
    "plot(data7$FP, data7$TP, ## x=FP,y=TP\n",
    "     type=\"l\",col=\"red\", ##线条设置\n",
    "     xlim=c(0,1), ylim=c(0,1),   \n",
    "     xlab=paste( \"FP\", \"\\n\", \"AUC = \",round(data7$AUC,3)), ##连接\n",
    "     ylab=\"TP\",\n",
    "     main=\"7-year OS Survival ROC\")## \\n换行符\n",
    "abline(0,1,col=\"gray\",lty=2)##线条颜色"
   ]
  },
  {
   "cell_type": "code",
   "execution_count": 53,
   "metadata": {},
   "outputs": [
    {
     "name": "stdout",
     "output_type": "stream",
     "text": [
      "List of 6\n",
      " $ cut.values  : num [1:20] -Inf -0.31 -0.286 -0.262 -0.239 ...\n",
      " $ TP          : num [1:20] 1 0.937 0.929 0.897 0.717 ...\n",
      " $ FP          : num [1:20] 1 0.934 0.897 0.864 0.701 ...\n",
      " $ predict.time: num 2555\n",
      " $ Survival    : num 0.208\n",
      " $ AUC         : num 0.504\n"
     ]
    }
   ],
   "source": [
    "data7= survivalROC(  Stime=data$OS,  \n",
    "                     status=data$Y1,      \n",
    "                     marker = data$CS,     \n",
    "                     predict.time =  cutoff, method=\"KM\")\n",
    "str(data7)"
   ]
  },
  {
   "cell_type": "code",
   "execution_count": 54,
   "metadata": {},
   "outputs": [
    {
     "data": {
      "image/png": "[encoded data removed]",
      "text/plain": [
       "Plot with title \"7-year OS Survival ROC\""
      ]
     },
     "metadata": {
      "image/png": {
       "height": 420,
       "width": 420
      }
     },
     "output_type": "display_data"
    }
   ],
   "source": [
    "plot(data7$FP, data7$TP, \n",
    "     type=\"l\",col=\"red\",xlim=c(0,1), ylim=c(0,1),   \n",
    "     xlab=paste( \"FP\", \"\\n\", \"AUC = \",round(data7$AUC,3)), \n",
    "     ylab=\"TP\",\n",
    "     main=\"7-year OS Survival ROC\")\n",
    "abline(0,1,col=\"gray\",lty=2)"
   ]
  },
  {
   "cell_type": "markdown",
   "metadata": {},
   "source": [
    "### Radiomics Score"
   ]
  },
  {
   "cell_type": "code",
   "execution_count": 55,
   "metadata": {},
   "outputs": [
    {
     "name": "stdout",
     "output_type": "stream",
     "text": [
      "List of 6\n",
      " $ cut.values  : num [1:284] -Inf -0.572 -0.537 -0.389 -0.377 ...\n",
      " $ TP          : num [1:284] 1 0.997 0.995 0.992 0.989 ...\n",
      " $ FP          : num [1:284] 1 0.993 0.986 0.979 0.972 ...\n",
      " $ predict.time: num 2555\n",
      " $ Survival    : num 0.208\n",
      " $ AUC         : num 0.53\n"
     ]
    }
   ],
   "source": [
    "cutoff=2555 #730, 1095, 1825, 2555, 3650\n",
    "data7= survivalROC(  Stime=data$OS,##生存时间\n",
    "                     status=data$Y1,## 终止事件    \n",
    "                     marker = data$RS, ## marker value    \n",
    "                     predict.time = cutoff,## 预测时间截点\n",
    "                     span = 0.25*nobs^(-0.20))##span,NNE法的namda\n",
    "str(data7)## list结构"
   ]
  },
  {
   "cell_type": "code",
   "execution_count": 56,
   "metadata": {},
   "outputs": [
    {
     "data": {
      "image/png": "[encoded data removed]",
      "text/plain": [
       "Plot with title \"7-year OS Survival ROC\""
      ]
     },
     "metadata": {
      "image/png": {
       "height": 420,
       "width": 420
      }
     },
     "output_type": "display_data"
    }
   ],
   "source": [
    "plot(data7$FP, data7$TP, ## x=FP,y=TP\n",
    "     type=\"l\",col=\"red\", ##线条设置\n",
    "     xlim=c(0,1), ylim=c(0,1),   \n",
    "     xlab=paste( \"FP\", \"\\n\", \"AUC = \",round(data7$AUC,3)), ##连接\n",
    "     ylab=\"TP\",\n",
    "     main=\"7-year OS Survival ROC\")## \\n换行符\n",
    "abline(0,1,col=\"gray\",lty=2)##线条颜色"
   ]
  },
  {
   "cell_type": "code",
   "execution_count": 57,
   "metadata": {},
   "outputs": [
    {
     "name": "stdout",
     "output_type": "stream",
     "text": [
      "List of 6\n",
      " $ cut.values  : num [1:284] -Inf -0.572 -0.537 -0.389 -0.377 ...\n",
      " $ TP          : num [1:284] 1 1 1 1 1 ...\n",
      " $ FP          : num [1:284] 1 0.981 0.962 0.943 0.924 ...\n",
      " $ predict.time: num 2555\n",
      " $ Survival    : num 0.208\n",
      " $ AUC         : num 0.574\n"
     ]
    }
   ],
   "source": [
    "data7= survivalROC(  Stime=data$OS,  \n",
    "                     status=data$Y1,      \n",
    "                     marker = data$RS,     \n",
    "                     predict.time =  cutoff, method=\"KM\")\n",
    "str(data7)"
   ]
  },
  {
   "cell_type": "code",
   "execution_count": 58,
   "metadata": {},
   "outputs": [
    {
     "data": {
      "image/png": "[encoded data removed]",
      "text/plain": [
       "Plot with title \"7-year OS Survival ROC\""
      ]
     },
     "metadata": {
      "image/png": {
       "height": 420,
       "width": 420
      }
     },
     "output_type": "display_data"
    }
   ],
   "source": [
    "plot(data7$FP, data7$TP, \n",
    "     type=\"l\",col=\"red\",xlim=c(0,1), ylim=c(0,1),   \n",
    "     xlab=paste( \"FP\", \"\\n\", \"AUC = \",round(data7$AUC,3)), \n",
    "     ylab=\"TP\",\n",
    "     main=\"7-year OS Survival ROC\")\n",
    "abline(0,1,col=\"gray\",lty=2)"
   ]
  },
  {
   "cell_type": "markdown",
   "metadata": {},
   "source": [
    "# 7-year DFS"
   ]
  },
  {
   "cell_type": "markdown",
   "metadata": {},
   "source": [
    "### Clinical Score"
   ]
  },
  {
   "cell_type": "code",
   "execution_count": 59,
   "metadata": {},
   "outputs": [
    {
     "name": "stdout",
     "output_type": "stream",
     "text": [
      "List of 6\n",
      " $ cut.values  : num [1:20] -Inf -0.31 -0.286 -0.262 -0.239 ...\n",
      " $ TP          : num [1:20] 1 0.94 0.926 0.894 0.713 ...\n",
      " $ FP          : num [1:20] 1 0.922 0.908 0.879 0.718 ...\n",
      " $ predict.time: num 2555\n",
      " $ Survival    : num 0.221\n",
      " $ AUC         : num 0.502\n"
     ]
    }
   ],
   "source": [
    "cutoff=2555 #730, 1095, 1825, 2555, 3650\n",
    "data7= survivalROC(  Stime=data$DFS,##生存时间\n",
    "                     status=data$Y2,## 终止事件    \n",
    "                     marker = data$CS, ## marker value    \n",
    "                     predict.time = cutoff,## 预测时间截点\n",
    "                     span = 0.25*nobs^(-0.20))##span,NNE法的namda\n",
    "str(data7)## list结构"
   ]
  },
  {
   "cell_type": "code",
   "execution_count": 60,
   "metadata": {},
   "outputs": [
    {
     "data": {
      "image/png": "[encoded data removed]",
      "text/plain": [
       "Plot with title \"7-year DFS Survival ROC\""
      ]
     },
     "metadata": {
      "image/png": {
       "height": 420,
       "width": 420
      }
     },
     "output_type": "display_data"
    }
   ],
   "source": [
    "plot(data7$FP, data7$TP, ## x=FP,y=TP\n",
    "     type=\"l\",col=\"red\", ##线条设置\n",
    "     xlim=c(0,1), ylim=c(0,1),   \n",
    "     xlab=paste( \"FP\", \"\\n\", \"AUC = \",round(data7$AUC,3)), ##连接\n",
    "     ylab=\"TP\",\n",
    "     main=\"7-year DFS Survival ROC\")## \\n换行符\n",
    "abline(0,1,col=\"gray\",lty=2)##线条颜色"
   ]
  },
  {
   "cell_type": "code",
   "execution_count": 61,
   "metadata": {},
   "outputs": [
    {
     "name": "stdout",
     "output_type": "stream",
     "text": [
      "List of 6\n",
      " $ cut.values  : num [1:20] -Inf -0.31 -0.286 -0.262 -0.239 ...\n",
      " $ TP          : num [1:20] 1 0.936 0.928 0.896 0.713 ...\n",
      " $ FP          : num [1:20] 1 0.938 0.902 0.872 0.715 ...\n",
      " $ predict.time: num 2555\n",
      " $ Survival    : num 0.221\n",
      " $ AUC         : num 0.507\n"
     ]
    }
   ],
   "source": [
    "data7= survivalROC(  Stime=data$DFS,  \n",
    "                     status=data$Y2,      \n",
    "                     marker = data$CS,     \n",
    "                     predict.time =  cutoff, method=\"KM\")\n",
    "str(data7)"
   ]
  },
  {
   "cell_type": "code",
   "execution_count": 62,
   "metadata": {},
   "outputs": [
    {
     "data": {
      "image/png": "[encoded data removed]",
      "text/plain": [
       "Plot with title \"7-year DFS Survival ROC\""
      ]
     },
     "metadata": {
      "image/png": {
       "height": 420,
       "width": 420
      }
     },
     "output_type": "display_data"
    }
   ],
   "source": [
    "plot(data7$FP, data7$TP, \n",
    "     type=\"l\",col=\"red\",xlim=c(0,1), ylim=c(0,1),   \n",
    "     xlab=paste( \"FP\", \"\\n\", \"AUC = \",round(data7$AUC,3)), \n",
    "     ylab=\"TP\",\n",
    "     main=\"7-year DFS Survival ROC\")\n",
    "abline(0,1,col=\"gray\",lty=2)"
   ]
  },
  {
   "cell_type": "markdown",
   "metadata": {},
   "source": [
    "### Radiomics Score"
   ]
  },
  {
   "cell_type": "code",
   "execution_count": 63,
   "metadata": {},
   "outputs": [
    {
     "name": "stdout",
     "output_type": "stream",
     "text": [
      "List of 6\n",
      " $ cut.values  : num [1:284] -Inf -0.572 -0.537 -0.389 -0.377 ...\n",
      " $ TP          : num [1:284] 1 0.997 0.994 0.991 0.988 ...\n",
      " $ FP          : num [1:284] 1 0.994 0.988 0.983 0.977 ...\n",
      " $ predict.time: num 2555\n",
      " $ Survival    : num 0.221\n",
      " $ AUC         : num 0.512\n"
     ]
    }
   ],
   "source": [
    "cutoff=2555 #730, 1095, 1825, 2555, 3650\n",
    "data7= survivalROC(  Stime=data$DFS,##生存时间\n",
    "                     status=data$Y2,## 终止事件    \n",
    "                     marker = data$RS, ## marker value    \n",
    "                     predict.time = cutoff,## 预测时间截点\n",
    "                     span = 0.25*nobs^(-0.20))##span,NNE法的namda\n",
    "str(data7)## list结构"
   ]
  },
  {
   "cell_type": "code",
   "execution_count": 64,
   "metadata": {},
   "outputs": [
    {
     "data": {
      "image/png": "[encoded data removed]",
      "text/plain": [
       "Plot with title \"7-year DFS Survival ROC\""
      ]
     },
     "metadata": {
      "image/png": {
       "height": 420,
       "width": 420
      }
     },
     "output_type": "display_data"
    }
   ],
   "source": [
    "plot(data7$FP, data7$TP, ## x=FP,y=TP\n",
    "     type=\"l\",col=\"red\", ##线条设置\n",
    "     xlim=c(0,1), ylim=c(0,1),   \n",
    "     xlab=paste( \"FP\", \"\\n\", \"AUC = \",round(data7$AUC,3)), ##连接\n",
    "     ylab=\"TP\",\n",
    "     main=\"7-year DFS Survival ROC\")## \\n换行符\n",
    "abline(0,1,col=\"gray\",lty=2)##线条颜色"
   ]
  },
  {
   "cell_type": "code",
   "execution_count": 65,
   "metadata": {},
   "outputs": [
    {
     "name": "stdout",
     "output_type": "stream",
     "text": [
      "List of 6\n",
      " $ cut.values  : num [1:284] -Inf -0.572 -0.537 -0.389 -0.377 ...\n",
      " $ TP          : num [1:284] 1 1 1 1 1 ...\n",
      " $ FP          : num [1:284] 1 0.981 0.963 0.944 0.925 ...\n",
      " $ predict.time: num 2555\n",
      " $ Survival    : num 0.221\n",
      " $ AUC         : num 0.56\n"
     ]
    }
   ],
   "source": [
    "data7= survivalROC(  Stime=data$DFS,  \n",
    "                     status=data$Y2,      \n",
    "                     marker = data$RS,     \n",
    "                     predict.time =  cutoff, method=\"KM\")\n",
    "str(data7)"
   ]
  },
  {
   "cell_type": "code",
   "execution_count": 66,
   "metadata": {},
   "outputs": [
    {
     "data": {
      "image/png": "[encoded data removed]",
      "text/plain": [
       "Plot with title \"7-year DFS Survival ROC\""
      ]
     },
     "metadata": {
      "image/png": {
       "height": 420,
       "width": 420
      }
     },
     "output_type": "display_data"
    }
   ],
   "source": [
    "plot(data7$FP, data7$TP, \n",
    "     type=\"l\",col=\"red\",xlim=c(0,1), ylim=c(0,1),   \n",
    "     xlab=paste( \"FP\", \"\\n\", \"AUC = \",round(data7$AUC,3)), \n",
    "     ylab=\"TP\",\n",
    "     main=\"7-year DFS Survival ROC\")\n",
    "abline(0,1,col=\"gray\",lty=2)"
   ]
  },
  {
   "cell_type": "code",
   "execution_count": null,
   "metadata": {},
   "outputs": [],
   "source": []
  },
  {
   "cell_type": "markdown",
   "metadata": {},
   "source": [
    "# 10-year OS"
   ]
  },
  {
   "cell_type": "markdown",
   "metadata": {},
   "source": [
    "### Clinical Score"
   ]
  },
  {
   "cell_type": "code",
   "execution_count": 67,
   "metadata": {},
   "outputs": [
    {
     "name": "stdout",
     "output_type": "stream",
     "text": [
      "List of 6\n",
      " $ cut.values  : num [1:20] -Inf -0.31 -0.286 -0.262 -0.239 ...\n",
      " $ TP          : num [1:20] 1 0.936 0.922 0.889 0.711 ...\n",
      " $ FP          : num [1:20] 1 1 1 1 1 ...\n",
      " $ predict.time: num 3650\n",
      " $ Survival    : num 0.00815\n",
      " $ AUC         : num 0.417\n"
     ]
    }
   ],
   "source": [
    "cutoff=3650 #730, 1095, 1825, 2555, 3650\n",
    "data10= survivalROC(  Stime=data$OS,##生存时间\n",
    "                     status=data$Y1,## 终止事件    \n",
    "                     marker = data$CS, ## marker value    \n",
    "                     predict.time = cutoff,## 预测时间截点\n",
    "                     span = 0.25*nobs^(-0.20))##span,NNE法的namda\n",
    "str(data10)## list结构"
   ]
  },
  {
   "cell_type": "code",
   "execution_count": 68,
   "metadata": {},
   "outputs": [
    {
     "data": {
      "image/png": "[encoded data removed]",
      "text/plain": [
       "Plot with title \"10-year OS Survival ROC\""
      ]
     },
     "metadata": {
      "image/png": {
       "height": 420,
       "width": 420
      }
     },
     "output_type": "display_data"
    }
   ],
   "source": [
    "plot(data10$FP, data10$TP, ## x=FP,y=TP\n",
    "     type=\"l\",col=\"red\", ##线条设置\n",
    "     xlim=c(0,1), ylim=c(0,1),   \n",
    "     xlab=paste( \"FP\", \"\\n\", \"AUC = \",round(data10$AUC,3)), ##连接\n",
    "     ylab=\"TP\",\n",
    "     main=\"10-year OS Survival ROC\")## \\n换行符\n",
    "abline(0,1,col=\"gray\",lty=2)##线条颜色"
   ]
  },
  {
   "cell_type": "code",
   "execution_count": 69,
   "metadata": {},
   "outputs": [
    {
     "name": "stdout",
     "output_type": "stream",
     "text": [
      "List of 6\n",
      " $ cut.values  : num [1:20] -Inf -0.31 -0.286 -0.262 -0.239 ...\n",
      " $ TP          : num [1:20] 1 0.936 0.922 0.89 0.712 ...\n",
      " $ FP          : num [1:20] 1 0.992 0.994 0.979 0.966 ...\n",
      " $ predict.time: num 3650\n",
      " $ Survival    : num 0.00815\n",
      " $ AUC         : num 0.493\n"
     ]
    }
   ],
   "source": [
    "data10= survivalROC(  Stime=data$OS,  \n",
    "                     status=data$Y1,      \n",
    "                     marker = data$CS,     \n",
    "                     predict.time =  cutoff, method=\"KM\")\n",
    "str(data10)"
   ]
  },
  {
   "cell_type": "code",
   "execution_count": 70,
   "metadata": {},
   "outputs": [
    {
     "data": {
      "image/png": "[encoded data removed]",
      "text/plain": [
       "Plot with title \"10-year OS Survival ROC\""
      ]
     },
     "metadata": {
      "image/png": {
       "height": 420,
       "width": 420
      }
     },
     "output_type": "display_data"
    }
   ],
   "source": [
    "plot(data10$FP, data10$TP, \n",
    "     type=\"l\",col=\"red\",xlim=c(0,1), ylim=c(0,1),   \n",
    "     xlab=paste( \"FP\", \"\\n\", \"AUC = \",round(data10$AUC,3)), \n",
    "     ylab=\"TP\",\n",
    "     main=\"10-year OS Survival ROC\")\n",
    "abline(0,1,col=\"gray\",lty=2)"
   ]
  },
  {
   "cell_type": "markdown",
   "metadata": {},
   "source": [
    "### Radiomics Score"
   ]
  },
  {
   "cell_type": "code",
   "execution_count": 71,
   "metadata": {},
   "outputs": [
    {
     "name": "stdout",
     "output_type": "stream",
     "text": [
      "List of 6\n",
      " $ cut.values  : num [1:284] -Inf -0.572 -0.537 -0.389 -0.377 ...\n",
      " $ TP          : num [1:284] 1 0.997 0.993 0.99 0.986 ...\n",
      " $ FP          : num [1:284] 1 0.983 0.966 0.95 0.935 ...\n",
      " $ predict.time: num 3650\n",
      " $ Survival    : num 0.00815\n",
      " $ AUC         : num 0.625\n"
     ]
    }
   ],
   "source": [
    "cutoff=3650 #730, 1095, 1825, 2555, 3650\n",
    "data10= survivalROC(  Stime=data$OS,##生存时间\n",
    "                     status=data$Y1,## 终止事件    \n",
    "                     marker = data$RS, ## marker value    \n",
    "                     predict.time = cutoff,## 预测时间截点\n",
    "                     span = 0.25*nobs^(-0.20))##span,NNE法的namda\n",
    "str(data10)## list结构"
   ]
  },
  {
   "cell_type": "code",
   "execution_count": 72,
   "metadata": {},
   "outputs": [
    {
     "data": {
      "image/png": "[encoded data removed]",
      "text/plain": [
       "Plot with title \"10-year OS Survival ROC\""
      ]
     },
     "metadata": {
      "image/png": {
       "height": 420,
       "width": 420
      }
     },
     "output_type": "display_data"
    }
   ],
   "source": [
    "plot(data10$FP, data10$TP, ## x=FP,y=TP\n",
    "     type=\"l\",col=\"red\", ##线条设置\n",
    "     xlim=c(0,1), ylim=c(0,1),   \n",
    "     xlab=paste( \"FP\", \"\\n\", \"AUC = \",round(data10$AUC,3)), ##连接\n",
    "     ylab=\"TP\",\n",
    "     main=\"10-year OS Survival ROC\")## \\n换行符\n",
    "abline(0,1,col=\"gray\",lty=2)##线条颜色"
   ]
  },
  {
   "cell_type": "code",
   "execution_count": 73,
   "metadata": {},
   "outputs": [
    {
     "name": "stdout",
     "output_type": "stream",
     "text": [
      "List of 6\n",
      " $ cut.values  : num [1:284] -Inf -0.572 -0.537 -0.389 -0.377 ...\n",
      " $ TP          : num [1:284] 1 0.996 0.993 0.989 0.986 ...\n",
      " $ FP          : num [1:284] 1 1 1 1 1 ...\n",
      " $ predict.time: num 3650\n",
      " $ Survival    : num 0.00815\n",
      " $ AUC         : num 0.94\n"
     ]
    }
   ],
   "source": [
    "data10= survivalROC(  Stime=data$OS,  \n",
    "                     status=data$Y1,      \n",
    "                     marker = data$RS,     \n",
    "                     predict.time =  cutoff, method=\"KM\")\n",
    "str(data10)"
   ]
  },
  {
   "cell_type": "code",
   "execution_count": 74,
   "metadata": {},
   "outputs": [
    {
     "data": {
      "image/png": "[encoded data removed]",
      "text/plain": [
       "Plot with title \"10-year OS Survival ROC\""
      ]
     },
     "metadata": {
      "image/png": {
       "height": 420,
       "width": 420
      }
     },
     "output_type": "display_data"
    }
   ],
   "source": [
    "plot(data10$FP, data10$TP, \n",
    "     type=\"l\",col=\"red\",xlim=c(0,1), ylim=c(0,1),   \n",
    "     xlab=paste( \"FP\", \"\\n\", \"AUC = \",round(data10$AUC,3)), \n",
    "     ylab=\"TP\",\n",
    "     main=\"10-year OS Survival ROC\")\n",
    "abline(0,1,col=\"gray\",lty=2)"
   ]
  },
  {
   "cell_type": "markdown",
   "metadata": {},
   "source": [
    "# 10-year DFS"
   ]
  },
  {
   "cell_type": "markdown",
   "metadata": {},
   "source": [
    "### Clinical Score"
   ]
  },
  {
   "cell_type": "code",
   "execution_count": 75,
   "metadata": {},
   "outputs": [
    {
     "name": "stdout",
     "output_type": "stream",
     "text": [
      "List of 6\n",
      " $ cut.values  : num [1:20] -Inf -0.31 -0.286 -0.262 -0.239 ...\n",
      " $ TP          : num [1:20] 1 0.936 0.921 0.889 0.711 ...\n",
      " $ FP          : num [1:20] 1 1 1 1 1 ...\n",
      " $ predict.time: num 3650\n",
      " $ Survival    : num 0.00929\n",
      " $ AUC         : num 0.422\n"
     ]
    }
   ],
   "source": [
    "cutoff=3650 #730, 1095, 1825, 2555, 3650\n",
    "data10= survivalROC( Stime=data$DFS,##生存时间\n",
    "                     status=data$Y2,## 终止事件    \n",
    "                     marker = data$CS, ## marker value    \n",
    "                     predict.time = cutoff,## 预测时间截点\n",
    "                     span = 0.25*nobs^(-0.20))##span,NNE法的namda\n",
    "str(data10)## list结构"
   ]
  },
  {
   "cell_type": "code",
   "execution_count": 76,
   "metadata": {},
   "outputs": [
    {
     "data": {
      "image/png": "[encoded data removed]",
      "text/plain": [
       "Plot with title \"10-year DFS Survival ROC\""
      ]
     },
     "metadata": {
      "image/png": {
       "height": 420,
       "width": 420
      }
     },
     "output_type": "display_data"
    }
   ],
   "source": [
    "plot(data10$FP, data10$TP, ## x=FP,y=TP\n",
    "     type=\"l\",col=\"red\", ##线条设置\n",
    "     xlim=c(0,1), ylim=c(0,1),   \n",
    "     xlab=paste( \"FP\", \"\\n\", \"AUC = \",round(data10$AUC,3)), ##连接\n",
    "     ylab=\"TP\",\n",
    "     main=\"10-year DFS Survival ROC\")## \\n换行符\n",
    "abline(0,1,col=\"gray\",lty=2)##线条颜色"
   ]
  },
  {
   "cell_type": "code",
   "execution_count": 77,
   "metadata": {},
   "outputs": [
    {
     "name": "stdout",
     "output_type": "stream",
     "text": [
      "List of 6\n",
      " $ cut.values  : num [1:20] -Inf -0.31 -0.286 -0.262 -0.239 ...\n",
      " $ TP          : num [1:20] 1 0.936 0.921 0.889 0.711 ...\n",
      " $ FP          : num [1:20] 1 1 1.005 0.994 0.997 ...\n",
      " $ predict.time: num 3650\n",
      " $ Survival    : num 0.00929\n",
      " $ AUC         : num 0.484\n"
     ]
    }
   ],
   "source": [
    "data10= survivalROC( Stime=data$DFS,  \n",
    "                     status=data$Y2,      \n",
    "                     marker = data$CS,     \n",
    "                     predict.time =  cutoff, method=\"KM\")\n",
    "str(data10)"
   ]
  },
  {
   "cell_type": "code",
   "execution_count": 78,
   "metadata": {},
   "outputs": [
    {
     "data": {
      "image/png": "[encoded data removed]",
      "text/plain": [
       "Plot with title \"10-year DFS Survival ROC\""
      ]
     },
     "metadata": {
      "image/png": {
       "height": 420,
       "width": 420
      }
     },
     "output_type": "display_data"
    }
   ],
   "source": [
    "plot(data10$FP, data10$TP, \n",
    "     type=\"l\",col=\"red\",xlim=c(0,1), ylim=c(0,1),   \n",
    "     xlab=paste( \"FP\", \"\\n\", \"AUC = \",round(data10$AUC,3)), \n",
    "     ylab=\"TP\",\n",
    "     main=\"10-year DFS Survival ROC\")\n",
    "abline(0,1,col=\"gray\",lty=2)"
   ]
  },
  {
   "cell_type": "markdown",
   "metadata": {},
   "source": [
    "### Radiomics Score"
   ]
  },
  {
   "cell_type": "code",
   "execution_count": 79,
   "metadata": {},
   "outputs": [
    {
     "name": "stdout",
     "output_type": "stream",
     "text": [
      "List of 6\n",
      " $ cut.values  : num [1:284] -Inf -0.572 -0.537 -0.389 -0.377 ...\n",
      " $ TP          : num [1:284] 1 0.997 0.993 0.99 0.986 ...\n",
      " $ FP          : num [1:284] 1 0.983 0.967 0.951 0.936 ...\n",
      " $ predict.time: num 3650\n",
      " $ Survival    : num 0.00929\n",
      " $ AUC         : num 0.628\n"
     ]
    }
   ],
   "source": [
    "cutoff=3650 #730, 1095, 1825, 2555, 3650\n",
    "data10= survivalROC(  Stime=data$DFS,##生存时间\n",
    "                     status=data$Y2,## 终止事件    \n",
    "                     marker = data$RS, ## marker value    \n",
    "                     predict.time = cutoff,## 预测时间截点\n",
    "                     span = 0.25*nobs^(-0.20))##span,NNE法的namda\n",
    "str(data10)## list结构"
   ]
  },
  {
   "cell_type": "code",
   "execution_count": 80,
   "metadata": {},
   "outputs": [
    {
     "data": {
      "image/png": "[encoded data removed]",
      "text/plain": [
       "Plot with title \"10-year DFS Survival ROC\""
      ]
     },
     "metadata": {
      "image/png": {
       "height": 420,
       "width": 420
      }
     },
     "output_type": "display_data"
    }
   ],
   "source": [
    "plot(data10$FP, data10$TP, ## x=FP,y=TP\n",
    "     type=\"l\",col=\"red\", ##线条设置\n",
    "     xlim=c(0,1), ylim=c(0,1),   \n",
    "     xlab=paste( \"FP\", \"\\n\", \"AUC = \",round(data10$AUC,3)), ##连接\n",
    "     ylab=\"TP\",\n",
    "     main=\"10-year DFS Survival ROC\")## \\n换行符\n",
    "abline(0,1,col=\"gray\",lty=2)##线条颜色"
   ]
  },
  {
   "cell_type": "code",
   "execution_count": 81,
   "metadata": {},
   "outputs": [
    {
     "name": "stdout",
     "output_type": "stream",
     "text": [
      "List of 6\n",
      " $ cut.values  : num [1:284] -Inf -0.572 -0.537 -0.389 -0.377 ...\n",
      " $ TP          : num [1:284] 1 0.996 0.993 0.989 0.986 ...\n",
      " $ FP          : num [1:284] 1 1 1.01 1.01 1.01 ...\n",
      " $ predict.time: num 3650\n",
      " $ Survival    : num 0.00929\n",
      " $ AUC         : num 0.94\n"
     ]
    }
   ],
   "source": [
    "data10= survivalROC(  Stime=data$DFS,  \n",
    "                     status=data$Y2,      \n",
    "                     marker = data$RS,     \n",
    "                     predict.time =  cutoff, method=\"KM\")\n",
    "str(data10)"
   ]
  },
  {
   "cell_type": "code",
   "execution_count": 82,
   "metadata": {},
   "outputs": [
    {
     "data": {
      "image/png": "[encoded data removed]",
      "text/plain": [
       "Plot with title \"10-year DFS Survival ROC\""
      ]
     },
     "metadata": {
      "image/png": {
       "height": 420,
       "width": 420
      }
     },
     "output_type": "display_data"
    }
   ],
   "source": [
    "plot(data10$FP, data10$TP, \n",
    "     type=\"l\",col=\"red\",xlim=c(0,1), ylim=c(0,1),   \n",
    "     xlab=paste( \"FP\", \"\\n\", \"AUC = \",round(data10$AUC,3)), \n",
    "     ylab=\"TP\",\n",
    "     main=\"10-year DFS Survival ROC\")\n",
    "abline(0,1,col=\"gray\",lty=2)"
   ]
  },
  {
   "cell_type": "code",
   "execution_count": null,
   "metadata": {},
   "outputs": [],
   "source": []
  }
 ],
 "metadata": {
  "kernelspec": {
   "display_name": "R",
   "language": "R",
   "name": "ir"
  },
  "language_info": {
   "codemirror_mode": "r",
   "file_extension": ".r",
   "mimetype": "text/x-r-source",
   "name": "R",
   "pygments_lexer": "r",
   "version": "4.0.2"
  }
 },
 "nbformat": 4,
 "nbformat_minor": 2
}
