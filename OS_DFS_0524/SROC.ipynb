{
 "cells": [
  {
   "cell_type": "code",
   "execution_count": 2,
   "metadata": {},
   "outputs": [],
   "source": [
    "library(survivalROC)"
   ]
  },
  {
   "cell_type": "code",
   "execution_count": 3,
   "metadata": {},
   "outputs": [
    {
     "data": {
      "text/html": [
       "<table>\n",
       "<caption>A data.frame: 6 × 9</caption>\n",
       "<thead>\n",
       "\t<tr><th></th><th scope=col>Num</th><th scope=col>Y1</th><th scope=col>OS</th><th scope=col>Y2</th><th scope=col>DFS</th><th scope=col>CSOS</th><th scope=col>CSDFS</th><th scope=col>RSOS</th><th scope=col>RSDFS</th></tr>\n",
       "\t<tr><th></th><th scope=col>&lt;int&gt;</th><th scope=col>&lt;int&gt;</th><th scope=col>&lt;dbl&gt;</th><th scope=col>&lt;int&gt;</th><th scope=col>&lt;dbl&gt;</th><th scope=col>&lt;dbl&gt;</th><th scope=col>&lt;dbl&gt;</th><th scope=col>&lt;dbl&gt;</th><th scope=col>&lt;dbl&gt;</th></tr>\n",
       "</thead>\n",
       "<tbody>\n",
       "\t<tr><th scope=row>1</th><td>1</td><td>0</td><td> 626</td><td>0</td><td> 337</td><td>-0.23863495</td><td>-0.26249698</td><td> 0.11873860</td><td> 0.2014294</td></tr>\n",
       "\t<tr><th scope=row>2</th><td>2</td><td>1</td><td>2240</td><td>0</td><td> 948</td><td>-0.14046747</td><td>-0.10469514</td><td> 0.07578419</td><td> 0.1513460</td></tr>\n",
       "\t<tr><th scope=row>3</th><td>3</td><td>1</td><td>1759</td><td>1</td><td>1759</td><td>-0.23863495</td><td>-0.26249698</td><td> 0.11509943</td><td> 0.1688970</td></tr>\n",
       "\t<tr><th scope=row>4</th><td>4</td><td>1</td><td>1756</td><td>1</td><td>1756</td><td> 0.07073490</td><td> 0.05623062</td><td> 0.16582503</td><td> 0.3293500</td></tr>\n",
       "\t<tr><th scope=row>5</th><td>5</td><td>0</td><td>1213</td><td>0</td><td> 413</td><td> 0.04695314</td><td> 0.05623062</td><td>-0.07379806</td><td>-0.2466234</td></tr>\n",
       "\t<tr><th scope=row>6</th><td>6</td><td>1</td><td>2849</td><td>1</td><td>2849</td><td>-0.23863495</td><td>-0.22231370</td><td>-0.11292887</td><td>-0.0331718</td></tr>\n",
       "</tbody>\n",
       "</table>\n"
      ],
      "text/latex": [
       "A data.frame: 6 × 9\n",
       "\\begin{tabular}{r|lllllllll}\n",
       "  & Num & Y1 & OS & Y2 & DFS & CSOS & CSDFS & RSOS & RSDFS\\\\\n",
       "  & <int> & <int> & <dbl> & <int> & <dbl> & <dbl> & <dbl> & <dbl> & <dbl>\\\\\n",
       "\\hline\n",
       "\t1 & 1 & 0 &  626 & 0 &  337 & -0.23863495 & -0.26249698 &  0.11873860 &  0.2014294\\\\\n",
       "\t2 & 2 & 1 & 2240 & 0 &  948 & -0.14046747 & -0.10469514 &  0.07578419 &  0.1513460\\\\\n",
       "\t3 & 3 & 1 & 1759 & 1 & 1759 & -0.23863495 & -0.26249698 &  0.11509943 &  0.1688970\\\\\n",
       "\t4 & 4 & 1 & 1756 & 1 & 1756 &  0.07073490 &  0.05623062 &  0.16582503 &  0.3293500\\\\\n",
       "\t5 & 5 & 0 & 1213 & 0 &  413 &  0.04695314 &  0.05623062 & -0.07379806 & -0.2466234\\\\\n",
       "\t6 & 6 & 1 & 2849 & 1 & 2849 & -0.23863495 & -0.22231370 & -0.11292887 & -0.0331718\\\\\n",
       "\\end{tabular}\n"
      ],
      "text/markdown": [
       "\n",
       "A data.frame: 6 × 9\n",
       "\n",
       "| <!--/--> | Num &lt;int&gt; | Y1 &lt;int&gt; | OS &lt;dbl&gt; | Y2 &lt;int&gt; | DFS &lt;dbl&gt; | CSOS &lt;dbl&gt; | CSDFS &lt;dbl&gt; | RSOS &lt;dbl&gt; | RSDFS &lt;dbl&gt; |\n",
       "|---|---|---|---|---|---|---|---|---|---|\n",
       "| 1 | 1 | 0 |  626 | 0 |  337 | -0.23863495 | -0.26249698 |  0.11873860 |  0.2014294 |\n",
       "| 2 | 2 | 1 | 2240 | 0 |  948 | -0.14046747 | -0.10469514 |  0.07578419 |  0.1513460 |\n",
       "| 3 | 3 | 1 | 1759 | 1 | 1759 | -0.23863495 | -0.26249698 |  0.11509943 |  0.1688970 |\n",
       "| 4 | 4 | 1 | 1756 | 1 | 1756 |  0.07073490 |  0.05623062 |  0.16582503 |  0.3293500 |\n",
       "| 5 | 5 | 0 | 1213 | 0 |  413 |  0.04695314 |  0.05623062 | -0.07379806 | -0.2466234 |\n",
       "| 6 | 6 | 1 | 2849 | 1 | 2849 | -0.23863495 | -0.22231370 | -0.11292887 | -0.0331718 |\n",
       "\n"
      ],
      "text/plain": [
       "  Num Y1 OS   Y2 DFS  CSOS        CSDFS       RSOS        RSDFS     \n",
       "1 1   0   626 0   337 -0.23863495 -0.26249698  0.11873860  0.2014294\n",
       "2 2   1  2240 0   948 -0.14046747 -0.10469514  0.07578419  0.1513460\n",
       "3 3   1  1759 1  1759 -0.23863495 -0.26249698  0.11509943  0.1688970\n",
       "4 4   1  1756 1  1756  0.07073490  0.05623062  0.16582503  0.3293500\n",
       "5 5   0  1213 0   413  0.04695314  0.05623062 -0.07379806 -0.2466234\n",
       "6 6   1  2849 1  2849 -0.23863495 -0.22231370 -0.11292887 -0.0331718"
      ]
     },
     "metadata": {},
     "output_type": "display_data"
    }
   ],
   "source": [
    "data<- read.csv('score.csv',sep=',')\n",
    "nobs=NROW(data)\n",
    "data$OS<-data$OS*30\n",
    "data$DFS<-data$DFS*30\n",
    "head(data)"
   ]
  },
  {
   "cell_type": "markdown",
   "metadata": {},
   "source": [
    "# 2-year OS"
   ]
  },
  {
   "cell_type": "markdown",
   "metadata": {},
   "source": [
    "### Clinical Score"
   ]
  },
  {
   "cell_type": "code",
   "execution_count": 4,
   "metadata": {},
   "outputs": [
    {
     "name": "stdout",
     "output_type": "stream",
     "text": [
      "List of 6\n",
      " $ cut.values  : num [1:23] -Inf -0.31 -0.286 -0.262 -0.239 ...\n",
      " $ TP          : num [1:23] 1 0.783 0.755 0.708 0.363 ...\n",
      " $ FP          : num [1:23] 1 0.942 0.932 0.906 0.745 ...\n",
      " $ predict.time: num 730\n",
      " $ Survival    : num 0.984\n",
      " $ AUC         : num 0.258\n"
     ]
    }
   ],
   "source": [
    "cutoff=730 #730, 1095, 1825, 2555, 3650\n",
    "data2= survivalROC(  Stime=data$OS,##生存时间\n",
    "                     status=data$Y1,## 终止事件    \n",
    "                     marker = data$CSOS, ## marker value    \n",
    "                     predict.time = cutoff,## 预测时间截点\n",
    "                     span = 0.25*nobs^(-0.20))##span,NNE法的namda\n",
    "str(data2)## list结构"
   ]
  },
  {
   "cell_type": "code",
   "execution_count": 5,
   "metadata": {},
   "outputs": [
    {
     "data": {
      "image/png": "[encoded data removed]",
      "text/plain": [
       "Plot with title \"2-year OS Survival ROC\""
      ]
     },
     "metadata": {
      "image/png": {
       "height": 420,
       "width": 420
      }
     },
     "output_type": "display_data"
    }
   ],
   "source": [
    "plot(data2$FP, data2$TP, ## x=FP,y=TP\n",
    "     type=\"l\",col=\"red\", ##线条设置\n",
    "     xlim=c(0,1), ylim=c(0,1),   \n",
    "     xlab=paste( \"FP\", \"\\n\", \"AUC = \",round(data2$AUC,3)), ##连接\n",
    "     ylab=\"TP\",\n",
    "     main=\"2-year OS Survival ROC\")## \\n换行符\n",
    "abline(0,1,col=\"gray\",lty=2)##线条颜色"
   ]
  },
  {
   "cell_type": "code",
   "execution_count": 6,
   "metadata": {},
   "outputs": [
    {
     "name": "stdout",
     "output_type": "stream",
     "text": [
      "List of 6\n",
      " $ cut.values  : num [1:23] -Inf -0.31 -0.286 -0.262 -0.239 ...\n",
      " $ TP          : num [1:23] 1 0.663 0.663 0.663 0.329 ...\n",
      " $ FP          : num [1:23] 1 0.944 0.934 0.907 0.746 ...\n",
      " $ predict.time: num 730\n",
      " $ Survival    : num 0.984\n",
      " $ AUC         : num 0.239\n"
     ]
    }
   ],
   "source": [
    "data2= survivalROC(  Stime=data$OS,  \n",
    "                     status=data$Y1,      \n",
    "                     marker = data$CSOS,     \n",
    "                     predict.time =  cutoff, method=\"KM\")\n",
    "str(data2)"
   ]
  },
  {
   "cell_type": "code",
   "execution_count": 7,
   "metadata": {},
   "outputs": [
    {
     "data": {
      "image/png": "[encoded data removed]",
      "text/plain": [
       "Plot with title \"2-year OS Survival ROC\""
      ]
     },
     "metadata": {
      "image/png": {
       "height": 420,
       "width": 420
      }
     },
     "output_type": "display_data"
    }
   ],
   "source": [
    "plot(data2$FP, data2$TP, \n",
    "     type=\"l\",col=\"red\",xlim=c(0,1), ylim=c(0,1),   \n",
    "     xlab=paste( \"FP\", \"\\n\", \"AUC = \",round(data2$AUC,3)), \n",
    "     ylab=\"TP\",\n",
    "     main=\"2-year OS Survival ROC\")\n",
    "abline(0,1,col=\"gray\",lty=2)"
   ]
  },
  {
   "cell_type": "markdown",
   "metadata": {},
   "source": [
    "### Radiomics Score"
   ]
  },
  {
   "cell_type": "code",
   "execution_count": 9,
   "metadata": {},
   "outputs": [
    {
     "name": "stdout",
     "output_type": "stream",
     "text": [
      "List of 6\n",
      " $ cut.values  : num [1:384] -Inf -0.572 -0.572 -0.537 -0.525 ...\n",
      " $ TP          : num [1:384] 1 0.986 0.973 0.961 0.948 ...\n",
      " $ FP          : num [1:384] 1 0.998 0.995 0.993 0.99 ...\n",
      " $ predict.time: num 730\n",
      " $ Survival    : num 0.984\n",
      " $ AUC         : num 0.449\n"
     ]
    }
   ],
   "source": [
    "data2= survivalROC(  Stime=data$OS,##生存时间\n",
    "                     status=data$Y1,## 终止事件    \n",
    "                     marker = data$RSOS, ## marker value    \n",
    "                     predict.time = cutoff,## 预测时间截点\n",
    "                     span = 0.25*nobs^(-0.20))##span,NNE法的namda\n",
    "str(data2)## list结构"
   ]
  },
  {
   "cell_type": "code",
   "execution_count": 10,
   "metadata": {},
   "outputs": [
    {
     "data": {
      "image/png": "[encoded data removed]",
      "text/plain": [
       "Plot with title \"2-year OS Survival ROC\""
      ]
     },
     "metadata": {
      "image/png": {
       "height": 420,
       "width": 420
      }
     },
     "output_type": "display_data"
    }
   ],
   "source": [
    "plot(data2$FP, data2$TP, ## x=FP,y=TP\n",
    "     type=\"l\",col=\"red\", ##线条设置\n",
    "     xlim=c(0,1), ylim=c(0,1),   \n",
    "     xlab=paste( \"FP\", \"\\n\", \"AUC = \",round(data2$AUC,3)), ##连接\n",
    "     ylab=\"TP\",\n",
    "     main=\"2-year OS Survival ROC\")## \\n换行符\n",
    "abline(0,1,col=\"gray\",lty=2)##线条颜色"
   ]
  },
  {
   "cell_type": "code",
   "execution_count": 11,
   "metadata": {},
   "outputs": [
    {
     "name": "stdout",
     "output_type": "stream",
     "text": [
      "List of 6\n",
      " $ cut.values  : num [1:384] -Inf -0.572 -0.572 -0.537 -0.525 ...\n",
      " $ TP          : num [1:384] 1 1 1 1 1 ...\n",
      " $ FP          : num [1:384] 1 0.997 0.995 0.992 0.989 ...\n",
      " $ predict.time: num 730\n",
      " $ Survival    : num 0.984\n",
      " $ AUC         : num 0.403\n"
     ]
    }
   ],
   "source": [
    "data2= survivalROC(  Stime=data$OS,  \n",
    "                     status=data$Y1,      \n",
    "                     marker = data$RSOS,     \n",
    "                     predict.time =  cutoff, method=\"KM\")\n",
    "str(data2)"
   ]
  },
  {
   "cell_type": "code",
   "execution_count": 12,
   "metadata": {},
   "outputs": [
    {
     "data": {
      "image/png": "[encoded data removed]",
      "text/plain": [
       "Plot with title \"2-year OS Survival ROC\""
      ]
     },
     "metadata": {
      "image/png": {
       "height": 420,
       "width": 420
      }
     },
     "output_type": "display_data"
    }
   ],
   "source": [
    "plot(data2$FP, data2$TP, \n",
    "     type=\"l\",col=\"red\",xlim=c(0,1), ylim=c(0,1),   \n",
    "     xlab=paste( \"FP\", \"\\n\", \"AUC = \",round(data2$AUC,3)), \n",
    "     ylab=\"TP\",\n",
    "     main=\"2-year OS Survival ROC\")\n",
    "abline(0,1,col=\"gray\",lty=2)"
   ]
  },
  {
   "cell_type": "markdown",
   "metadata": {},
   "source": [
    "# 2-year DFS"
   ]
  },
  {
   "cell_type": "markdown",
   "metadata": {},
   "source": [
    "### Clinical Score"
   ]
  },
  {
   "cell_type": "code",
   "execution_count": 13,
   "metadata": {},
   "outputs": [
    {
     "name": "stdout",
     "output_type": "stream",
     "text": [
      "List of 6\n",
      " $ cut.values  : num [1:13] -Inf -0.2625 -0.2223 -0.1047 -0.0645 ...\n",
      " $ TP          : num [1:13] 1 0.284 0.246 0.246 0.242 ...\n",
      " $ FP          : num [1:13] 1 0.765 0.745 0.61 0.6 ...\n",
      " $ predict.time: num 730\n",
      " $ Survival    : num 0.989\n",
      " $ AUC         : num 0.244\n"
     ]
    }
   ],
   "source": [
    "data2= survivalROC(  Stime=data$DFS,##生存时间\n",
    "                     status=data$Y2,## 终止事件    \n",
    "                     marker = data$CSDFS, ## marker value    \n",
    "                     predict.time = cutoff,## 预测时间截点\n",
    "                     span = 0.25*nobs^(-0.20))##span,NNE法的namda\n",
    "str(data2)## list结构"
   ]
  },
  {
   "cell_type": "code",
   "execution_count": 14,
   "metadata": {},
   "outputs": [
    {
     "data": {
      "image/png": "[encoded data removed]",
      "text/plain": [
       "Plot with title \"2-year DFS Survival ROC\""
      ]
     },
     "metadata": {
      "image/png": {
       "height": 420,
       "width": 420
      }
     },
     "output_type": "display_data"
    }
   ],
   "source": [
    "plot(data2$FP, data2$TP, ## x=FP,y=TP\n",
    "     type=\"l\",col=\"red\", ##线条设置\n",
    "     xlim=c(0,1), ylim=c(0,1),   \n",
    "     xlab=paste( \"FP\", \"\\n\", \"AUC = \",round(data2$AUC,3)), ##连接\n",
    "     ylab=\"TP\",\n",
    "     main=\"2-year DFS Survival ROC\")## \\n换行符\n",
    "abline(0,1,col=\"gray\",lty=2)##线条颜色"
   ]
  },
  {
   "cell_type": "code",
   "execution_count": 15,
   "metadata": {},
   "outputs": [
    {
     "name": "stdout",
     "output_type": "stream",
     "text": [
      "List of 6\n",
      " $ cut.values  : num [1:13] -Inf -0.2625 -0.2223 -0.1047 -0.0645 ...\n",
      " $ TP          : num [1:13] 1 0.238 0.238 0.238 0.238 ...\n",
      " $ FP          : num [1:13] 1 0.766 0.745 0.61 0.599 ...\n",
      " $ predict.time: num 730\n",
      " $ Survival    : num 0.989\n",
      " $ AUC         : num 0.23\n"
     ]
    }
   ],
   "source": [
    "data2= survivalROC(  Stime=data$DFS,  \n",
    "                     status=data$Y2,      \n",
    "                     marker = data$CSDFS,     \n",
    "                     predict.time =  cutoff, method=\"KM\")\n",
    "str(data2)"
   ]
  },
  {
   "cell_type": "code",
   "execution_count": 16,
   "metadata": {},
   "outputs": [
    {
     "data": {
      "image/png": "[encoded data removed]",
      "text/plain": [
       "Plot with title \"2-year DFS Survival ROC\""
      ]
     },
     "metadata": {
      "image/png": {
       "height": 420,
       "width": 420
      }
     },
     "output_type": "display_data"
    }
   ],
   "source": [
    "plot(data2$FP, data2$TP, \n",
    "     type=\"l\",col=\"red\",xlim=c(0,1), ylim=c(0,1),   \n",
    "     xlab=paste( \"FP\", \"\\n\", \"AUC = \",round(data2$AUC,3)), \n",
    "     ylab=\"TP\",\n",
    "     main=\"2-year DFS Survival ROC\")\n",
    "abline(0,1,col=\"gray\",lty=2)"
   ]
  },
  {
   "cell_type": "markdown",
   "metadata": {},
   "source": [
    "### Radiomics Score"
   ]
  },
  {
   "cell_type": "code",
   "execution_count": 17,
   "metadata": {},
   "outputs": [
    {
     "name": "stdout",
     "output_type": "stream",
     "text": [
      "List of 6\n",
      " $ cut.values  : num [1:384] -Inf -0.795 -0.788 -0.782 -0.746 ...\n",
      " $ TP          : num [1:384] 1 0.972 0.946 0.92 0.895 ...\n",
      " $ FP          : num [1:384] 1 0.998 0.995 0.993 0.99 ...\n",
      " $ predict.time: num 730\n",
      " $ Survival    : num 0.989\n",
      " $ AUC         : num 0.349\n"
     ]
    }
   ],
   "source": [
    "data2= survivalROC(  Stime=data$DFS,##生存时间\n",
    "                     status=data$Y2,## 终止事件    \n",
    "                     marker = data$RSDFS, ## marker value    \n",
    "                     predict.time = cutoff,## 预测时间截点\n",
    "                     span = 0.25*nobs^(-0.20))##span,NNE法的namda\n",
    "str(data2)## list结构"
   ]
  },
  {
   "cell_type": "code",
   "execution_count": 18,
   "metadata": {},
   "outputs": [
    {
     "data": {
      "image/png": "[encoded data removed]",
      "text/plain": [
       "Plot with title \"2-year DFS Survival ROC\""
      ]
     },
     "metadata": {
      "image/png": {
       "height": 420,
       "width": 420
      }
     },
     "output_type": "display_data"
    }
   ],
   "source": [
    "plot(data2$FP, data2$TP, ## x=FP,y=TP\n",
    "     type=\"l\",col=\"red\", ##线条设置\n",
    "     xlim=c(0,1), ylim=c(0,1),   \n",
    "     xlab=paste( \"FP\", \"\\n\", \"AUC = \",round(data2$AUC,3)), ##连接\n",
    "     ylab=\"TP\",\n",
    "     main=\"2-year DFS Survival ROC\")## \\n换行符\n",
    "abline(0,1,col=\"gray\",lty=2)##线条颜色"
   ]
  },
  {
   "cell_type": "code",
   "execution_count": 19,
   "metadata": {},
   "outputs": [
    {
     "name": "stdout",
     "output_type": "stream",
     "text": [
      "List of 6\n",
      " $ cut.values  : num [1:384] -Inf -0.795 -0.788 -0.782 -0.746 ...\n",
      " $ TP          : num [1:384] 1 1 1 1 1 ...\n",
      " $ FP          : num [1:384] 1 0.997 0.995 0.992 0.989 ...\n",
      " $ predict.time: num 730\n",
      " $ Survival    : num 0.989\n",
      " $ AUC         : num 0.351\n"
     ]
    }
   ],
   "source": [
    "data2= survivalROC(  Stime=data$DFS,  \n",
    "                     status=data$Y2,      \n",
    "                     marker = data$RSDFS,     \n",
    "                     predict.time =  cutoff, method=\"KM\")\n",
    "str(data2)"
   ]
  },
  {
   "cell_type": "code",
   "execution_count": 20,
   "metadata": {},
   "outputs": [
    {
     "data": {
      "image/png": "[encoded data removed]",
      "text/plain": [
       "Plot with title \"2-year DFS Survival ROC\""
      ]
     },
     "metadata": {
      "image/png": {
       "height": 420,
       "width": 420
      }
     },
     "output_type": "display_data"
    }
   ],
   "source": [
    "plot(data2$FP, data2$TP, \n",
    "     type=\"l\",col=\"red\",xlim=c(0,1), ylim=c(0,1),   \n",
    "     xlab=paste( \"FP\", \"\\n\", \"AUC = \",round(data2$AUC,3)), \n",
    "     ylab=\"TP\",\n",
    "     main=\"2-year DFS Survival ROC\")\n",
    "abline(0,1,col=\"gray\",lty=2)"
   ]
  },
  {
   "cell_type": "markdown",
   "metadata": {},
   "source": [
    "# 3-year OS"
   ]
  },
  {
   "cell_type": "markdown",
   "metadata": {},
   "source": [
    "### Clinical Score"
   ]
  },
  {
   "cell_type": "code",
   "execution_count": 21,
   "metadata": {},
   "outputs": [
    {
     "name": "stdout",
     "output_type": "stream",
     "text": [
      "List of 6\n",
      " $ cut.values  : num [1:23] -Inf -0.31 -0.286 -0.262 -0.239 ...\n",
      " $ TP          : num [1:23] 1 0.918 0.908 0.889 0.758 ...\n",
      " $ FP          : num [1:23] 1 0.942 0.932 0.905 0.737 ...\n",
      " $ predict.time: num 1095\n",
      " $ Survival    : num 0.911\n",
      " $ AUC         : num 0.489\n"
     ]
    }
   ],
   "source": [
    "cutoff=1095 #730, 1095, 1825, 2555, 3650\n",
    "data3= survivalROC(  Stime=data$OS,##生存时间\n",
    "                     status=data$Y1,## 终止事件    \n",
    "                     marker = data$CSOS, ## marker value    \n",
    "                     predict.time = cutoff,## 预测时间截点\n",
    "                     span = 0.25*nobs^(-0.20))##span,NNE法的namda\n",
    "str(data3)## list结构"
   ]
  },
  {
   "cell_type": "code",
   "execution_count": 22,
   "metadata": {},
   "outputs": [
    {
     "data": {
      "image/png": "[encoded data removed]",
      "text/plain": [
       "Plot with title \"3-year OS Survival ROC\""
      ]
     },
     "metadata": {
      "image/png": {
       "height": 420,
       "width": 420
      }
     },
     "output_type": "display_data"
    }
   ],
   "source": [
    "plot(data3$FP, data3$TP, ## x=FP,y=TP\n",
    "     type=\"l\",col=\"red\", ##线条设置\n",
    "     xlim=c(0,1), ylim=c(0,1),   \n",
    "     xlab=paste( \"FP\", \"\\n\", \"AUC = \",round(data3$AUC,3)), ##连接\n",
    "     ylab=\"TP\",\n",
    "     main=\"3-year OS Survival ROC\")## \\n换行符\n",
    "abline(0,1,col=\"gray\",lty=2)##线条颜色"
   ]
  },
  {
   "cell_type": "code",
   "execution_count": 23,
   "metadata": {},
   "outputs": [
    {
     "name": "stdout",
     "output_type": "stream",
     "text": [
      "List of 6\n",
      " $ cut.values  : num [1:23] -Inf -0.31 -0.286 -0.262 -0.239 ...\n",
      " $ TP          : num [1:23] 1 0.873 0.874 0.87 0.738 ...\n",
      " $ FP          : num [1:23] 1 0.946 0.935 0.907 0.739 ...\n",
      " $ predict.time: num 1095\n",
      " $ Survival    : num 0.911\n",
      " $ AUC         : num 0.49\n"
     ]
    }
   ],
   "source": [
    "data3= survivalROC(  Stime=data$OS,  \n",
    "                     status=data$Y1,      \n",
    "                     marker = data$CSOS,     \n",
    "                     predict.time =  cutoff, method=\"KM\")\n",
    "str(data3)"
   ]
  },
  {
   "cell_type": "code",
   "execution_count": 24,
   "metadata": {},
   "outputs": [
    {
     "data": {
      "image/png": "[encoded data removed]",
      "text/plain": [
       "Plot with title \"3-year OS Survival ROC\""
      ]
     },
     "metadata": {
      "image/png": {
       "height": 420,
       "width": 420
      }
     },
     "output_type": "display_data"
    }
   ],
   "source": [
    "plot(data3$FP, data3$TP, \n",
    "     type=\"l\",col=\"red\",xlim=c(0,1), ylim=c(0,1),   \n",
    "     xlab=paste( \"FP\", \"\\n\", \"AUC = \",round(data3$AUC,3)), \n",
    "     ylab=\"TP\",\n",
    "     main=\"3-year OS Survival ROC\")\n",
    "abline(0,1,col=\"gray\",lty=2)"
   ]
  },
  {
   "cell_type": "markdown",
   "metadata": {},
   "source": [
    "### Radiomics Score"
   ]
  },
  {
   "cell_type": "code",
   "execution_count": 25,
   "metadata": {},
   "outputs": [
    {
     "name": "stdout",
     "output_type": "stream",
     "text": [
      "List of 6\n",
      " $ cut.values  : num [1:384] -Inf -0.572 -0.572 -0.537 -0.525 ...\n",
      " $ TP          : num [1:384] 1 0.997 0.994 0.991 0.989 ...\n",
      " $ FP          : num [1:384] 1 0.997 0.995 0.992 0.99 ...\n",
      " $ predict.time: num 1095\n",
      " $ Survival    : num 0.911\n",
      " $ AUC         : num 0.545\n"
     ]
    }
   ],
   "source": [
    "cutoff=1095 #730, 1095, 1825, 2555, 3650\n",
    "data3= survivalROC(  Stime=data$OS,##生存时间\n",
    "                     status=data$Y1,## 终止事件    \n",
    "                     marker = data$RSOS, ## marker value    \n",
    "                     predict.time = cutoff,## 预测时间截点\n",
    "                     span = 0.25*nobs^(-0.20))##span,NNE法的namda\n",
    "str(data3)## list结构"
   ]
  },
  {
   "cell_type": "code",
   "execution_count": 26,
   "metadata": {},
   "outputs": [
    {
     "data": {
      "image/png": "[encoded data removed]",
      "text/plain": [
       "Plot with title \"3-year OS Survival ROC\""
      ]
     },
     "metadata": {
      "image/png": {
       "height": 420,
       "width": 420
      }
     },
     "output_type": "display_data"
    }
   ],
   "source": [
    "plot(data3$FP, data3$TP, ## x=FP,y=TP\n",
    "     type=\"l\",col=\"red\", ##线条设置\n",
    "     xlim=c(0,1), ylim=c(0,1),   \n",
    "     xlab=paste( \"FP\", \"\\n\", \"AUC = \",round(data3$AUC,3)), ##连接\n",
    "     ylab=\"TP\",\n",
    "     main=\"3-year OS Survival ROC\")## \\n换行符\n",
    "abline(0,1,col=\"gray\",lty=2)##线条颜色"
   ]
  },
  {
   "cell_type": "code",
   "execution_count": 27,
   "metadata": {},
   "outputs": [
    {
     "name": "stdout",
     "output_type": "stream",
     "text": [
      "List of 6\n",
      " $ cut.values  : num [1:384] -Inf -0.572 -0.572 -0.537 -0.525 ...\n",
      " $ TP          : num [1:384] 1 1 1 1 1 ...\n",
      " $ FP          : num [1:384] 1 0.997 0.994 0.991 0.988 ...\n",
      " $ predict.time: num 1095\n",
      " $ Survival    : num 0.911\n",
      " $ AUC         : num 0.536\n"
     ]
    }
   ],
   "source": [
    "data3= survivalROC(  Stime=data$OS,  \n",
    "                     status=data$Y1,      \n",
    "                     marker = data$RSOS,     \n",
    "                     predict.time =  cutoff, method=\"KM\")\n",
    "str(data3)"
   ]
  },
  {
   "cell_type": "code",
   "execution_count": 28,
   "metadata": {},
   "outputs": [
    {
     "data": {
      "image/png": "[encoded data removed]",
      "text/plain": [
       "Plot with title \"3-year OS Survival ROC\""
      ]
     },
     "metadata": {
      "image/png": {
       "height": 420,
       "width": 420
      }
     },
     "output_type": "display_data"
    }
   ],
   "source": [
    "plot(data3$FP, data3$TP, \n",
    "     type=\"l\",col=\"red\",xlim=c(0,1), ylim=c(0,1),   \n",
    "     xlab=paste( \"FP\", \"\\n\", \"AUC = \",round(data3$AUC,3)), \n",
    "     ylab=\"TP\",\n",
    "     main=\"3-year OS Survival ROC\")\n",
    "abline(0,1,col=\"gray\",lty=2)"
   ]
  },
  {
   "cell_type": "markdown",
   "metadata": {},
   "source": [
    "# 3-year DFS"
   ]
  },
  {
   "cell_type": "markdown",
   "metadata": {},
   "source": [
    "### Clinical Score"
   ]
  },
  {
   "cell_type": "code",
   "execution_count": 29,
   "metadata": {},
   "outputs": [
    {
     "name": "stdout",
     "output_type": "stream",
     "text": [
      "List of 6\n",
      " $ cut.values  : num [1:13] -Inf -0.2625 -0.2223 -0.1047 -0.0645 ...\n",
      " $ TP          : num [1:13] 1 0.762 0.743 0.616 0.605 ...\n",
      " $ FP          : num [1:13] 1 0.76 0.738 0.605 0.594 ...\n",
      " $ predict.time: num 1095\n",
      " $ Survival    : num 0.912\n",
      " $ AUC         : num 0.491\n"
     ]
    }
   ],
   "source": [
    "cutoff=1095 #730, 1095, 1825, 2555, 3650\n",
    "data3= survivalROC(  Stime=data$DFS,##生存时间\n",
    "                     status=data$Y2,## 终止事件    \n",
    "                     marker = data$CSDFS, ## marker value    \n",
    "                     predict.time = cutoff,## 预测时间截点\n",
    "                     span = 0.25*nobs^(-0.20))##span,NNE法的namda\n",
    "str(data3)## list结构"
   ]
  },
  {
   "cell_type": "code",
   "execution_count": 30,
   "metadata": {},
   "outputs": [
    {
     "data": {
      "image/png": "[encoded data removed]",
      "text/plain": [
       "Plot with title \"3-year DFS Survival ROC\""
      ]
     },
     "metadata": {
      "image/png": {
       "height": 420,
       "width": 420
      }
     },
     "output_type": "display_data"
    }
   ],
   "source": [
    "plot(data3$FP, data3$TP, ## x=FP,y=TP\n",
    "     type=\"l\",col=\"red\", ##线条设置\n",
    "     xlim=c(0,1), ylim=c(0,1),   \n",
    "     xlab=paste( \"FP\", \"\\n\", \"AUC = \",round(data3$AUC,3)), ##连接\n",
    "     ylab=\"TP\",\n",
    "     main=\"3-year DFS Survival ROC\")## \\n换行符\n",
    "abline(0,1,col=\"gray\",lty=2)##线条颜色"
   ]
  },
  {
   "cell_type": "code",
   "execution_count": 31,
   "metadata": {},
   "outputs": [
    {
     "name": "stdout",
     "output_type": "stream",
     "text": [
      "List of 6\n",
      " $ cut.values  : num [1:13] -Inf -0.2625 -0.2223 -0.1047 -0.0645 ...\n",
      " $ TP          : num [1:13] 1 0.758 0.761 0.634 0.636 ...\n",
      " $ FP          : num [1:13] 1 0.76 0.737 0.603 0.591 ...\n",
      " $ predict.time: num 1095\n",
      " $ Survival    : num 0.912\n",
      " $ AUC         : num 0.51\n"
     ]
    }
   ],
   "source": [
    "data3= survivalROC(  Stime=data$DFS,  \n",
    "                     status=data$Y2,      \n",
    "                     marker = data$CSDFS,     \n",
    "                     predict.time =  cutoff, method=\"KM\")\n",
    "str(data3)"
   ]
  },
  {
   "cell_type": "code",
   "execution_count": 32,
   "metadata": {},
   "outputs": [
    {
     "data": {
      "image/png": "[encoded data removed]",
      "text/plain": [
       "Plot with title \"3-year DFS Survival ROC\""
      ]
     },
     "metadata": {
      "image/png": {
       "height": 420,
       "width": 420
      }
     },
     "output_type": "display_data"
    }
   ],
   "source": [
    "plot(data3$FP, data3$TP, \n",
    "     type=\"l\",col=\"red\",xlim=c(0,1), ylim=c(0,1),   \n",
    "     xlab=paste( \"FP\", \"\\n\", \"AUC = \",round(data3$AUC,3)), \n",
    "     ylab=\"TP\",\n",
    "     main=\"3-year DFS Survival ROC\")\n",
    "abline(0,1,col=\"gray\",lty=2)"
   ]
  },
  {
   "cell_type": "markdown",
   "metadata": {},
   "source": [
    "### Radiomics Score"
   ]
  },
  {
   "cell_type": "code",
   "execution_count": 33,
   "metadata": {},
   "outputs": [
    {
     "name": "stdout",
     "output_type": "stream",
     "text": [
      "List of 6\n",
      " $ cut.values  : num [1:384] -Inf -0.795 -0.788 -0.782 -0.746 ...\n",
      " $ TP          : num [1:384] 1 0.995 0.99 0.986 0.981 ...\n",
      " $ FP          : num [1:384] 1 0.998 0.995 0.993 0.99 ...\n",
      " $ predict.time: num 1095\n",
      " $ Survival    : num 0.912\n",
      " $ AUC         : num 0.51\n"
     ]
    }
   ],
   "source": [
    "cutoff=1095 #730, 1095, 1825, 2555, 3650\n",
    "data3= survivalROC(  Stime=data$DFS,##生存时间\n",
    "                     status=data$Y2,## 终止事件    \n",
    "                     marker = data$RSDFS, ## marker value    \n",
    "                     predict.time = cutoff,## 预测时间截点\n",
    "                     span = 0.25*nobs^(-0.20))##span,NNE法的namda\n",
    "str(data3)## list结构"
   ]
  },
  {
   "cell_type": "code",
   "execution_count": 34,
   "metadata": {},
   "outputs": [
    {
     "data": {
      "image/png": "[encoded data removed]",
      "text/plain": [
       "Plot with title \"3-year DFS Survival ROC\""
      ]
     },
     "metadata": {
      "image/png": {
       "height": 420,
       "width": 420
      }
     },
     "output_type": "display_data"
    }
   ],
   "source": [
    "plot(data3$FP, data3$TP, ## x=FP,y=TP\n",
    "     type=\"l\",col=\"red\", ##线条设置\n",
    "     xlim=c(0,1), ylim=c(0,1),   \n",
    "     xlab=paste( \"FP\", \"\\n\", \"AUC = \",round(data3$AUC,3)), ##连接\n",
    "     ylab=\"TP\",\n",
    "     main=\"3-year DFS Survival ROC\")## \\n换行符\n",
    "abline(0,1,col=\"gray\",lty=2)##线条颜色"
   ]
  },
  {
   "cell_type": "code",
   "execution_count": 35,
   "metadata": {},
   "outputs": [
    {
     "name": "stdout",
     "output_type": "stream",
     "text": [
      "List of 6\n",
      " $ cut.values  : num [1:384] -Inf -0.795 -0.788 -0.782 -0.746 ...\n",
      " $ TP          : num [1:384] 1 1 1 1 1 ...\n",
      " $ FP          : num [1:384] 1 0.997 0.994 0.991 0.988 ...\n",
      " $ predict.time: num 1095\n",
      " $ Survival    : num 0.912\n",
      " $ AUC         : num 0.524\n"
     ]
    }
   ],
   "source": [
    "data3= survivalROC(  Stime=data$DFS,  \n",
    "                     status=data$Y2,      \n",
    "                     marker = data$RSDFS,     \n",
    "                     predict.time =  cutoff, method=\"KM\")\n",
    "str(data3)"
   ]
  },
  {
   "cell_type": "code",
   "execution_count": 36,
   "metadata": {},
   "outputs": [
    {
     "data": {
      "image/png": "[encoded data removed]",
      "text/plain": [
       "Plot with title \"3-year DFS Survival ROC\""
      ]
     },
     "metadata": {
      "image/png": {
       "height": 420,
       "width": 420
      }
     },
     "output_type": "display_data"
    }
   ],
   "source": [
    "plot(data3$FP, data3$TP, \n",
    "     type=\"l\",col=\"red\",xlim=c(0,1), ylim=c(0,1),   \n",
    "     xlab=paste( \"FP\", \"\\n\", \"AUC = \",round(data3$AUC,3)), \n",
    "     ylab=\"TP\",\n",
    "     main=\"3-year DFS Survival ROC\")\n",
    "abline(0,1,col=\"gray\",lty=2)"
   ]
  },
  {
   "cell_type": "code",
   "execution_count": null,
   "metadata": {},
   "outputs": [],
   "source": []
  },
  {
   "cell_type": "markdown",
   "metadata": {},
   "source": [
    "# 5-year OS"
   ]
  },
  {
   "cell_type": "markdown",
   "metadata": {},
   "source": [
    "### Clinical Score"
   ]
  },
  {
   "cell_type": "code",
   "execution_count": 37,
   "metadata": {},
   "outputs": [
    {
     "name": "stdout",
     "output_type": "stream",
     "text": [
      "List of 6\n",
      " $ cut.values  : num [1:23] -Inf -0.31 -0.286 -0.262 -0.239 ...\n",
      " $ TP          : num [1:23] 1 0.951 0.942 0.919 0.768 ...\n",
      " $ FP          : num [1:23] 1 0.931 0.92 0.891 0.716 ...\n",
      " $ predict.time: num 1825\n",
      " $ Survival    : num 0.549\n",
      " $ AUC         : num 0.53\n"
     ]
    }
   ],
   "source": [
    "cutoff=1825 #730, 1095, 1825, 2555, 3650\n",
    "data5= survivalROC(  Stime=data$OS,##生存时间\n",
    "                     status=data$Y1,## 终止事件    \n",
    "                     marker = data$CSOS, ## marker value    \n",
    "                     predict.time = cutoff,## 预测时间截点\n",
    "                     span = 0.25*nobs^(-0.20))##span,NNE法的namda\n",
    "str(data5)## list结构"
   ]
  },
  {
   "cell_type": "code",
   "execution_count": 38,
   "metadata": {},
   "outputs": [
    {
     "data": {
      "image/png": "[encoded data removed]",
      "text/plain": [
       "Plot with title \"5-year OS Survival ROC\""
      ]
     },
     "metadata": {
      "image/png": {
       "height": 420,
       "width": 420
      }
     },
     "output_type": "display_data"
    }
   ],
   "source": [
    "plot(data5$FP, data5$TP, ## x=FP,y=TP\n",
    "     type=\"l\",col=\"red\", ##线条设置\n",
    "     xlim=c(0,1), ylim=c(0,1),   \n",
    "     xlab=paste( \"FP\", \"\\n\", \"AUC = \",round(data5$AUC,3)), ##连接\n",
    "     ylab=\"TP\",\n",
    "     main=\"5-year OS Survival ROC\")## \\n换行符\n",
    "abline(0,1,col=\"gray\",lty=2)##线条颜色"
   ]
  },
  {
   "cell_type": "code",
   "execution_count": 39,
   "metadata": {},
   "outputs": [
    {
     "name": "stdout",
     "output_type": "stream",
     "text": [
      "List of 6\n",
      " $ cut.values  : num [1:23] -Inf -0.31 -0.286 -0.262 -0.239 ...\n",
      " $ TP          : num [1:23] 1 0.938 0.933 0.92 0.772 ...\n",
      " $ FP          : num [1:23] 1 0.941 0.926 0.889 0.712 ...\n",
      " $ predict.time: num 1825\n",
      " $ Survival    : num 0.549\n",
      " $ AUC         : num 0.539\n"
     ]
    }
   ],
   "source": [
    "data5= survivalROC(  Stime=data$OS,  \n",
    "                     status=data$Y1,      \n",
    "                     marker = data$CSOS,     \n",
    "                     predict.time =  cutoff, method=\"KM\")\n",
    "str(data5)"
   ]
  },
  {
   "cell_type": "code",
   "execution_count": 40,
   "metadata": {},
   "outputs": [
    {
     "data": {
      "image/png": "[encoded data removed]",
      "text/plain": [
       "Plot with title \"5-year OS Survival ROC\""
      ]
     },
     "metadata": {
      "image/png": {
       "height": 420,
       "width": 420
      }
     },
     "output_type": "display_data"
    }
   ],
   "source": [
    "plot(data5$FP, data5$TP, \n",
    "     type=\"l\",col=\"red\",xlim=c(0,1), ylim=c(0,1),   \n",
    "     xlab=paste( \"FP\", \"\\n\", \"AUC = \",round(data5$AUC,3)), \n",
    "     ylab=\"TP\",\n",
    "     main=\"5-year OS Survival ROC\")\n",
    "abline(0,1,col=\"gray\",lty=2)"
   ]
  },
  {
   "cell_type": "markdown",
   "metadata": {},
   "source": [
    "### Radiomics Score"
   ]
  },
  {
   "cell_type": "code",
   "execution_count": 41,
   "metadata": {},
   "outputs": [
    {
     "name": "stdout",
     "output_type": "stream",
     "text": [
      "List of 6\n",
      " $ cut.values  : num [1:384] -Inf -0.572 -0.572 -0.537 -0.525 ...\n",
      " $ TP          : num [1:384] 1 0.997 0.995 0.992 0.989 ...\n",
      " $ FP          : num [1:384] 1 0.997 0.995 0.993 0.99 ...\n",
      " $ predict.time: num 1825\n",
      " $ Survival    : num 0.549\n",
      " $ AUC         : num 0.573\n"
     ]
    }
   ],
   "source": [
    "cutoff=1825 #730, 1095, 1825, 2555, 3650\n",
    "data5= survivalROC(  Stime=data$OS,##生存时间\n",
    "                     status=data$Y1,## 终止事件    \n",
    "                     marker = data$RSOS, ## marker value    \n",
    "                     predict.time = cutoff,## 预测时间截点\n",
    "                     span = 0.25*nobs^(-0.20))##span,NNE法的namda\n",
    "str(data5)## list结构"
   ]
  },
  {
   "cell_type": "code",
   "execution_count": 42,
   "metadata": {},
   "outputs": [
    {
     "data": {
      "image/png": "[encoded data removed]",
      "text/plain": [
       "Plot with title \"5-year OS Survival ROC\""
      ]
     },
     "metadata": {
      "image/png": {
       "height": 420,
       "width": 420
      }
     },
     "output_type": "display_data"
    }
   ],
   "source": [
    "plot(data5$FP, data5$TP, ## x=FP,y=TP\n",
    "     type=\"l\",col=\"red\", ##线条设置\n",
    "     xlim=c(0,1), ylim=c(0,1),   \n",
    "     xlab=paste( \"FP\", \"\\n\", \"AUC = \",round(data5$AUC,3)), ##连接\n",
    "     ylab=\"TP\",\n",
    "     main=\"5-year OS Survival ROC\")## \\n换行符\n",
    "abline(0,1,col=\"gray\",lty=2)##线条颜色"
   ]
  },
  {
   "cell_type": "code",
   "execution_count": 43,
   "metadata": {},
   "outputs": [
    {
     "name": "stdout",
     "output_type": "stream",
     "text": [
      "List of 6\n",
      " $ cut.values  : num [1:384] -Inf -0.572 -0.572 -0.537 -0.525 ...\n",
      " $ TP          : num [1:384] 1 0.994 0.994 0.995 0.995 ...\n",
      " $ FP          : num [1:384] 1 1 0.995 0.99 0.985 ...\n",
      " $ predict.time: num 1825\n",
      " $ Survival    : num 0.549\n",
      " $ AUC         : num 0.566\n"
     ]
    }
   ],
   "source": [
    "data5= survivalROC(  Stime=data$OS,  \n",
    "                     status=data$Y1,      \n",
    "                     marker = data$RSOS,     \n",
    "                     predict.time =  cutoff, method=\"KM\")\n",
    "str(data5)"
   ]
  },
  {
   "cell_type": "code",
   "execution_count": 44,
   "metadata": {},
   "outputs": [
    {
     "data": {
      "image/png": "[encoded data removed]",
      "text/plain": [
       "Plot with title \"5-year OS Survival ROC\""
      ]
     },
     "metadata": {
      "image/png": {
       "height": 420,
       "width": 420
      }
     },
     "output_type": "display_data"
    }
   ],
   "source": [
    "plot(data5$FP, data5$TP, \n",
    "     type=\"l\",col=\"red\",xlim=c(0,1), ylim=c(0,1),   \n",
    "     xlab=paste( \"FP\", \"\\n\", \"AUC = \",round(data5$AUC,3)), \n",
    "     ylab=\"TP\",\n",
    "     main=\"5-year OS Survival ROC\")\n",
    "abline(0,1,col=\"gray\",lty=2)"
   ]
  },
  {
   "cell_type": "markdown",
   "metadata": {},
   "source": [
    "# 5-year DFS"
   ]
  },
  {
   "cell_type": "markdown",
   "metadata": {},
   "source": [
    "### Clinical Score"
   ]
  },
  {
   "cell_type": "code",
   "execution_count": 45,
   "metadata": {},
   "outputs": [
    {
     "name": "stdout",
     "output_type": "stream",
     "text": [
      "List of 6\n",
      " $ cut.values  : num [1:13] -Inf -0.2625 -0.2223 -0.1047 -0.0645 ...\n",
      " $ TP          : num [1:13] 1 0.779 0.761 0.626 0.616 ...\n",
      " $ FP          : num [1:13] 1 0.743 0.721 0.589 0.578 ...\n",
      " $ predict.time: num 1825\n",
      " $ Survival    : num 0.556\n",
      " $ AUC         : num 0.54\n"
     ]
    }
   ],
   "source": [
    "cutoff=1825 #730, 1095, 1825, 2555, 3650\n",
    "data5= survivalROC(  Stime=data$DFS,##生存时间\n",
    "                     status=data$Y2,## 终止事件    \n",
    "                     marker = data$CSDFS, ## marker value    \n",
    "                     predict.time = cutoff,## 预测时间截点\n",
    "                     span = 0.25*nobs^(-0.20))##span,NNE法的namda\n",
    "str(data5)## list结构"
   ]
  },
  {
   "cell_type": "code",
   "execution_count": 46,
   "metadata": {},
   "outputs": [
    {
     "data": {
      "image/png": "[encoded data removed]",
      "text/plain": [
       "Plot with title \"5-year DFS Survival ROC\""
      ]
     },
     "metadata": {
      "image/png": {
       "height": 420,
       "width": 420
      }
     },
     "output_type": "display_data"
    }
   ],
   "source": [
    "plot(data5$FP, data5$TP, ## x=FP,y=TP\n",
    "     type=\"l\",col=\"red\", ##线条设置\n",
    "     xlim=c(0,1), ylim=c(0,1),   \n",
    "     xlab=paste( \"FP\", \"\\n\", \"AUC = \",round(data5$AUC,3)), ##连接\n",
    "     ylab=\"TP\",\n",
    "     main=\"5-year DFS Survival ROC\")## \\n换行符\n",
    "abline(0,1,col=\"gray\",lty=2)##线条颜色"
   ]
  },
  {
   "cell_type": "code",
   "execution_count": 47,
   "metadata": {},
   "outputs": [
    {
     "name": "stdout",
     "output_type": "stream",
     "text": [
      "List of 6\n",
      " $ cut.values  : num [1:13] -Inf -0.2625 -0.2223 -0.1047 -0.0645 ...\n",
      " $ TP          : num [1:13] 1 0.773 0.777 0.64 0.621 ...\n",
      " $ FP          : num [1:13] 1 0.749 0.708 0.578 0.575 ...\n",
      " $ predict.time: num 1825\n",
      " $ Survival    : num 0.556\n",
      " $ AUC         : num 0.541\n"
     ]
    }
   ],
   "source": [
    "data5= survivalROC(  Stime=data$DFS,  \n",
    "                     status=data$Y2,      \n",
    "                     marker = data$CSDFS,     \n",
    "                     predict.time =  cutoff, method=\"KM\")\n",
    "str(data5)"
   ]
  },
  {
   "cell_type": "code",
   "execution_count": 48,
   "metadata": {},
   "outputs": [
    {
     "data": {
      "image/png": "[encoded data removed]",
      "text/plain": [
       "Plot with title \"5-year DFS Survival ROC\""
      ]
     },
     "metadata": {
      "image/png": {
       "height": 420,
       "width": 420
      }
     },
     "output_type": "display_data"
    }
   ],
   "source": [
    "plot(data5$FP, data5$TP, \n",
    "     type=\"l\",col=\"red\",xlim=c(0,1), ylim=c(0,1),   \n",
    "     xlab=paste( \"FP\", \"\\n\", \"AUC = \",round(data5$AUC,3)), \n",
    "     ylab=\"TP\",\n",
    "     main=\"5-year DFS Survival ROC\")\n",
    "abline(0,1,col=\"gray\",lty=2)"
   ]
  },
  {
   "cell_type": "markdown",
   "metadata": {},
   "source": [
    "### Radiomics Score"
   ]
  },
  {
   "cell_type": "code",
   "execution_count": 49,
   "metadata": {},
   "outputs": [
    {
     "name": "stdout",
     "output_type": "stream",
     "text": [
      "List of 6\n",
      " $ cut.values  : num [1:384] -Inf -0.795 -0.788 -0.782 -0.746 ...\n",
      " $ TP          : num [1:384] 1 0.996 0.993 0.99 0.986 ...\n",
      " $ FP          : num [1:384] 1 0.998 0.996 0.994 0.992 ...\n",
      " $ predict.time: num 1825\n",
      " $ Survival    : num 0.556\n",
      " $ AUC         : num 0.528\n"
     ]
    }
   ],
   "source": [
    "cutoff=1825 #730, 1095, 1825, 2555, 3650\n",
    "data5= survivalROC(  Stime=data$DFS,##生存时间\n",
    "                     status=data$Y2,## 终止事件    \n",
    "                     marker = data$RSDFS, ## marker value    \n",
    "                     predict.time = cutoff,## 预测时间截点\n",
    "                     span = 0.25*nobs^(-0.20))##span,NNE法的namda\n",
    "str(data5)## list结构"
   ]
  },
  {
   "cell_type": "code",
   "execution_count": 50,
   "metadata": {},
   "outputs": [
    {
     "data": {
      "image/png": "[encoded data removed]",
      "text/plain": [
       "Plot with title \"5-year DFS Survival ROC\""
      ]
     },
     "metadata": {
      "image/png": {
       "height": 420,
       "width": 420
      }
     },
     "output_type": "display_data"
    }
   ],
   "source": [
    "plot(data5$FP, data5$TP, ## x=FP,y=TP\n",
    "     type=\"l\",col=\"red\", ##线条设置\n",
    "     xlim=c(0,1), ylim=c(0,1),   \n",
    "     xlab=paste( \"FP\", \"\\n\", \"AUC = \",round(data5$AUC,3)), ##连接\n",
    "     ylab=\"TP\",\n",
    "     main=\"5-year DFS Survival ROC\")## \\n换行符\n",
    "abline(0,1,col=\"gray\",lty=2)##线条颜色"
   ]
  },
  {
   "cell_type": "code",
   "execution_count": 51,
   "metadata": {},
   "outputs": [
    {
     "name": "stdout",
     "output_type": "stream",
     "text": [
      "List of 6\n",
      " $ cut.values  : num [1:384] -Inf -0.795 -0.788 -0.782 -0.746 ...\n",
      " $ TP          : num [1:384] 1 0.993 0.994 0.995 0.995 ...\n",
      " $ FP          : num [1:384] 1 1.001 0.995 0.99 0.985 ...\n",
      " $ predict.time: num 1825\n",
      " $ Survival    : num 0.556\n",
      " $ AUC         : num 0.532\n"
     ]
    }
   ],
   "source": [
    "data5= survivalROC(  Stime=data$DFS,  \n",
    "                     status=data$Y2,      \n",
    "                     marker = data$RSDFS,     \n",
    "                     predict.time =  cutoff, method=\"KM\")\n",
    "str(data5)"
   ]
  },
  {
   "cell_type": "code",
   "execution_count": 52,
   "metadata": {},
   "outputs": [
    {
     "data": {
      "image/png": "[encoded data removed]",
      "text/plain": [
       "Plot with title \"5-year DFS Survival ROC\""
      ]
     },
     "metadata": {
      "image/png": {
       "height": 420,
       "width": 420
      }
     },
     "output_type": "display_data"
    }
   ],
   "source": [
    "plot(data5$FP, data5$TP, \n",
    "     type=\"l\",col=\"red\",xlim=c(0,1), ylim=c(0,1),   \n",
    "     xlab=paste( \"FP\", \"\\n\", \"AUC = \",round(data5$AUC,3)), \n",
    "     ylab=\"TP\",\n",
    "     main=\"5-year DFS Survival ROC\")\n",
    "abline(0,1,col=\"gray\",lty=2)"
   ]
  },
  {
   "cell_type": "code",
   "execution_count": null,
   "metadata": {},
   "outputs": [],
   "source": []
  },
  {
   "cell_type": "markdown",
   "metadata": {},
   "source": [
    "# 7-year OS"
   ]
  },
  {
   "cell_type": "markdown",
   "metadata": {},
   "source": [
    "### Clinical Score"
   ]
  },
  {
   "cell_type": "code",
   "execution_count": 53,
   "metadata": {},
   "outputs": [
    {
     "name": "stdout",
     "output_type": "stream",
     "text": [
      "List of 6\n",
      " $ cut.values  : num [1:23] -Inf -0.31 -0.286 -0.262 -0.239 ...\n",
      " $ TP          : num [1:23] 1 0.943 0.933 0.907 0.744 ...\n",
      " $ FP          : num [1:23] 1 0.927 0.916 0.889 0.718 ...\n",
      " $ predict.time: num 2555\n",
      " $ Survival    : num 0.213\n",
      " $ AUC         : num 0.508\n"
     ]
    }
   ],
   "source": [
    "cutoff=2555 #730, 1095, 1825, 2555, 3650\n",
    "data7= survivalROC(  Stime=data$OS,##生存时间\n",
    "                     status=data$Y1,## 终止事件    \n",
    "                     marker = data$CSOS, ## marker value    \n",
    "                     predict.time = cutoff,## 预测时间截点\n",
    "                     span = 0.25*nobs^(-0.20))##span,NNE法的namda\n",
    "str(data7)## list结构"
   ]
  },
  {
   "cell_type": "code",
   "execution_count": 54,
   "metadata": {},
   "outputs": [
    {
     "data": {
      "image/png": "[encoded data removed]",
      "text/plain": [
       "Plot with title \"7-year OS Survival ROC\""
      ]
     },
     "metadata": {
      "image/png": {
       "height": 420,
       "width": 420
      }
     },
     "output_type": "display_data"
    }
   ],
   "source": [
    "plot(data7$FP, data7$TP, ## x=FP,y=TP\n",
    "     type=\"l\",col=\"red\", ##线条设置\n",
    "     xlim=c(0,1), ylim=c(0,1),   \n",
    "     xlab=paste( \"FP\", \"\\n\", \"AUC = \",round(data7$AUC,3)), ##连接\n",
    "     ylab=\"TP\",\n",
    "     main=\"7-year OS Survival ROC\")## \\n换行符\n",
    "abline(0,1,col=\"gray\",lty=2)##线条颜色"
   ]
  },
  {
   "cell_type": "code",
   "execution_count": 55,
   "metadata": {},
   "outputs": [
    {
     "name": "stdout",
     "output_type": "stream",
     "text": [
      "List of 6\n",
      " $ cut.values  : num [1:23] -Inf -0.31 -0.286 -0.262 -0.239 ...\n",
      " $ TP          : num [1:23] 1 0.94 0.934 0.907 0.743 ...\n",
      " $ FP          : num [1:23] 1 0.94 0.913 0.889 0.724 ...\n",
      " $ predict.time: num 2555\n",
      " $ Survival    : num 0.213\n",
      " $ AUC         : num 0.507\n"
     ]
    }
   ],
   "source": [
    "data7= survivalROC(  Stime=data$OS,  \n",
    "                     status=data$Y1,      \n",
    "                     marker = data$CSOS,     \n",
    "                     predict.time =  cutoff, method=\"KM\")\n",
    "str(data7)"
   ]
  },
  {
   "cell_type": "code",
   "execution_count": 56,
   "metadata": {},
   "outputs": [
    {
     "data": {
      "image/png": "[encoded data removed]",
      "text/plain": [
       "Plot with title \"7-year OS Survival ROC\""
      ]
     },
     "metadata": {
      "image/png": {
       "height": 420,
       "width": 420
      }
     },
     "output_type": "display_data"
    }
   ],
   "source": [
    "plot(data7$FP, data7$TP, \n",
    "     type=\"l\",col=\"red\",xlim=c(0,1), ylim=c(0,1),   \n",
    "     xlab=paste( \"FP\", \"\\n\", \"AUC = \",round(data7$AUC,3)), \n",
    "     ylab=\"TP\",\n",
    "     main=\"7-year OS Survival ROC\")\n",
    "abline(0,1,col=\"gray\",lty=2)"
   ]
  },
  {
   "cell_type": "markdown",
   "metadata": {},
   "source": [
    "### Radiomics Score"
   ]
  },
  {
   "cell_type": "code",
   "execution_count": 57,
   "metadata": {},
   "outputs": [
    {
     "name": "stdout",
     "output_type": "stream",
     "text": [
      "List of 6\n",
      " $ cut.values  : num [1:384] -Inf -0.572 -0.572 -0.537 -0.525 ...\n",
      " $ TP          : num [1:384] 1 0.998 0.995 0.993 0.991 ...\n",
      " $ FP          : num [1:384] 1 0.996 0.992 0.989 0.985 ...\n",
      " $ predict.time: num 2555\n",
      " $ Survival    : num 0.213\n",
      " $ AUC         : num 0.495\n"
     ]
    }
   ],
   "source": [
    "cutoff=2555 #730, 1095, 1825, 2555, 3650\n",
    "data7= survivalROC(  Stime=data$OS,##生存时间\n",
    "                     status=data$Y1,## 终止事件    \n",
    "                     marker = data$RSOS, ## marker value    \n",
    "                     predict.time = cutoff,## 预测时间截点\n",
    "                     span = 0.25*nobs^(-0.20))##span,NNE法的namda\n",
    "str(data7)## list结构"
   ]
  },
  {
   "cell_type": "code",
   "execution_count": 58,
   "metadata": {},
   "outputs": [
    {
     "data": {
      "image/png": "[encoded data removed]",
      "text/plain": [
       "Plot with title \"7-year OS Survival ROC\""
      ]
     },
     "metadata": {
      "image/png": {
       "height": 420,
       "width": 420
      }
     },
     "output_type": "display_data"
    }
   ],
   "source": [
    "plot(data7$FP, data7$TP, ## x=FP,y=TP\n",
    "     type=\"l\",col=\"red\", ##线条设置\n",
    "     xlim=c(0,1), ylim=c(0,1),   \n",
    "     xlab=paste( \"FP\", \"\\n\", \"AUC = \",round(data7$AUC,3)), ##连接\n",
    "     ylab=\"TP\",\n",
    "     main=\"7-year OS Survival ROC\")## \\n换行符\n",
    "abline(0,1,col=\"gray\",lty=2)##线条颜色"
   ]
  },
  {
   "cell_type": "code",
   "execution_count": 59,
   "metadata": {},
   "outputs": [
    {
     "name": "stdout",
     "output_type": "stream",
     "text": [
      "List of 6\n",
      " $ cut.values  : num [1:384] -Inf -0.572 -0.572 -0.537 -0.525 ...\n",
      " $ TP          : num [1:384] 1 0.997 0.997 0.997 0.994 ...\n",
      " $ FP          : num [1:384] 1 1 0.986 0.973 0.973 ...\n",
      " $ predict.time: num 2555\n",
      " $ Survival    : num 0.213\n",
      " $ AUC         : num 0.515\n"
     ]
    }
   ],
   "source": [
    "data7= survivalROC(  Stime=data$OS,  \n",
    "                     status=data$Y1,      \n",
    "                     marker = data$RSOS,     \n",
    "                     predict.time =  cutoff, method=\"KM\")\n",
    "str(data7)"
   ]
  },
  {
   "cell_type": "code",
   "execution_count": 60,
   "metadata": {},
   "outputs": [
    {
     "data": {
      "image/png": "[encoded data removed]",
      "text/plain": [
       "Plot with title \"7-year OS Survival ROC\""
      ]
     },
     "metadata": {
      "image/png": {
       "height": 420,
       "width": 420
      }
     },
     "output_type": "display_data"
    }
   ],
   "source": [
    "plot(data7$FP, data7$TP, \n",
    "     type=\"l\",col=\"red\",xlim=c(0,1), ylim=c(0,1),   \n",
    "     xlab=paste( \"FP\", \"\\n\", \"AUC = \",round(data7$AUC,3)), \n",
    "     ylab=\"TP\",\n",
    "     main=\"7-year OS Survival ROC\")\n",
    "abline(0,1,col=\"gray\",lty=2)"
   ]
  },
  {
   "cell_type": "markdown",
   "metadata": {},
   "source": [
    "# 7-year DFS"
   ]
  },
  {
   "cell_type": "markdown",
   "metadata": {},
   "source": [
    "### Clinical Score"
   ]
  },
  {
   "cell_type": "code",
   "execution_count": 61,
   "metadata": {},
   "outputs": [
    {
     "name": "stdout",
     "output_type": "stream",
     "text": [
      "List of 6\n",
      " $ cut.values  : num [1:13] -Inf -0.2625 -0.2223 -0.1047 -0.0645 ...\n",
      " $ TP          : num [1:13] 1 0.755 0.735 0.61 0.6 ...\n",
      " $ FP          : num [1:13] 1 0.778 0.754 0.588 0.577 ...\n",
      " $ predict.time: num 2555\n",
      " $ Survival    : num 0.218\n",
      " $ AUC         : num 0.52\n"
     ]
    }
   ],
   "source": [
    "cutoff=2555 #730, 1095, 1825, 2555, 3650\n",
    "data7= survivalROC(  Stime=data$DFS,##生存时间\n",
    "                     status=data$Y2,## 终止事件    \n",
    "                     marker = data$CSDFS, ## marker value    \n",
    "                     predict.time = cutoff,## 预测时间截点\n",
    "                     span = 0.25*nobs^(-0.20))##span,NNE法的namda\n",
    "str(data7)## list结构"
   ]
  },
  {
   "cell_type": "code",
   "execution_count": 62,
   "metadata": {},
   "outputs": [
    {
     "data": {
      "image/png": "[encoded data removed]",
      "text/plain": [
       "Plot with title \"7-year DFS Survival ROC\""
      ]
     },
     "metadata": {
      "image/png": {
       "height": 420,
       "width": 420
      }
     },
     "output_type": "display_data"
    }
   ],
   "source": [
    "plot(data7$FP, data7$TP, ## x=FP,y=TP\n",
    "     type=\"l\",col=\"red\", ##线条设置\n",
    "     xlim=c(0,1), ylim=c(0,1),   \n",
    "     xlab=paste( \"FP\", \"\\n\", \"AUC = \",round(data7$AUC,3)), ##连接\n",
    "     ylab=\"TP\",\n",
    "     main=\"7-year DFS Survival ROC\")## \\n换行符\n",
    "abline(0,1,col=\"gray\",lty=2)##线条颜色"
   ]
  },
  {
   "cell_type": "code",
   "execution_count": 63,
   "metadata": {},
   "outputs": [
    {
     "name": "stdout",
     "output_type": "stream",
     "text": [
      "List of 6\n",
      " $ cut.values  : num [1:13] -Inf -0.2625 -0.2223 -0.1047 -0.0645 ...\n",
      " $ TP          : num [1:13] 1 0.752 0.741 0.615 0.601 ...\n",
      " $ FP          : num [1:13] 1 0.786 0.732 0.571 0.574 ...\n",
      " $ predict.time: num 2555\n",
      " $ Survival    : num 0.218\n",
      " $ AUC         : num 0.517\n"
     ]
    }
   ],
   "source": [
    "data7= survivalROC(  Stime=data$DFS,  \n",
    "                     status=data$Y2,      \n",
    "                     marker = data$CSDFS,     \n",
    "                     predict.time =  cutoff, method=\"KM\")\n",
    "str(data7)"
   ]
  },
  {
   "cell_type": "code",
   "execution_count": 64,
   "metadata": {},
   "outputs": [
    {
     "data": {
      "image/png": "[encoded data removed]",
      "text/plain": [
       "Plot with title \"7-year DFS Survival ROC\""
      ]
     },
     "metadata": {
      "image/png": {
       "height": 420,
       "width": 420
      }
     },
     "output_type": "display_data"
    }
   ],
   "source": [
    "plot(data7$FP, data7$TP, \n",
    "     type=\"l\",col=\"red\",xlim=c(0,1), ylim=c(0,1),   \n",
    "     xlab=paste( \"FP\", \"\\n\", \"AUC = \",round(data7$AUC,3)), \n",
    "     ylab=\"TP\",\n",
    "     main=\"7-year DFS Survival ROC\")\n",
    "abline(0,1,col=\"gray\",lty=2)"
   ]
  },
  {
   "cell_type": "markdown",
   "metadata": {},
   "source": [
    "### Radiomics Score"
   ]
  },
  {
   "cell_type": "code",
   "execution_count": 65,
   "metadata": {},
   "outputs": [
    {
     "name": "stdout",
     "output_type": "stream",
     "text": [
      "List of 6\n",
      " $ cut.values  : num [1:384] -Inf -0.795 -0.788 -0.782 -0.746 ...\n",
      " $ TP          : num [1:384] 1 0.998 0.995 0.993 0.99 ...\n",
      " $ FP          : num [1:384] 1 0.997 0.994 0.991 0.988 ...\n",
      " $ predict.time: num 2555\n",
      " $ Survival    : num 0.218\n",
      " $ AUC         : num 0.554\n"
     ]
    }
   ],
   "source": [
    "cutoff=2555 #730, 1095, 1825, 2555, 3650\n",
    "data7= survivalROC(  Stime=data$DFS,##生存时间\n",
    "                     status=data$Y2,## 终止事件    \n",
    "                     marker = data$RSDFS, ## marker value    \n",
    "                     predict.time = cutoff,## 预测时间截点\n",
    "                     span = 0.25*nobs^(-0.20))##span,NNE法的namda\n",
    "str(data7)## list结构"
   ]
  },
  {
   "cell_type": "code",
   "execution_count": 66,
   "metadata": {},
   "outputs": [
    {
     "data": {
      "image/png": "[encoded data removed]",
      "text/plain": [
       "Plot with title \"7-year DFS Survival ROC\""
      ]
     },
     "metadata": {
      "image/png": {
       "height": 420,
       "width": 420
      }
     },
     "output_type": "display_data"
    }
   ],
   "source": [
    "plot(data7$FP, data7$TP, ## x=FP,y=TP\n",
    "     type=\"l\",col=\"red\", ##线条设置\n",
    "     xlim=c(0,1), ylim=c(0,1),   \n",
    "     xlab=paste( \"FP\", \"\\n\", \"AUC = \",round(data7$AUC,3)), ##连接\n",
    "     ylab=\"TP\",\n",
    "     main=\"7-year DFS Survival ROC\")## \\n换行符\n",
    "abline(0,1,col=\"gray\",lty=2)##线条颜色"
   ]
  },
  {
   "cell_type": "code",
   "execution_count": 67,
   "metadata": {},
   "outputs": [
    {
     "name": "stdout",
     "output_type": "stream",
     "text": [
      "List of 6\n",
      " $ cut.values  : num [1:384] -Inf -0.795 -0.788 -0.782 -0.746 ...\n",
      " $ TP          : num [1:384] 1 0.997 0.997 0.994 0.994 ...\n",
      " $ FP          : num [1:384] 1 1.001 0.986 0.987 0.973 ...\n",
      " $ predict.time: num 2555\n",
      " $ Survival    : num 0.218\n",
      " $ AUC         : num 0.569\n"
     ]
    }
   ],
   "source": [
    "data7= survivalROC(  Stime=data$DFS,  \n",
    "                     status=data$Y2,      \n",
    "                     marker = data$RSDFS,     \n",
    "                     predict.time =  cutoff, method=\"KM\")\n",
    "str(data7)"
   ]
  },
  {
   "cell_type": "code",
   "execution_count": 68,
   "metadata": {},
   "outputs": [
    {
     "data": {
      "image/png": "[encoded data removed]",
      "text/plain": [
       "Plot with title \"7-year DFS Survival ROC\""
      ]
     },
     "metadata": {
      "image/png": {
       "height": 420,
       "width": 420
      }
     },
     "output_type": "display_data"
    }
   ],
   "source": [
    "plot(data7$FP, data7$TP, \n",
    "     type=\"l\",col=\"red\",xlim=c(0,1), ylim=c(0,1),   \n",
    "     xlab=paste( \"FP\", \"\\n\", \"AUC = \",round(data7$AUC,3)), \n",
    "     ylab=\"TP\",\n",
    "     main=\"7-year DFS Survival ROC\")\n",
    "abline(0,1,col=\"gray\",lty=2)"
   ]
  },
  {
   "cell_type": "code",
   "execution_count": null,
   "metadata": {},
   "outputs": [],
   "source": []
  },
  {
   "cell_type": "markdown",
   "metadata": {},
   "source": [
    "# 10-year OS"
   ]
  },
  {
   "cell_type": "markdown",
   "metadata": {},
   "source": [
    "### Clinical Score"
   ]
  },
  {
   "cell_type": "code",
   "execution_count": 69,
   "metadata": {},
   "outputs": [
    {
     "name": "stdout",
     "output_type": "stream",
     "text": [
      "List of 6\n",
      " $ cut.values  : num [1:23] -Inf -0.31 -0.286 -0.262 -0.239 ...\n",
      " $ TP          : num [1:23] 1 0.94 0.929 0.903 0.737 ...\n",
      " $ FP          : num [1:23] 1 1 1 1 1 ...\n",
      " $ predict.time: num 3650\n",
      " $ Survival    : num 0.00617\n",
      " $ AUC         : num 0.477\n"
     ]
    }
   ],
   "source": [
    "cutoff=3650 #730, 1095, 1825, 2555, 3650\n",
    "data10= survivalROC(  Stime=data$OS,##生存时间\n",
    "                     status=data$Y1,## 终止事件    \n",
    "                     marker = data$CSOS, ## marker value    \n",
    "                     predict.time = cutoff,## 预测时间截点\n",
    "                     span = 0.25*nobs^(-0.20))##span,NNE法的namda\n",
    "str(data10)## list结构"
   ]
  },
  {
   "cell_type": "code",
   "execution_count": 70,
   "metadata": {},
   "outputs": [
    {
     "data": {
      "image/png": "[encoded data removed]",
      "text/plain": [
       "Plot with title \"10-year OS Survival ROC\""
      ]
     },
     "metadata": {
      "image/png": {
       "height": 420,
       "width": 420
      }
     },
     "output_type": "display_data"
    }
   ],
   "source": [
    "plot(data10$FP, data10$TP, ## x=FP,y=TP\n",
    "     type=\"l\",col=\"red\", ##线条设置\n",
    "     xlim=c(0,1), ylim=c(0,1),   \n",
    "     xlab=paste( \"FP\", \"\\n\", \"AUC = \",round(data10$AUC,3)), ##连接\n",
    "     ylab=\"TP\",\n",
    "     main=\"10-year OS Survival ROC\")## \\n换行符\n",
    "abline(0,1,col=\"gray\",lty=2)##线条颜色"
   ]
  },
  {
   "cell_type": "code",
   "execution_count": 71,
   "metadata": {},
   "outputs": [
    {
     "name": "stdout",
     "output_type": "stream",
     "text": [
      "List of 6\n",
      " $ cut.values  : num [1:23] -Inf -0.31 -0.286 -0.262 -0.239 ...\n",
      " $ TP          : num [1:23] 1 0.94 0.929 0.903 0.737 ...\n",
      " $ FP          : num [1:23] 1 0.997 1 0.989 0.98 ...\n",
      " $ predict.time: num 3650\n",
      " $ Survival    : num 0.00617\n",
      " $ AUC         : num 0.516\n"
     ]
    }
   ],
   "source": [
    "data10= survivalROC(  Stime=data$OS,  \n",
    "                     status=data$Y1,      \n",
    "                     marker = data$CSOS,     \n",
    "                     predict.time =  cutoff, method=\"KM\")\n",
    "str(data10)"
   ]
  },
  {
   "cell_type": "code",
   "execution_count": 72,
   "metadata": {},
   "outputs": [
    {
     "data": {
      "image/png": "[encoded data removed]",
      "text/plain": [
       "Plot with title \"10-year OS Survival ROC\""
      ]
     },
     "metadata": {
      "image/png": {
       "height": 420,
       "width": 420
      }
     },
     "output_type": "display_data"
    }
   ],
   "source": [
    "plot(data10$FP, data10$TP, \n",
    "     type=\"l\",col=\"red\",xlim=c(0,1), ylim=c(0,1),   \n",
    "     xlab=paste( \"FP\", \"\\n\", \"AUC = \",round(data10$AUC,3)), \n",
    "     ylab=\"TP\",\n",
    "     main=\"10-year OS Survival ROC\")\n",
    "abline(0,1,col=\"gray\",lty=2)"
   ]
  },
  {
   "cell_type": "markdown",
   "metadata": {},
   "source": [
    "### Radiomics Score"
   ]
  },
  {
   "cell_type": "code",
   "execution_count": 73,
   "metadata": {},
   "outputs": [
    {
     "name": "stdout",
     "output_type": "stream",
     "text": [
      "List of 6\n",
      " $ cut.values  : num [1:384] -Inf -0.572 -0.572 -0.537 -0.525 ...\n",
      " $ TP          : num [1:384] 1 0.997 0.995 0.992 0.99 ...\n",
      " $ FP          : num [1:384] 1 0.991 0.982 0.973 0.964 ...\n",
      " $ predict.time: num 3650\n",
      " $ Survival    : num 0.00617\n",
      " $ AUC         : num 0.465\n"
     ]
    }
   ],
   "source": [
    "cutoff=3650 #730, 1095, 1825, 2555, 3650\n",
    "data10= survivalROC(  Stime=data$OS,##生存时间\n",
    "                     status=data$Y1,## 终止事件    \n",
    "                     marker = data$RSOS, ## marker value    \n",
    "                     predict.time = cutoff,## 预测时间截点\n",
    "                     span = 0.25*nobs^(-0.20))##span,NNE法的namda\n",
    "str(data10)## list结构"
   ]
  },
  {
   "cell_type": "code",
   "execution_count": 74,
   "metadata": {},
   "outputs": [
    {
     "data": {
      "image/png": "[encoded data removed]",
      "text/plain": [
       "Plot with title \"10-year OS Survival ROC\""
      ]
     },
     "metadata": {
      "image/png": {
       "height": 420,
       "width": 420
      }
     },
     "output_type": "display_data"
    }
   ],
   "source": [
    "plot(data10$FP, data10$TP, ## x=FP,y=TP\n",
    "     type=\"l\",col=\"red\", ##线条设置\n",
    "     xlim=c(0,1), ylim=c(0,1),   \n",
    "     xlab=paste( \"FP\", \"\\n\", \"AUC = \",round(data10$AUC,3)), ##连接\n",
    "     ylab=\"TP\",\n",
    "     main=\"10-year OS Survival ROC\")## \\n换行符\n",
    "abline(0,1,col=\"gray\",lty=2)##线条颜色"
   ]
  },
  {
   "cell_type": "code",
   "execution_count": 75,
   "metadata": {},
   "outputs": [
    {
     "name": "stdout",
     "output_type": "stream",
     "text": [
      "List of 6\n",
      " $ cut.values  : num [1:384] -Inf -0.572 -0.572 -0.537 -0.525 ...\n",
      " $ TP          : num [1:384] 1 0.997 0.995 0.992 0.989 ...\n",
      " $ FP          : num [1:384] 1 1 1 1 1 ...\n",
      " $ predict.time: num 3650\n",
      " $ Survival    : num 0.00617\n",
      " $ AUC         : num 0.921\n"
     ]
    }
   ],
   "source": [
    "data10= survivalROC(  Stime=data$OS,  \n",
    "                     status=data$Y1,      \n",
    "                     marker = data$RSOS,     \n",
    "                     predict.time =  cutoff, method=\"KM\")\n",
    "str(data10)"
   ]
  },
  {
   "cell_type": "code",
   "execution_count": 76,
   "metadata": {},
   "outputs": [
    {
     "data": {
      "image/png": "[encoded data removed]",
      "text/plain": [
       "Plot with title \"10-year OS Survival ROC\""
      ]
     },
     "metadata": {
      "image/png": {
       "height": 420,
       "width": 420
      }
     },
     "output_type": "display_data"
    }
   ],
   "source": [
    "plot(data10$FP, data10$TP, \n",
    "     type=\"l\",col=\"red\",xlim=c(0,1), ylim=c(0,1),   \n",
    "     xlab=paste( \"FP\", \"\\n\", \"AUC = \",round(data10$AUC,3)), \n",
    "     ylab=\"TP\",\n",
    "     main=\"10-year OS Survival ROC\")\n",
    "abline(0,1,col=\"gray\",lty=2)"
   ]
  },
  {
   "cell_type": "markdown",
   "metadata": {},
   "source": [
    "# 10-year DFS"
   ]
  },
  {
   "cell_type": "markdown",
   "metadata": {},
   "source": [
    "### Clinical Score"
   ]
  },
  {
   "cell_type": "code",
   "execution_count": 77,
   "metadata": {},
   "outputs": [
    {
     "name": "stdout",
     "output_type": "stream",
     "text": [
      "List of 6\n",
      " $ cut.values  : num [1:13] -Inf -0.2625 -0.2223 -0.1047 -0.0645 ...\n",
      " $ TP          : num [1:13] 1 0.758 0.737 0.606 0.596 ...\n",
      " $ FP          : num [1:13] 1 1 0.977 0.523 0.505 ...\n",
      " $ predict.time: num 3650\n",
      " $ Survival    : num 0.00692\n",
      " $ AUC         : num 0.529\n"
     ]
    }
   ],
   "source": [
    "cutoff=3650 #730, 1095, 1825, 2555, 3650\n",
    "data10= survivalROC( Stime=data$DFS,##生存时间\n",
    "                     status=data$Y2,## 终止事件    \n",
    "                     marker = data$CSDFS, ## marker value    \n",
    "                     predict.time = cutoff,## 预测时间截点\n",
    "                     span = 0.25*nobs^(-0.20))##span,NNE法的namda\n",
    "str(data10)## list结构"
   ]
  },
  {
   "cell_type": "code",
   "execution_count": 78,
   "metadata": {},
   "outputs": [
    {
     "data": {
      "image/png": "[encoded data removed]",
      "text/plain": [
       "Plot with title \"10-year DFS Survival ROC\""
      ]
     },
     "metadata": {
      "image/png": {
       "height": 420,
       "width": 420
      }
     },
     "output_type": "display_data"
    }
   ],
   "source": [
    "plot(data10$FP, data10$TP, ## x=FP,y=TP\n",
    "     type=\"l\",col=\"red\", ##线条设置\n",
    "     xlim=c(0,1), ylim=c(0,1),   \n",
    "     xlab=paste( \"FP\", \"\\n\", \"AUC = \",round(data10$AUC,3)), ##连接\n",
    "     ylab=\"TP\",\n",
    "     main=\"10-year DFS Survival ROC\")## \\n换行符\n",
    "abline(0,1,col=\"gray\",lty=2)##线条颜色"
   ]
  },
  {
   "cell_type": "code",
   "execution_count": 79,
   "metadata": {},
   "outputs": [
    {
     "name": "stdout",
     "output_type": "stream",
     "text": [
      "List of 6\n",
      " $ cut.values  : num [1:13] -Inf -0.2625 -0.2223 -0.1047 -0.0645 ...\n",
      " $ TP          : num [1:13] 1 0.758 0.737 0.606 0.596 ...\n",
      " $ FP          : num [1:13] 1 0.998 1.01 0.5 0.502 ...\n",
      " $ predict.time: num 3650\n",
      " $ Survival    : num 0.00692\n",
      " $ AUC         : num 0.537\n"
     ]
    }
   ],
   "source": [
    "data10= survivalROC( Stime=data$DFS,  \n",
    "                     status=data$Y2,      \n",
    "                     marker = data$CSDFS,     \n",
    "                     predict.time =  cutoff, method=\"KM\")\n",
    "str(data10)"
   ]
  },
  {
   "cell_type": "code",
   "execution_count": 80,
   "metadata": {},
   "outputs": [
    {
     "data": {
      "image/png": "[encoded data removed]",
      "text/plain": [
       "Plot with title \"10-year DFS Survival ROC\""
      ]
     },
     "metadata": {
      "image/png": {
       "height": 420,
       "width": 420
      }
     },
     "output_type": "display_data"
    }
   ],
   "source": [
    "plot(data10$FP, data10$TP, \n",
    "     type=\"l\",col=\"red\",xlim=c(0,1), ylim=c(0,1),   \n",
    "     xlab=paste( \"FP\", \"\\n\", \"AUC = \",round(data10$AUC,3)), \n",
    "     ylab=\"TP\",\n",
    "     main=\"10-year DFS Survival ROC\")\n",
    "abline(0,1,col=\"gray\",lty=2)"
   ]
  },
  {
   "cell_type": "markdown",
   "metadata": {},
   "source": [
    "### Radiomics Score"
   ]
  },
  {
   "cell_type": "code",
   "execution_count": 81,
   "metadata": {},
   "outputs": [
    {
     "name": "stdout",
     "output_type": "stream",
     "text": [
      "List of 6\n",
      " $ cut.values  : num [1:384] -Inf -0.795 -0.788 -0.782 -0.746 ...\n",
      " $ TP          : num [1:384] 1 0.998 0.995 0.993 0.99 ...\n",
      " $ FP          : num [1:384] 1 0.972 0.945 0.918 0.893 ...\n",
      " $ predict.time: num 3650\n",
      " $ Survival    : num 0.00692\n",
      " $ AUC         : num 0.611\n"
     ]
    }
   ],
   "source": [
    "cutoff=3650 #730, 1095, 1825, 2555, 3650\n",
    "data10= survivalROC(  Stime=data$DFS,##生存时间\n",
    "                     status=data$Y2,## 终止事件    \n",
    "                     marker = data$RSDFS, ## marker value    \n",
    "                     predict.time = cutoff,## 预测时间截点\n",
    "                     span = 0.25*nobs^(-0.20))##span,NNE法的namda\n",
    "str(data10)## list结构"
   ]
  },
  {
   "cell_type": "code",
   "execution_count": 82,
   "metadata": {},
   "outputs": [
    {
     "data": {
      "image/png": "[encoded data removed]",
      "text/plain": [
       "Plot with title \"10-year DFS Survival ROC\""
      ]
     },
     "metadata": {
      "image/png": {
       "height": 420,
       "width": 420
      }
     },
     "output_type": "display_data"
    }
   ],
   "source": [
    "plot(data10$FP, data10$TP, ## x=FP,y=TP\n",
    "     type=\"l\",col=\"red\", ##线条设置\n",
    "     xlim=c(0,1), ylim=c(0,1),   \n",
    "     xlab=paste( \"FP\", \"\\n\", \"AUC = \",round(data10$AUC,3)), ##连接\n",
    "     ylab=\"TP\",\n",
    "     main=\"10-year DFS Survival ROC\")## \\n换行符\n",
    "abline(0,1,col=\"gray\",lty=2)##线条颜色"
   ]
  },
  {
   "cell_type": "code",
   "execution_count": 83,
   "metadata": {},
   "outputs": [
    {
     "name": "stdout",
     "output_type": "stream",
     "text": [
      "List of 6\n",
      " $ cut.values  : num [1:384] -Inf -0.795 -0.788 -0.782 -0.746 ...\n",
      " $ TP          : num [1:384] 1 0.997 0.995 0.992 0.989 ...\n",
      " $ FP          : num [1:384] 1 1 1 1 1.01 ...\n",
      " $ predict.time: num 3650\n",
      " $ Survival    : num 0.00692\n",
      " $ AUC         : num 0.96\n"
     ]
    }
   ],
   "source": [
    "data10= survivalROC(  Stime=data$DFS,  \n",
    "                     status=data$Y2,      \n",
    "                     marker = data$RSDFS,     \n",
    "                     predict.time =  cutoff, method=\"KM\")\n",
    "str(data10)"
   ]
  },
  {
   "cell_type": "code",
   "execution_count": 84,
   "metadata": {},
   "outputs": [
    {
     "data": {
      "image/png": "[encoded data removed]",
      "text/plain": [
       "Plot with title \"10-year DFS Survival ROC\""
      ]
     },
     "metadata": {
      "image/png": {
       "height": 420,
       "width": 420
      }
     },
     "output_type": "display_data"
    }
   ],
   "source": [
    "plot(data10$FP, data10$TP, \n",
    "     type=\"l\",col=\"red\",xlim=c(0,1), ylim=c(0,1),   \n",
    "     xlab=paste( \"FP\", \"\\n\", \"AUC = \",round(data10$AUC,3)), \n",
    "     ylab=\"TP\",\n",
    "     main=\"10-year DFS Survival ROC\")\n",
    "abline(0,1,col=\"gray\",lty=2)"
   ]
  },
  {
   "cell_type": "code",
   "execution_count": null,
   "metadata": {},
   "outputs": [],
   "source": []
  }
 ],
 "metadata": {
  "kernelspec": {
   "display_name": "R",
   "language": "R",
   "name": "ir"
  },
  "language_info": {
   "codemirror_mode": "r",
   "file_extension": ".r",
   "mimetype": "text/x-r-source",
   "name": "R",
   "pygments_lexer": "r",
   "version": "4.0.2"
  }
 },
 "nbformat": 4,
 "nbformat_minor": 2
}
